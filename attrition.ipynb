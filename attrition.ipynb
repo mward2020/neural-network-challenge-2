{
 "cells": [
  {
   "cell_type": "markdown",
   "metadata": {
    "id": "alIIEHibGc3M"
   },
   "source": [
    "## Part 1: Preprocessing"
   ]
  },
  {
   "cell_type": "code",
   "execution_count": 184,
   "metadata": {
    "colab": {
     "base_uri": "https://localhost:8080/",
     "height": 325
    },
    "executionInfo": {
     "elapsed": 12323,
     "status": "ok",
     "timestamp": 1730699226906,
     "user": {
      "displayName": "Alexander Booth",
      "userId": "02269714993535573104"
     },
     "user_tz": 360
    },
    "id": "6eDUJ4NtGc3P",
    "outputId": "eeae54b5-3d17-442d-94ba-00dd55b89964"
   },
   "outputs": [
    {
     "data": {
      "text/html": [
       "<div>\n",
       "<style scoped>\n",
       "    .dataframe tbody tr th:only-of-type {\n",
       "        vertical-align: middle;\n",
       "    }\n",
       "\n",
       "    .dataframe tbody tr th {\n",
       "        vertical-align: top;\n",
       "    }\n",
       "\n",
       "    .dataframe thead th {\n",
       "        text-align: right;\n",
       "    }\n",
       "</style>\n",
       "<table border=\"1\" class=\"dataframe\">\n",
       "  <thead>\n",
       "    <tr style=\"text-align: right;\">\n",
       "      <th></th>\n",
       "      <th>Age</th>\n",
       "      <th>Attrition</th>\n",
       "      <th>BusinessTravel</th>\n",
       "      <th>Department</th>\n",
       "      <th>DistanceFromHome</th>\n",
       "      <th>Education</th>\n",
       "      <th>EducationField</th>\n",
       "      <th>EnvironmentSatisfaction</th>\n",
       "      <th>HourlyRate</th>\n",
       "      <th>JobInvolvement</th>\n",
       "      <th>...</th>\n",
       "      <th>PerformanceRating</th>\n",
       "      <th>RelationshipSatisfaction</th>\n",
       "      <th>StockOptionLevel</th>\n",
       "      <th>TotalWorkingYears</th>\n",
       "      <th>TrainingTimesLastYear</th>\n",
       "      <th>WorkLifeBalance</th>\n",
       "      <th>YearsAtCompany</th>\n",
       "      <th>YearsInCurrentRole</th>\n",
       "      <th>YearsSinceLastPromotion</th>\n",
       "      <th>YearsWithCurrManager</th>\n",
       "    </tr>\n",
       "  </thead>\n",
       "  <tbody>\n",
       "    <tr>\n",
       "      <th>0</th>\n",
       "      <td>41</td>\n",
       "      <td>Yes</td>\n",
       "      <td>Travel_Rarely</td>\n",
       "      <td>Sales</td>\n",
       "      <td>1</td>\n",
       "      <td>2</td>\n",
       "      <td>Life Sciences</td>\n",
       "      <td>2</td>\n",
       "      <td>94</td>\n",
       "      <td>3</td>\n",
       "      <td>...</td>\n",
       "      <td>3</td>\n",
       "      <td>1</td>\n",
       "      <td>0</td>\n",
       "      <td>8</td>\n",
       "      <td>0</td>\n",
       "      <td>1</td>\n",
       "      <td>6</td>\n",
       "      <td>4</td>\n",
       "      <td>0</td>\n",
       "      <td>5</td>\n",
       "    </tr>\n",
       "    <tr>\n",
       "      <th>1</th>\n",
       "      <td>49</td>\n",
       "      <td>No</td>\n",
       "      <td>Travel_Frequently</td>\n",
       "      <td>Research &amp; Development</td>\n",
       "      <td>8</td>\n",
       "      <td>1</td>\n",
       "      <td>Life Sciences</td>\n",
       "      <td>3</td>\n",
       "      <td>61</td>\n",
       "      <td>2</td>\n",
       "      <td>...</td>\n",
       "      <td>4</td>\n",
       "      <td>4</td>\n",
       "      <td>1</td>\n",
       "      <td>10</td>\n",
       "      <td>3</td>\n",
       "      <td>3</td>\n",
       "      <td>10</td>\n",
       "      <td>7</td>\n",
       "      <td>1</td>\n",
       "      <td>7</td>\n",
       "    </tr>\n",
       "    <tr>\n",
       "      <th>2</th>\n",
       "      <td>37</td>\n",
       "      <td>Yes</td>\n",
       "      <td>Travel_Rarely</td>\n",
       "      <td>Research &amp; Development</td>\n",
       "      <td>2</td>\n",
       "      <td>2</td>\n",
       "      <td>Other</td>\n",
       "      <td>4</td>\n",
       "      <td>92</td>\n",
       "      <td>2</td>\n",
       "      <td>...</td>\n",
       "      <td>3</td>\n",
       "      <td>2</td>\n",
       "      <td>0</td>\n",
       "      <td>7</td>\n",
       "      <td>3</td>\n",
       "      <td>3</td>\n",
       "      <td>0</td>\n",
       "      <td>0</td>\n",
       "      <td>0</td>\n",
       "      <td>0</td>\n",
       "    </tr>\n",
       "    <tr>\n",
       "      <th>3</th>\n",
       "      <td>33</td>\n",
       "      <td>No</td>\n",
       "      <td>Travel_Frequently</td>\n",
       "      <td>Research &amp; Development</td>\n",
       "      <td>3</td>\n",
       "      <td>4</td>\n",
       "      <td>Life Sciences</td>\n",
       "      <td>4</td>\n",
       "      <td>56</td>\n",
       "      <td>3</td>\n",
       "      <td>...</td>\n",
       "      <td>3</td>\n",
       "      <td>3</td>\n",
       "      <td>0</td>\n",
       "      <td>8</td>\n",
       "      <td>3</td>\n",
       "      <td>3</td>\n",
       "      <td>8</td>\n",
       "      <td>7</td>\n",
       "      <td>3</td>\n",
       "      <td>0</td>\n",
       "    </tr>\n",
       "    <tr>\n",
       "      <th>4</th>\n",
       "      <td>27</td>\n",
       "      <td>No</td>\n",
       "      <td>Travel_Rarely</td>\n",
       "      <td>Research &amp; Development</td>\n",
       "      <td>2</td>\n",
       "      <td>1</td>\n",
       "      <td>Medical</td>\n",
       "      <td>1</td>\n",
       "      <td>40</td>\n",
       "      <td>3</td>\n",
       "      <td>...</td>\n",
       "      <td>3</td>\n",
       "      <td>4</td>\n",
       "      <td>1</td>\n",
       "      <td>6</td>\n",
       "      <td>3</td>\n",
       "      <td>3</td>\n",
       "      <td>2</td>\n",
       "      <td>2</td>\n",
       "      <td>2</td>\n",
       "      <td>2</td>\n",
       "    </tr>\n",
       "  </tbody>\n",
       "</table>\n",
       "<p>5 rows × 27 columns</p>\n",
       "</div>"
      ],
      "text/plain": [
       "   Age Attrition     BusinessTravel              Department  DistanceFromHome  \\\n",
       "0   41       Yes      Travel_Rarely                   Sales                 1   \n",
       "1   49        No  Travel_Frequently  Research & Development                 8   \n",
       "2   37       Yes      Travel_Rarely  Research & Development                 2   \n",
       "3   33        No  Travel_Frequently  Research & Development                 3   \n",
       "4   27        No      Travel_Rarely  Research & Development                 2   \n",
       "\n",
       "   Education EducationField  EnvironmentSatisfaction  HourlyRate  \\\n",
       "0          2  Life Sciences                        2          94   \n",
       "1          1  Life Sciences                        3          61   \n",
       "2          2          Other                        4          92   \n",
       "3          4  Life Sciences                        4          56   \n",
       "4          1        Medical                        1          40   \n",
       "\n",
       "   JobInvolvement  ...  PerformanceRating RelationshipSatisfaction  \\\n",
       "0               3  ...                  3                        1   \n",
       "1               2  ...                  4                        4   \n",
       "2               2  ...                  3                        2   \n",
       "3               3  ...                  3                        3   \n",
       "4               3  ...                  3                        4   \n",
       "\n",
       "   StockOptionLevel TotalWorkingYears  TrainingTimesLastYear WorkLifeBalance  \\\n",
       "0                 0                 8                      0               1   \n",
       "1                 1                10                      3               3   \n",
       "2                 0                 7                      3               3   \n",
       "3                 0                 8                      3               3   \n",
       "4                 1                 6                      3               3   \n",
       "\n",
       "   YearsAtCompany  YearsInCurrentRole  YearsSinceLastPromotion  \\\n",
       "0               6                   4                        0   \n",
       "1              10                   7                        1   \n",
       "2               0                   0                        0   \n",
       "3               8                   7                        3   \n",
       "4               2                   2                        2   \n",
       "\n",
       "   YearsWithCurrManager  \n",
       "0                     5  \n",
       "1                     7  \n",
       "2                     0  \n",
       "3                     0  \n",
       "4                     2  \n",
       "\n",
       "[5 rows x 27 columns]"
      ]
     },
     "execution_count": 184,
     "metadata": {},
     "output_type": "execute_result"
    }
   ],
   "source": [
    "# Import our dependencies\n",
    "from sklearn.model_selection import train_test_split\n",
    "from sklearn.preprocessing import StandardScaler, LabelEncoder, OneHotEncoder\n",
    "import pandas as pd\n",
    "import numpy as np\n",
    "from tensorflow.keras.models import Model\n",
    "from tensorflow.keras import layers\n",
    "from sklearn.model_selection import train_test_split\n",
    "import tensorflow as tf\n",
    "\n",
    "#  Import and read the attrition data\n",
    "attrition_df = pd.read_csv('https://static.bc-edx.com/ai/ail-v-1-0/m19/lms/datasets/attrition.csv')\n",
    "attrition_df.head()"
   ]
  },
  {
   "cell_type": "code",
   "execution_count": 185,
   "metadata": {
    "colab": {
     "base_uri": "https://localhost:8080/",
     "height": 930
    },
    "executionInfo": {
     "elapsed": 10,
     "status": "ok",
     "timestamp": 1730699226906,
     "user": {
      "displayName": "Alexander Booth",
      "userId": "02269714993535573104"
     },
     "user_tz": 360
    },
    "id": "g22aQSY4Gc3Q",
    "outputId": "e8b68509-45d8-42e0-a9db-1bdce48e4b2d"
   },
   "outputs": [
    {
     "data": {
      "text/plain": [
       "Age                         43\n",
       "Attrition                    2\n",
       "BusinessTravel               3\n",
       "Department                   3\n",
       "DistanceFromHome            29\n",
       "Education                    5\n",
       "EducationField               6\n",
       "EnvironmentSatisfaction      4\n",
       "HourlyRate                  71\n",
       "JobInvolvement               4\n",
       "JobLevel                     5\n",
       "JobRole                      9\n",
       "JobSatisfaction              4\n",
       "MaritalStatus                3\n",
       "NumCompaniesWorked          10\n",
       "OverTime                     2\n",
       "PercentSalaryHike           15\n",
       "PerformanceRating            2\n",
       "RelationshipSatisfaction     4\n",
       "StockOptionLevel             4\n",
       "TotalWorkingYears           40\n",
       "TrainingTimesLastYear        7\n",
       "WorkLifeBalance              4\n",
       "YearsAtCompany              37\n",
       "YearsInCurrentRole          19\n",
       "YearsSinceLastPromotion     16\n",
       "YearsWithCurrManager        18\n",
       "dtype: int64"
      ]
     },
     "execution_count": 185,
     "metadata": {},
     "output_type": "execute_result"
    }
   ],
   "source": [
    "# Determine the number of unique values in each column\n",
    "attrition_df.nunique()"
   ]
  },
  {
   "cell_type": "code",
   "execution_count": 186,
   "metadata": {
    "executionInfo": {
     "elapsed": 7,
     "status": "ok",
     "timestamp": 1730699226906,
     "user": {
      "displayName": "Alexander Booth",
      "userId": "02269714993535573104"
     },
     "user_tz": 360
    },
    "id": "50vMgBEnJbfM"
   },
   "outputs": [],
   "source": [
    "# Create y_df with the Attrition and Department columns\n",
    "y_df = attrition_df[['Attrition', 'Department']]"
   ]
  },
  {
   "cell_type": "code",
   "execution_count": 187,
   "metadata": {
    "colab": {
     "base_uri": "https://localhost:8080/",
     "height": 397
    },
    "executionInfo": {
     "elapsed": 125,
     "status": "ok",
     "timestamp": 1730699227025,
     "user": {
      "displayName": "Alexander Booth",
      "userId": "02269714993535573104"
     },
     "user_tz": 360
    },
    "id": "Virka0zLGc3R",
    "outputId": "24f181c9-7e2e-42cb-94e8-a75842f1ab01"
   },
   "outputs": [
    {
     "data": {
      "text/plain": [
       "Age                    int64\n",
       "DistanceFromHome       int64\n",
       "Education              int64\n",
       "YearsAtCompany         int64\n",
       "HourlyRate             int64\n",
       "BusinessTravel        object\n",
       "JobSatisfaction        int64\n",
       "NumCompaniesWorked     int64\n",
       "PercentSalaryHike      int64\n",
       "PerformanceRating      int64\n",
       "dtype: object"
      ]
     },
     "execution_count": 187,
     "metadata": {},
     "output_type": "execute_result"
    }
   ],
   "source": [
    "# Create a list of at least 10 column names to use as X data\n",
    "X_data = attrition_df[['Age', 'DistanceFromHome', 'Education', 'YearsAtCompany', 'HourlyRate', 'BusinessTravel', 'JobSatisfaction', 'NumCompaniesWorked', 'PercentSalaryHike', 'PerformanceRating' ]]\n",
    "\n",
    "# Create X_df using your selected columns\n",
    "X_df = X_data\n",
    "\n",
    "# Show the data types for X_df\n",
    "X_df.dtypes"
   ]
  },
  {
   "cell_type": "code",
   "execution_count": 188,
   "metadata": {
    "executionInfo": {
     "elapsed": 9,
     "status": "ok",
     "timestamp": 1730699227025,
     "user": {
      "displayName": "Alexander Booth",
      "userId": "02269714993535573104"
     },
     "user_tz": 360
    },
    "id": "KaJfdOGUMHMR"
   },
   "outputs": [],
   "source": [
    "# Split the data into training and testing sets\n",
    "X_train, X_test, y_train, y_test = train_test_split(X_df, y_df, random_state=7)"
   ]
  },
  {
   "cell_type": "code",
   "execution_count": 189,
   "metadata": {
    "colab": {
     "base_uri": "https://localhost:8080/",
     "height": 178
    },
    "executionInfo": {
     "elapsed": 8,
     "status": "ok",
     "timestamp": 1730699227025,
     "user": {
      "displayName": "Alexander Booth",
      "userId": "02269714993535573104"
     },
     "user_tz": 360
    },
    "id": "NYubUJqiLCSp",
    "outputId": "6116187c-4afa-4d4a-aeb9-fdc2131d0d58"
   },
   "outputs": [
    {
     "data": {
      "text/plain": [
       "BusinessTravel\n",
       "Travel_Rarely        777\n",
       "Travel_Frequently    213\n",
       "Non-Travel           112\n",
       "Name: count, dtype: int64"
      ]
     },
     "execution_count": 189,
     "metadata": {},
     "output_type": "execute_result"
    }
   ],
   "source": [
    "# Convert your X data to numeric data types however you see fit\n",
    "# Add new code cells as necessary\n",
    "X_train['BusinessTravel'].value_counts()"
   ]
  },
  {
   "cell_type": "code",
   "execution_count": 190,
   "metadata": {},
   "outputs": [
    {
     "data": {
      "text/html": [
       "<div>\n",
       "<style scoped>\n",
       "    .dataframe tbody tr th:only-of-type {\n",
       "        vertical-align: middle;\n",
       "    }\n",
       "\n",
       "    .dataframe tbody tr th {\n",
       "        vertical-align: top;\n",
       "    }\n",
       "\n",
       "    .dataframe thead th {\n",
       "        text-align: right;\n",
       "    }\n",
       "</style>\n",
       "<table border=\"1\" class=\"dataframe\">\n",
       "  <thead>\n",
       "    <tr style=\"text-align: right;\">\n",
       "      <th></th>\n",
       "      <th>Age</th>\n",
       "      <th>DistanceFromHome</th>\n",
       "      <th>Education</th>\n",
       "      <th>YearsAtCompany</th>\n",
       "      <th>HourlyRate</th>\n",
       "      <th>BusinessTravel</th>\n",
       "      <th>JobSatisfaction</th>\n",
       "      <th>NumCompaniesWorked</th>\n",
       "      <th>PercentSalaryHike</th>\n",
       "      <th>PerformanceRating</th>\n",
       "    </tr>\n",
       "  </thead>\n",
       "  <tbody>\n",
       "    <tr>\n",
       "      <th>1098</th>\n",
       "      <td>40</td>\n",
       "      <td>8</td>\n",
       "      <td>2</td>\n",
       "      <td>2</td>\n",
       "      <td>72</td>\n",
       "      <td>0</td>\n",
       "      <td>4</td>\n",
       "      <td>3</td>\n",
       "      <td>18</td>\n",
       "      <td>3</td>\n",
       "    </tr>\n",
       "    <tr>\n",
       "      <th>786</th>\n",
       "      <td>27</td>\n",
       "      <td>8</td>\n",
       "      <td>5</td>\n",
       "      <td>3</td>\n",
       "      <td>87</td>\n",
       "      <td>0</td>\n",
       "      <td>3</td>\n",
       "      <td>1</td>\n",
       "      <td>19</td>\n",
       "      <td>3</td>\n",
       "    </tr>\n",
       "    <tr>\n",
       "      <th>83</th>\n",
       "      <td>38</td>\n",
       "      <td>6</td>\n",
       "      <td>3</td>\n",
       "      <td>13</td>\n",
       "      <td>79</td>\n",
       "      <td>0</td>\n",
       "      <td>4</td>\n",
       "      <td>7</td>\n",
       "      <td>12</td>\n",
       "      <td>3</td>\n",
       "    </tr>\n",
       "    <tr>\n",
       "      <th>115</th>\n",
       "      <td>37</td>\n",
       "      <td>3</td>\n",
       "      <td>3</td>\n",
       "      <td>5</td>\n",
       "      <td>87</td>\n",
       "      <td>2</td>\n",
       "      <td>4</td>\n",
       "      <td>2</td>\n",
       "      <td>12</td>\n",
       "      <td>3</td>\n",
       "    </tr>\n",
       "    <tr>\n",
       "      <th>1134</th>\n",
       "      <td>35</td>\n",
       "      <td>7</td>\n",
       "      <td>2</td>\n",
       "      <td>1</td>\n",
       "      <td>63</td>\n",
       "      <td>2</td>\n",
       "      <td>4</td>\n",
       "      <td>1</td>\n",
       "      <td>18</td>\n",
       "      <td>3</td>\n",
       "    </tr>\n",
       "    <tr>\n",
       "      <th>...</th>\n",
       "      <td>...</td>\n",
       "      <td>...</td>\n",
       "      <td>...</td>\n",
       "      <td>...</td>\n",
       "      <td>...</td>\n",
       "      <td>...</td>\n",
       "      <td>...</td>\n",
       "      <td>...</td>\n",
       "      <td>...</td>\n",
       "      <td>...</td>\n",
       "    </tr>\n",
       "    <tr>\n",
       "      <th>211</th>\n",
       "      <td>30</td>\n",
       "      <td>1</td>\n",
       "      <td>1</td>\n",
       "      <td>11</td>\n",
       "      <td>88</td>\n",
       "      <td>0</td>\n",
       "      <td>3</td>\n",
       "      <td>1</td>\n",
       "      <td>22</td>\n",
       "      <td>4</td>\n",
       "    </tr>\n",
       "    <tr>\n",
       "      <th>502</th>\n",
       "      <td>53</td>\n",
       "      <td>1</td>\n",
       "      <td>1</td>\n",
       "      <td>14</td>\n",
       "      <td>34</td>\n",
       "      <td>2</td>\n",
       "      <td>1</td>\n",
       "      <td>7</td>\n",
       "      <td>20</td>\n",
       "      <td>4</td>\n",
       "    </tr>\n",
       "    <tr>\n",
       "      <th>537</th>\n",
       "      <td>27</td>\n",
       "      <td>10</td>\n",
       "      <td>2</td>\n",
       "      <td>9</td>\n",
       "      <td>32</td>\n",
       "      <td>1</td>\n",
       "      <td>1</td>\n",
       "      <td>1</td>\n",
       "      <td>21</td>\n",
       "      <td>4</td>\n",
       "    </tr>\n",
       "    <tr>\n",
       "      <th>1220</th>\n",
       "      <td>36</td>\n",
       "      <td>2</td>\n",
       "      <td>4</td>\n",
       "      <td>13</td>\n",
       "      <td>51</td>\n",
       "      <td>2</td>\n",
       "      <td>4</td>\n",
       "      <td>3</td>\n",
       "      <td>15</td>\n",
       "      <td>3</td>\n",
       "    </tr>\n",
       "    <tr>\n",
       "      <th>175</th>\n",
       "      <td>56</td>\n",
       "      <td>8</td>\n",
       "      <td>3</td>\n",
       "      <td>2</td>\n",
       "      <td>67</td>\n",
       "      <td>2</td>\n",
       "      <td>1</td>\n",
       "      <td>4</td>\n",
       "      <td>18</td>\n",
       "      <td>3</td>\n",
       "    </tr>\n",
       "  </tbody>\n",
       "</table>\n",
       "<p>1102 rows × 10 columns</p>\n",
       "</div>"
      ],
      "text/plain": [
       "      Age  DistanceFromHome  Education  YearsAtCompany  HourlyRate  \\\n",
       "1098   40                 8          2               2          72   \n",
       "786    27                 8          5               3          87   \n",
       "83     38                 6          3              13          79   \n",
       "115    37                 3          3               5          87   \n",
       "1134   35                 7          2               1          63   \n",
       "...   ...               ...        ...             ...         ...   \n",
       "211    30                 1          1              11          88   \n",
       "502    53                 1          1              14          34   \n",
       "537    27                10          2               9          32   \n",
       "1220   36                 2          4              13          51   \n",
       "175    56                 8          3               2          67   \n",
       "\n",
       "      BusinessTravel  JobSatisfaction  NumCompaniesWorked  PercentSalaryHike  \\\n",
       "1098               0                4                   3                 18   \n",
       "786                0                3                   1                 19   \n",
       "83                 0                4                   7                 12   \n",
       "115                2                4                   2                 12   \n",
       "1134               2                4                   1                 18   \n",
       "...              ...              ...                 ...                ...   \n",
       "211                0                3                   1                 22   \n",
       "502                2                1                   7                 20   \n",
       "537                1                1                   1                 21   \n",
       "1220               2                4                   3                 15   \n",
       "175                2                1                   4                 18   \n",
       "\n",
       "      PerformanceRating  \n",
       "1098                  3  \n",
       "786                   3  \n",
       "83                    3  \n",
       "115                   3  \n",
       "1134                  3  \n",
       "...                 ...  \n",
       "211                   4  \n",
       "502                   4  \n",
       "537                   4  \n",
       "1220                  3  \n",
       "175                   3  \n",
       "\n",
       "[1102 rows x 10 columns]"
      ]
     },
     "execution_count": 190,
     "metadata": {},
     "output_type": "execute_result"
    }
   ],
   "source": [
    "# Create a LabelEncoder for the BusinessTravel column and fit it to the training and testing data\n",
    "le = LabelEncoder()\n",
    "X_train['BusinessTravel'] = le.fit_transform(X_train['BusinessTravel'])\n",
    "X_test['BusinessTravel'] = le.transform(X_test['BusinessTravel'])\n",
    "X_train"
   ]
  },
  {
   "cell_type": "code",
   "execution_count": 191,
   "metadata": {
    "executionInfo": {
     "elapsed": 6,
     "status": "ok",
     "timestamp": 1730699227162,
     "user": {
      "displayName": "Alexander Booth",
      "userId": "02269714993535573104"
     },
     "user_tz": 360
    },
    "id": "EWA-aIA5Gc3T"
   },
   "outputs": [
    {
     "name": "stderr",
     "output_type": "stream",
     "text": [
      "c:\\Users\\mward\\anaconda3\\envs\\dev\\lib\\site-packages\\sklearn\\base.py:493: UserWarning: X does not have valid feature names, but StandardScaler was fitted with feature names\n",
      "  warnings.warn(\n"
     ]
    }
   ],
   "source": [
    "# Create a StandardScaler\n",
    "scaler = StandardScaler()\n",
    "\n",
    "# Fit the StandardScaler to the training data\n",
    "X_train = scaler.fit_transform(X_train)\n",
    "\n",
    "# Scale the training and testing data\n",
    "X_train_scaled = scaler.transform(X_train)\n",
    "X_test_scaled = scaler.transform(X_test)"
   ]
  },
  {
   "cell_type": "code",
   "execution_count": 192,
   "metadata": {
    "colab": {
     "base_uri": "https://localhost:8080/"
    },
    "executionInfo": {
     "elapsed": 99,
     "status": "ok",
     "timestamp": 1730699227256,
     "user": {
      "displayName": "Alexander Booth",
      "userId": "02269714993535573104"
     },
     "user_tz": 360
    },
    "id": "-z0Mky8vQSz4",
    "outputId": "5024d63f-7e4e-4a91-fb76-0b2c79c1bcfb"
   },
   "outputs": [],
   "source": [
    "# Create a OneHotEncoder for the Department column\n",
    "ohe_dept = OneHotEncoder(handle_unknown='ignore', sparse_output=False)\n",
    "\n",
    "# Fit the encoder to the training data\n",
    "ohe_dept.fit(np.array(y_train['Department']).reshape(-1, 1))\n",
    "\n",
    "# Create two new variables by applying the encoder\n",
    "# to the training and testing data\n",
    "y_train_ohe_dept = ohe_dept.transform(np.array(y_train['Department']).reshape(-1, 1))\n",
    "y_test_ohe_dept = ohe_dept.transform(np.array(y_test['Department']).reshape(-1, 1))"
   ]
  },
  {
   "cell_type": "code",
   "execution_count": 193,
   "metadata": {
    "colab": {
     "base_uri": "https://localhost:8080/"
    },
    "executionInfo": {
     "elapsed": 5,
     "status": "ok",
     "timestamp": 1730699227257,
     "user": {
      "displayName": "Alexander Booth",
      "userId": "02269714993535573104"
     },
     "user_tz": 360
    },
    "id": "-G4DSpvFRrk4",
    "outputId": "1821049e-a4f0-437f-b8a7-e415431fbdb0"
   },
   "outputs": [],
   "source": [
    "# Create a OneHotEncoder for the Attrition column\n",
    "ohe_att = OneHotEncoder(handle_unknown='ignore', sparse_output=False)\n",
    "\n",
    "# Fit the encoder to the training data\n",
    "ohe_att.fit(np.array(y_train['Attrition']).reshape(-1, 1))\n",
    "\n",
    "# Create two new variables by applying the encoder\n",
    "# to the training and testing data\n",
    "y_train_ohe_att = ohe_att.transform(np.array(y_train['Attrition']).reshape(-1, 1))\n",
    "y_test_ohe_att = ohe_att.transform(np.array(y_test['Attrition']).reshape(-1, 1))"
   ]
  },
  {
   "cell_type": "markdown",
   "metadata": {
    "id": "ykNmu_WWGc3T"
   },
   "source": [
    "## Part 2: Create, Compile, and Train the Model"
   ]
  },
  {
   "cell_type": "code",
   "execution_count": 194,
   "metadata": {
    "executionInfo": {
     "elapsed": 309,
     "status": "ok",
     "timestamp": 1730699227563,
     "user": {
      "displayName": "Alexander Booth",
      "userId": "02269714993535573104"
     },
     "user_tz": 360
    },
    "id": "WUptZqmSGc3T"
   },
   "outputs": [],
   "source": [
    "# Find the number of columns in the X training data.\n",
    "X_train_scaled.shape[1]\n",
    "\n",
    "# Create the input layer\n",
    "input_layer = tf.keras.layers.Input(shape=(X_train_scaled.shape[1],))\n",
    "\n",
    "# Create at least two shared layers\n",
    "shared_layer1 = tf.keras.layers.Dense(units=64, activation=\"relu\")(input_layer)\n",
    "shared_layer2 = tf.keras.layers.Dense(units=64, activation=\"relu\")(shared_layer1)"
   ]
  },
  {
   "cell_type": "code",
   "execution_count": 195,
   "metadata": {
    "executionInfo": {
     "elapsed": 118,
     "status": "ok",
     "timestamp": 1730699227678,
     "user": {
      "displayName": "Alexander Booth",
      "userId": "02269714993535573104"
     },
     "user_tz": 360
    },
    "id": "JukjTm2yTEqd"
   },
   "outputs": [],
   "source": [
    "# Create a branch for Department\n",
    "# with a hidden layer and an output layer\n",
    "\n",
    "# Create the hidden layer\n",
    "dept_dense = tf.keras.layers.Dense(units=64, activation=\"relu\")(shared_layer2)\n",
    "\n",
    "# Create the output layer\n",
    "dept_output = tf.keras.layers.Dense(y_train_ohe_dept.shape[1],\n",
    "                             activation='sigmoid',\n",
    "                             name='Department')(dept_dense)"
   ]
  },
  {
   "cell_type": "code",
   "execution_count": 196,
   "metadata": {
    "executionInfo": {
     "elapsed": 9,
     "status": "ok",
     "timestamp": 1730699227679,
     "user": {
      "displayName": "Alexander Booth",
      "userId": "02269714993535573104"
     },
     "user_tz": 360
    },
    "id": "9OqhUiOJUBkR"
   },
   "outputs": [],
   "source": [
    "# Create a branch for Attrition\n",
    "# with a hidden layer and an output layer\n",
    "\n",
    "# Create the hidden layer\n",
    "attrition_dense = tf.keras.layers.Dense(units=64, activation=\"relu\")(shared_layer2)\n",
    "\n",
    "# Create the output layer\n",
    "attrition_output = tf.keras.layers.Dense(y_train_ohe_att.shape[1],\n",
    "                             activation='sigmoid',\n",
    "                             name='Attrition')(attrition_dense)"
   ]
  },
  {
   "cell_type": "code",
   "execution_count": 197,
   "metadata": {
    "colab": {
     "base_uri": "https://localhost:8080/",
     "height": 361
    },
    "executionInfo": {
     "elapsed": 108,
     "status": "ok",
     "timestamp": 1730699227780,
     "user": {
      "displayName": "Alexander Booth",
      "userId": "02269714993535573104"
     },
     "user_tz": 360
    },
    "id": "twmuejdxGc3T",
    "outputId": "dd9ce242-6a66-4709-ba13-4b13551c22e0"
   },
   "outputs": [
    {
     "data": {
      "text/html": [
       "<pre style=\"white-space:pre;overflow-x:auto;line-height:normal;font-family:Menlo,'DejaVu Sans Mono',consolas,'Courier New',monospace\"><span style=\"font-weight: bold\">Model: \"functional_10\"</span>\n",
       "</pre>\n"
      ],
      "text/plain": [
       "\u001b[1mModel: \"functional_10\"\u001b[0m\n"
      ]
     },
     "metadata": {},
     "output_type": "display_data"
    },
    {
     "data": {
      "text/html": [
       "<pre style=\"white-space:pre;overflow-x:auto;line-height:normal;font-family:Menlo,'DejaVu Sans Mono',consolas,'Courier New',monospace\">┏━━━━━━━━━━━━━━━━━━━━━┳━━━━━━━━━━━━━━━━━━━┳━━━━━━━━━━━━┳━━━━━━━━━━━━━━━━━━━┓\n",
       "┃<span style=\"font-weight: bold\"> Layer (type)        </span>┃<span style=\"font-weight: bold\"> Output Shape      </span>┃<span style=\"font-weight: bold\">    Param # </span>┃<span style=\"font-weight: bold\"> Connected to      </span>┃\n",
       "┡━━━━━━━━━━━━━━━━━━━━━╇━━━━━━━━━━━━━━━━━━━╇━━━━━━━━━━━━╇━━━━━━━━━━━━━━━━━━━┩\n",
       "│ input_layer_11      │ (<span style=\"color: #00d7ff; text-decoration-color: #00d7ff\">None</span>, <span style=\"color: #00af00; text-decoration-color: #00af00\">10</span>)        │          <span style=\"color: #00af00; text-decoration-color: #00af00\">0</span> │ -                 │\n",
       "│ (<span style=\"color: #0087ff; text-decoration-color: #0087ff\">InputLayer</span>)        │                   │            │                   │\n",
       "├─────────────────────┼───────────────────┼────────────┼───────────────────┤\n",
       "│ dense_43 (<span style=\"color: #0087ff; text-decoration-color: #0087ff\">Dense</span>)    │ (<span style=\"color: #00d7ff; text-decoration-color: #00d7ff\">None</span>, <span style=\"color: #00af00; text-decoration-color: #00af00\">64</span>)        │        <span style=\"color: #00af00; text-decoration-color: #00af00\">704</span> │ input_layer_11[<span style=\"color: #00af00; text-decoration-color: #00af00\">0</span>… │\n",
       "├─────────────────────┼───────────────────┼────────────┼───────────────────┤\n",
       "│ dense_44 (<span style=\"color: #0087ff; text-decoration-color: #0087ff\">Dense</span>)    │ (<span style=\"color: #00d7ff; text-decoration-color: #00d7ff\">None</span>, <span style=\"color: #00af00; text-decoration-color: #00af00\">64</span>)        │      <span style=\"color: #00af00; text-decoration-color: #00af00\">4,160</span> │ dense_43[<span style=\"color: #00af00; text-decoration-color: #00af00\">0</span>][<span style=\"color: #00af00; text-decoration-color: #00af00\">0</span>]    │\n",
       "├─────────────────────┼───────────────────┼────────────┼───────────────────┤\n",
       "│ dense_46 (<span style=\"color: #0087ff; text-decoration-color: #0087ff\">Dense</span>)    │ (<span style=\"color: #00d7ff; text-decoration-color: #00d7ff\">None</span>, <span style=\"color: #00af00; text-decoration-color: #00af00\">64</span>)        │      <span style=\"color: #00af00; text-decoration-color: #00af00\">4,160</span> │ dense_44[<span style=\"color: #00af00; text-decoration-color: #00af00\">0</span>][<span style=\"color: #00af00; text-decoration-color: #00af00\">0</span>]    │\n",
       "├─────────────────────┼───────────────────┼────────────┼───────────────────┤\n",
       "│ dense_45 (<span style=\"color: #0087ff; text-decoration-color: #0087ff\">Dense</span>)    │ (<span style=\"color: #00d7ff; text-decoration-color: #00d7ff\">None</span>, <span style=\"color: #00af00; text-decoration-color: #00af00\">64</span>)        │      <span style=\"color: #00af00; text-decoration-color: #00af00\">4,160</span> │ dense_44[<span style=\"color: #00af00; text-decoration-color: #00af00\">0</span>][<span style=\"color: #00af00; text-decoration-color: #00af00\">0</span>]    │\n",
       "├─────────────────────┼───────────────────┼────────────┼───────────────────┤\n",
       "│ Attrition (<span style=\"color: #0087ff; text-decoration-color: #0087ff\">Dense</span>)   │ (<span style=\"color: #00d7ff; text-decoration-color: #00d7ff\">None</span>, <span style=\"color: #00af00; text-decoration-color: #00af00\">2</span>)         │        <span style=\"color: #00af00; text-decoration-color: #00af00\">130</span> │ dense_46[<span style=\"color: #00af00; text-decoration-color: #00af00\">0</span>][<span style=\"color: #00af00; text-decoration-color: #00af00\">0</span>]    │\n",
       "├─────────────────────┼───────────────────┼────────────┼───────────────────┤\n",
       "│ Department (<span style=\"color: #0087ff; text-decoration-color: #0087ff\">Dense</span>)  │ (<span style=\"color: #00d7ff; text-decoration-color: #00d7ff\">None</span>, <span style=\"color: #00af00; text-decoration-color: #00af00\">3</span>)         │        <span style=\"color: #00af00; text-decoration-color: #00af00\">195</span> │ dense_45[<span style=\"color: #00af00; text-decoration-color: #00af00\">0</span>][<span style=\"color: #00af00; text-decoration-color: #00af00\">0</span>]    │\n",
       "└─────────────────────┴───────────────────┴────────────┴───────────────────┘\n",
       "</pre>\n"
      ],
      "text/plain": [
       "┏━━━━━━━━━━━━━━━━━━━━━┳━━━━━━━━━━━━━━━━━━━┳━━━━━━━━━━━━┳━━━━━━━━━━━━━━━━━━━┓\n",
       "┃\u001b[1m \u001b[0m\u001b[1mLayer (type)       \u001b[0m\u001b[1m \u001b[0m┃\u001b[1m \u001b[0m\u001b[1mOutput Shape     \u001b[0m\u001b[1m \u001b[0m┃\u001b[1m \u001b[0m\u001b[1m   Param #\u001b[0m\u001b[1m \u001b[0m┃\u001b[1m \u001b[0m\u001b[1mConnected to     \u001b[0m\u001b[1m \u001b[0m┃\n",
       "┡━━━━━━━━━━━━━━━━━━━━━╇━━━━━━━━━━━━━━━━━━━╇━━━━━━━━━━━━╇━━━━━━━━━━━━━━━━━━━┩\n",
       "│ input_layer_11      │ (\u001b[38;5;45mNone\u001b[0m, \u001b[38;5;34m10\u001b[0m)        │          \u001b[38;5;34m0\u001b[0m │ -                 │\n",
       "│ (\u001b[38;5;33mInputLayer\u001b[0m)        │                   │            │                   │\n",
       "├─────────────────────┼───────────────────┼────────────┼───────────────────┤\n",
       "│ dense_43 (\u001b[38;5;33mDense\u001b[0m)    │ (\u001b[38;5;45mNone\u001b[0m, \u001b[38;5;34m64\u001b[0m)        │        \u001b[38;5;34m704\u001b[0m │ input_layer_11[\u001b[38;5;34m0\u001b[0m… │\n",
       "├─────────────────────┼───────────────────┼────────────┼───────────────────┤\n",
       "│ dense_44 (\u001b[38;5;33mDense\u001b[0m)    │ (\u001b[38;5;45mNone\u001b[0m, \u001b[38;5;34m64\u001b[0m)        │      \u001b[38;5;34m4,160\u001b[0m │ dense_43[\u001b[38;5;34m0\u001b[0m][\u001b[38;5;34m0\u001b[0m]    │\n",
       "├─────────────────────┼───────────────────┼────────────┼───────────────────┤\n",
       "│ dense_46 (\u001b[38;5;33mDense\u001b[0m)    │ (\u001b[38;5;45mNone\u001b[0m, \u001b[38;5;34m64\u001b[0m)        │      \u001b[38;5;34m4,160\u001b[0m │ dense_44[\u001b[38;5;34m0\u001b[0m][\u001b[38;5;34m0\u001b[0m]    │\n",
       "├─────────────────────┼───────────────────┼────────────┼───────────────────┤\n",
       "│ dense_45 (\u001b[38;5;33mDense\u001b[0m)    │ (\u001b[38;5;45mNone\u001b[0m, \u001b[38;5;34m64\u001b[0m)        │      \u001b[38;5;34m4,160\u001b[0m │ dense_44[\u001b[38;5;34m0\u001b[0m][\u001b[38;5;34m0\u001b[0m]    │\n",
       "├─────────────────────┼───────────────────┼────────────┼───────────────────┤\n",
       "│ Attrition (\u001b[38;5;33mDense\u001b[0m)   │ (\u001b[38;5;45mNone\u001b[0m, \u001b[38;5;34m2\u001b[0m)         │        \u001b[38;5;34m130\u001b[0m │ dense_46[\u001b[38;5;34m0\u001b[0m][\u001b[38;5;34m0\u001b[0m]    │\n",
       "├─────────────────────┼───────────────────┼────────────┼───────────────────┤\n",
       "│ Department (\u001b[38;5;33mDense\u001b[0m)  │ (\u001b[38;5;45mNone\u001b[0m, \u001b[38;5;34m3\u001b[0m)         │        \u001b[38;5;34m195\u001b[0m │ dense_45[\u001b[38;5;34m0\u001b[0m][\u001b[38;5;34m0\u001b[0m]    │\n",
       "└─────────────────────┴───────────────────┴────────────┴───────────────────┘\n"
      ]
     },
     "metadata": {},
     "output_type": "display_data"
    },
    {
     "data": {
      "text/html": [
       "<pre style=\"white-space:pre;overflow-x:auto;line-height:normal;font-family:Menlo,'DejaVu Sans Mono',consolas,'Courier New',monospace\"><span style=\"font-weight: bold\"> Total params: </span><span style=\"color: #00af00; text-decoration-color: #00af00\">13,509</span> (52.77 KB)\n",
       "</pre>\n"
      ],
      "text/plain": [
       "\u001b[1m Total params: \u001b[0m\u001b[38;5;34m13,509\u001b[0m (52.77 KB)\n"
      ]
     },
     "metadata": {},
     "output_type": "display_data"
    },
    {
     "data": {
      "text/html": [
       "<pre style=\"white-space:pre;overflow-x:auto;line-height:normal;font-family:Menlo,'DejaVu Sans Mono',consolas,'Courier New',monospace\"><span style=\"font-weight: bold\"> Trainable params: </span><span style=\"color: #00af00; text-decoration-color: #00af00\">13,509</span> (52.77 KB)\n",
       "</pre>\n"
      ],
      "text/plain": [
       "\u001b[1m Trainable params: \u001b[0m\u001b[38;5;34m13,509\u001b[0m (52.77 KB)\n"
      ]
     },
     "metadata": {},
     "output_type": "display_data"
    },
    {
     "data": {
      "text/html": [
       "<pre style=\"white-space:pre;overflow-x:auto;line-height:normal;font-family:Menlo,'DejaVu Sans Mono',consolas,'Courier New',monospace\"><span style=\"font-weight: bold\"> Non-trainable params: </span><span style=\"color: #00af00; text-decoration-color: #00af00\">0</span> (0.00 B)\n",
       "</pre>\n"
      ],
      "text/plain": [
       "\u001b[1m Non-trainable params: \u001b[0m\u001b[38;5;34m0\u001b[0m (0.00 B)\n"
      ]
     },
     "metadata": {},
     "output_type": "display_data"
    }
   ],
   "source": [
    "# Create the model\n",
    "model = Model(inputs=input_layer, outputs={'Attrition': attrition_output, 'Department': dept_output})\n",
    "\n",
    "# Compile the model\n",
    "model.compile(optimizer='adam', loss={'Attrition': 'binary_crossentropy', 'Department': 'binary_crossentropy'}, \n",
    "              metrics={'Attrition': 'accuracy', 'Department': 'accuracy'})\n",
    "\n",
    "# Summarize the model\n",
    "model.summary()\n"
   ]
  },
  {
   "cell_type": "code",
   "execution_count": 198,
   "metadata": {
    "colab": {
     "base_uri": "https://localhost:8080/"
    },
    "executionInfo": {
     "elapsed": 31740,
     "status": "ok",
     "timestamp": 1730699259517,
     "user": {
      "displayName": "Alexander Booth",
      "userId": "02269714993535573104"
     },
     "user_tz": 360
    },
    "id": "c8oGy0dpGc3U",
    "outputId": "f48a5292-426f-4715-ea6e-381a8e9d5542"
   },
   "outputs": [
    {
     "name": "stdout",
     "output_type": "stream",
     "text": [
      "Epoch 1/100\n",
      "\u001b[1m28/28\u001b[0m \u001b[32m━━━━━━━━━━━━━━━━━━━━\u001b[0m\u001b[37m\u001b[0m \u001b[1m2s\u001b[0m 11ms/step - Attrition_accuracy: 0.8426 - Attrition_loss: 0.4722 - Department_accuracy: 0.3149 - Department_loss: 0.9534 - loss: 1.4257 - val_Attrition_accuracy: 0.8552 - val_Attrition_loss: 0.4323 - val_Department_accuracy: 0.6606 - val_Department_loss: 0.4871 - val_loss: 0.9202\n",
      "Epoch 2/100\n",
      "\u001b[1m28/28\u001b[0m \u001b[32m━━━━━━━━━━━━━━━━━━━━\u001b[0m\u001b[37m\u001b[0m \u001b[1m0s\u001b[0m 3ms/step - Attrition_accuracy: 0.8250 - Attrition_loss: 0.4688 - Department_accuracy: 0.6259 - Department_loss: 0.5126 - loss: 0.9812 - val_Attrition_accuracy: 0.8552 - val_Attrition_loss: 0.4096 - val_Department_accuracy: 0.6606 - val_Department_loss: 0.4891 - val_loss: 0.8994\n",
      "Epoch 3/100\n",
      "\u001b[1m28/28\u001b[0m \u001b[32m━━━━━━━━━━━━━━━━━━━━\u001b[0m\u001b[37m\u001b[0m \u001b[1m0s\u001b[0m 3ms/step - Attrition_accuracy: 0.8351 - Attrition_loss: 0.4467 - Department_accuracy: 0.6365 - Department_loss: 0.4930 - loss: 0.9398 - val_Attrition_accuracy: 0.8552 - val_Attrition_loss: 0.4081 - val_Department_accuracy: 0.6606 - val_Department_loss: 0.4877 - val_loss: 0.8964\n",
      "Epoch 4/100\n",
      "\u001b[1m28/28\u001b[0m \u001b[32m━━━━━━━━━━━━━━━━━━━━\u001b[0m\u001b[37m\u001b[0m \u001b[1m0s\u001b[0m 3ms/step - Attrition_accuracy: 0.8180 - Attrition_loss: 0.4720 - Department_accuracy: 0.6031 - Department_loss: 0.4989 - loss: 0.9707 - val_Attrition_accuracy: 0.8552 - val_Attrition_loss: 0.4054 - val_Department_accuracy: 0.6606 - val_Department_loss: 0.4880 - val_loss: 0.8942\n",
      "Epoch 5/100\n",
      "\u001b[1m28/28\u001b[0m \u001b[32m━━━━━━━━━━━━━━━━━━━━\u001b[0m\u001b[37m\u001b[0m \u001b[1m0s\u001b[0m 3ms/step - Attrition_accuracy: 0.8345 - Attrition_loss: 0.4399 - Department_accuracy: 0.6179 - Department_loss: 0.5064 - loss: 0.9462 - val_Attrition_accuracy: 0.8552 - val_Attrition_loss: 0.4036 - val_Department_accuracy: 0.6606 - val_Department_loss: 0.4892 - val_loss: 0.8936\n",
      "Epoch 6/100\n",
      "\u001b[1m28/28\u001b[0m \u001b[32m━━━━━━━━━━━━━━━━━━━━\u001b[0m\u001b[37m\u001b[0m \u001b[1m0s\u001b[0m 3ms/step - Attrition_accuracy: 0.8015 - Attrition_loss: 0.4978 - Department_accuracy: 0.6484 - Department_loss: 0.4775 - loss: 0.9752 - val_Attrition_accuracy: 0.8552 - val_Attrition_loss: 0.4074 - val_Department_accuracy: 0.6606 - val_Department_loss: 0.4957 - val_loss: 0.9035\n",
      "Epoch 7/100\n",
      "\u001b[1m28/28\u001b[0m \u001b[32m━━━━━━━━━━━━━━━━━━━━\u001b[0m\u001b[37m\u001b[0m \u001b[1m0s\u001b[0m 3ms/step - Attrition_accuracy: 0.8200 - Attrition_loss: 0.4727 - Department_accuracy: 0.6222 - Department_loss: 0.5040 - loss: 0.9763 - val_Attrition_accuracy: 0.8552 - val_Attrition_loss: 0.4016 - val_Department_accuracy: 0.6606 - val_Department_loss: 0.4886 - val_loss: 0.8909\n",
      "Epoch 8/100\n",
      "\u001b[1m28/28\u001b[0m \u001b[32m━━━━━━━━━━━━━━━━━━━━\u001b[0m\u001b[37m\u001b[0m \u001b[1m0s\u001b[0m 3ms/step - Attrition_accuracy: 0.8353 - Attrition_loss: 0.4371 - Department_accuracy: 0.6544 - Department_loss: 0.4785 - loss: 0.9156 - val_Attrition_accuracy: 0.8552 - val_Attrition_loss: 0.4111 - val_Department_accuracy: 0.6606 - val_Department_loss: 0.4956 - val_loss: 0.9073\n",
      "Epoch 9/100\n",
      "\u001b[1m28/28\u001b[0m \u001b[32m━━━━━━━━━━━━━━━━━━━━\u001b[0m\u001b[37m\u001b[0m \u001b[1m0s\u001b[0m 3ms/step - Attrition_accuracy: 0.8198 - Attrition_loss: 0.4585 - Department_accuracy: 0.6254 - Department_loss: 0.4974 - loss: 0.9557 - val_Attrition_accuracy: 0.8552 - val_Attrition_loss: 0.3979 - val_Department_accuracy: 0.6606 - val_Department_loss: 0.4884 - val_loss: 0.8870\n",
      "Epoch 10/100\n",
      "\u001b[1m28/28\u001b[0m \u001b[32m━━━━━━━━━━━━━━━━━━━━\u001b[0m\u001b[37m\u001b[0m \u001b[1m0s\u001b[0m 4ms/step - Attrition_accuracy: 0.8181 - Attrition_loss: 0.4639 - Department_accuracy: 0.6555 - Department_loss: 0.4843 - loss: 0.9481 - val_Attrition_accuracy: 0.8552 - val_Attrition_loss: 0.4014 - val_Department_accuracy: 0.6606 - val_Department_loss: 0.4918 - val_loss: 0.8938\n",
      "Epoch 11/100\n",
      "\u001b[1m28/28\u001b[0m \u001b[32m━━━━━━━━━━━━━━━━━━━━\u001b[0m\u001b[37m\u001b[0m \u001b[1m0s\u001b[0m 3ms/step - Attrition_accuracy: 0.8382 - Attrition_loss: 0.4307 - Department_accuracy: 0.6497 - Department_loss: 0.4819 - loss: 0.9126 - val_Attrition_accuracy: 0.8552 - val_Attrition_loss: 0.4192 - val_Department_accuracy: 0.6606 - val_Department_loss: 0.4918 - val_loss: 0.9120\n",
      "Epoch 12/100\n",
      "\u001b[1m28/28\u001b[0m \u001b[32m━━━━━━━━━━━━━━━━━━━━\u001b[0m\u001b[37m\u001b[0m \u001b[1m0s\u001b[0m 3ms/step - Attrition_accuracy: 0.8413 - Attrition_loss: 0.4390 - Department_accuracy: 0.6156 - Department_loss: 0.5024 - loss: 0.9417 - val_Attrition_accuracy: 0.8552 - val_Attrition_loss: 0.4070 - val_Department_accuracy: 0.6606 - val_Department_loss: 0.4896 - val_loss: 0.8973\n",
      "Epoch 13/100\n",
      "\u001b[1m28/28\u001b[0m \u001b[32m━━━━━━━━━━━━━━━━━━━━\u001b[0m\u001b[37m\u001b[0m \u001b[1m0s\u001b[0m 3ms/step - Attrition_accuracy: 0.8385 - Attrition_loss: 0.4266 - Department_accuracy: 0.6334 - Department_loss: 0.4893 - loss: 0.9157 - val_Attrition_accuracy: 0.8552 - val_Attrition_loss: 0.4203 - val_Department_accuracy: 0.6606 - val_Department_loss: 0.4899 - val_loss: 0.9108\n",
      "Epoch 14/100\n",
      "\u001b[1m28/28\u001b[0m \u001b[32m━━━━━━━━━━━━━━━━━━━━\u001b[0m\u001b[37m\u001b[0m \u001b[1m0s\u001b[0m 3ms/step - Attrition_accuracy: 0.8160 - Attrition_loss: 0.4653 - Department_accuracy: 0.6332 - Department_loss: 0.4914 - loss: 0.9568 - val_Attrition_accuracy: 0.8552 - val_Attrition_loss: 0.3947 - val_Department_accuracy: 0.6606 - val_Department_loss: 0.4880 - val_loss: 0.8836\n",
      "Epoch 15/100\n",
      "\u001b[1m28/28\u001b[0m \u001b[32m━━━━━━━━━━━━━━━━━━━━\u001b[0m\u001b[37m\u001b[0m \u001b[1m0s\u001b[0m 4ms/step - Attrition_accuracy: 0.8179 - Attrition_loss: 0.4653 - Department_accuracy: 0.6400 - Department_loss: 0.4864 - loss: 0.9519 - val_Attrition_accuracy: 0.8552 - val_Attrition_loss: 0.3957 - val_Department_accuracy: 0.6606 - val_Department_loss: 0.4902 - val_loss: 0.8867\n",
      "Epoch 16/100\n",
      "\u001b[1m28/28\u001b[0m \u001b[32m━━━━━━━━━━━━━━━━━━━━\u001b[0m\u001b[37m\u001b[0m \u001b[1m0s\u001b[0m 4ms/step - Attrition_accuracy: 0.8350 - Attrition_loss: 0.4235 - Department_accuracy: 0.6158 - Department_loss: 0.5003 - loss: 0.9236 - val_Attrition_accuracy: 0.8552 - val_Attrition_loss: 0.3969 - val_Department_accuracy: 0.6606 - val_Department_loss: 0.4904 - val_loss: 0.8883\n",
      "Epoch 17/100\n",
      "\u001b[1m28/28\u001b[0m \u001b[32m━━━━━━━━━━━━━━━━━━━━\u001b[0m\u001b[37m\u001b[0m \u001b[1m0s\u001b[0m 3ms/step - Attrition_accuracy: 0.8275 - Attrition_loss: 0.4381 - Department_accuracy: 0.6205 - Department_loss: 0.4943 - loss: 0.9319 - val_Attrition_accuracy: 0.8552 - val_Attrition_loss: 0.3904 - val_Department_accuracy: 0.6606 - val_Department_loss: 0.4889 - val_loss: 0.8800\n",
      "Epoch 18/100\n",
      "\u001b[1m28/28\u001b[0m \u001b[32m━━━━━━━━━━━━━━━━━━━━\u001b[0m\u001b[37m\u001b[0m \u001b[1m0s\u001b[0m 3ms/step - Attrition_accuracy: 0.8247 - Attrition_loss: 0.4570 - Department_accuracy: 0.6323 - Department_loss: 0.4870 - loss: 0.9440 - val_Attrition_accuracy: 0.8552 - val_Attrition_loss: 0.3925 - val_Department_accuracy: 0.6606 - val_Department_loss: 0.4886 - val_loss: 0.8818\n",
      "Epoch 19/100\n",
      "\u001b[1m28/28\u001b[0m \u001b[32m━━━━━━━━━━━━━━━━━━━━\u001b[0m\u001b[37m\u001b[0m \u001b[1m0s\u001b[0m 3ms/step - Attrition_accuracy: 0.8427 - Attrition_loss: 0.4272 - Department_accuracy: 0.6291 - Department_loss: 0.4904 - loss: 0.9174 - val_Attrition_accuracy: 0.8552 - val_Attrition_loss: 0.4003 - val_Department_accuracy: 0.6606 - val_Department_loss: 0.4890 - val_loss: 0.8904\n",
      "Epoch 20/100\n",
      "\u001b[1m28/28\u001b[0m \u001b[32m━━━━━━━━━━━━━━━━━━━━\u001b[0m\u001b[37m\u001b[0m \u001b[1m0s\u001b[0m 3ms/step - Attrition_accuracy: 0.8335 - Attrition_loss: 0.4325 - Department_accuracy: 0.6228 - Department_loss: 0.4979 - loss: 0.9302 - val_Attrition_accuracy: 0.8552 - val_Attrition_loss: 0.4052 - val_Department_accuracy: 0.6606 - val_Department_loss: 0.4882 - val_loss: 0.8942\n",
      "Epoch 21/100\n",
      "\u001b[1m28/28\u001b[0m \u001b[32m━━━━━━━━━━━━━━━━━━━━\u001b[0m\u001b[37m\u001b[0m \u001b[1m0s\u001b[0m 3ms/step - Attrition_accuracy: 0.8348 - Attrition_loss: 0.4373 - Department_accuracy: 0.6445 - Department_loss: 0.4842 - loss: 0.9217 - val_Attrition_accuracy: 0.8552 - val_Attrition_loss: 0.3960 - val_Department_accuracy: 0.6606 - val_Department_loss: 0.4883 - val_loss: 0.8854\n",
      "Epoch 22/100\n",
      "\u001b[1m28/28\u001b[0m \u001b[32m━━━━━━━━━━━━━━━━━━━━\u001b[0m\u001b[37m\u001b[0m \u001b[1m0s\u001b[0m 3ms/step - Attrition_accuracy: 0.8237 - Attrition_loss: 0.4431 - Department_accuracy: 0.6288 - Department_loss: 0.5040 - loss: 0.9470 - val_Attrition_accuracy: 0.8552 - val_Attrition_loss: 0.4055 - val_Department_accuracy: 0.6606 - val_Department_loss: 0.4898 - val_loss: 0.8965\n",
      "Epoch 23/100\n",
      "\u001b[1m28/28\u001b[0m \u001b[32m━━━━━━━━━━━━━━━━━━━━\u001b[0m\u001b[37m\u001b[0m \u001b[1m0s\u001b[0m 3ms/step - Attrition_accuracy: 0.8344 - Attrition_loss: 0.4270 - Department_accuracy: 0.6170 - Department_loss: 0.4948 - loss: 0.9222 - val_Attrition_accuracy: 0.8597 - val_Attrition_loss: 0.3947 - val_Department_accuracy: 0.6606 - val_Department_loss: 0.4876 - val_loss: 0.8832\n",
      "Epoch 24/100\n",
      "\u001b[1m28/28\u001b[0m \u001b[32m━━━━━━━━━━━━━━━━━━━━\u001b[0m\u001b[37m\u001b[0m \u001b[1m0s\u001b[0m 4ms/step - Attrition_accuracy: 0.8286 - Attrition_loss: 0.4361 - Department_accuracy: 0.6358 - Department_loss: 0.4966 - loss: 0.9328 - val_Attrition_accuracy: 0.8597 - val_Attrition_loss: 0.3982 - val_Department_accuracy: 0.6606 - val_Department_loss: 0.4921 - val_loss: 0.8911\n",
      "Epoch 25/100\n",
      "\u001b[1m28/28\u001b[0m \u001b[32m━━━━━━━━━━━━━━━━━━━━\u001b[0m\u001b[37m\u001b[0m \u001b[1m0s\u001b[0m 4ms/step - Attrition_accuracy: 0.8348 - Attrition_loss: 0.4310 - Department_accuracy: 0.6265 - Department_loss: 0.4929 - loss: 0.9239 - val_Attrition_accuracy: 0.8552 - val_Attrition_loss: 0.3981 - val_Department_accuracy: 0.6606 - val_Department_loss: 0.4891 - val_loss: 0.8887\n",
      "Epoch 26/100\n",
      "\u001b[1m28/28\u001b[0m \u001b[32m━━━━━━━━━━━━━━━━━━━━\u001b[0m\u001b[37m\u001b[0m \u001b[1m0s\u001b[0m 3ms/step - Attrition_accuracy: 0.8433 - Attrition_loss: 0.4027 - Department_accuracy: 0.6397 - Department_loss: 0.4833 - loss: 0.8859 - val_Attrition_accuracy: 0.8552 - val_Attrition_loss: 0.4031 - val_Department_accuracy: 0.6606 - val_Department_loss: 0.4913 - val_loss: 0.8953\n",
      "Epoch 27/100\n",
      "\u001b[1m28/28\u001b[0m \u001b[32m━━━━━━━━━━━━━━━━━━━━\u001b[0m\u001b[37m\u001b[0m \u001b[1m0s\u001b[0m 5ms/step - Attrition_accuracy: 0.8159 - Attrition_loss: 0.4517 - Department_accuracy: 0.6229 - Department_loss: 0.4931 - loss: 0.9448 - val_Attrition_accuracy: 0.8597 - val_Attrition_loss: 0.3918 - val_Department_accuracy: 0.6606 - val_Department_loss: 0.4889 - val_loss: 0.8817\n",
      "Epoch 28/100\n",
      "\u001b[1m28/28\u001b[0m \u001b[32m━━━━━━━━━━━━━━━━━━━━\u001b[0m\u001b[37m\u001b[0m \u001b[1m0s\u001b[0m 3ms/step - Attrition_accuracy: 0.8395 - Attrition_loss: 0.4317 - Department_accuracy: 0.6108 - Department_loss: 0.5080 - loss: 0.9399 - val_Attrition_accuracy: 0.8552 - val_Attrition_loss: 0.4017 - val_Department_accuracy: 0.6606 - val_Department_loss: 0.4887 - val_loss: 0.8916\n",
      "Epoch 29/100\n",
      "\u001b[1m28/28\u001b[0m \u001b[32m━━━━━━━━━━━━━━━━━━━━\u001b[0m\u001b[37m\u001b[0m \u001b[1m0s\u001b[0m 3ms/step - Attrition_accuracy: 0.8474 - Attrition_loss: 0.4098 - Department_accuracy: 0.6295 - Department_loss: 0.4825 - loss: 0.8920 - val_Attrition_accuracy: 0.8597 - val_Attrition_loss: 0.3916 - val_Department_accuracy: 0.6606 - val_Department_loss: 0.4882 - val_loss: 0.8810\n",
      "Epoch 30/100\n",
      "\u001b[1m28/28\u001b[0m \u001b[32m━━━━━━━━━━━━━━━━━━━━\u001b[0m\u001b[37m\u001b[0m \u001b[1m0s\u001b[0m 3ms/step - Attrition_accuracy: 0.8547 - Attrition_loss: 0.3926 - Department_accuracy: 0.6468 - Department_loss: 0.4767 - loss: 0.8695 - val_Attrition_accuracy: 0.8552 - val_Attrition_loss: 0.4075 - val_Department_accuracy: 0.6606 - val_Department_loss: 0.4924 - val_loss: 0.9008\n",
      "Epoch 31/100\n",
      "\u001b[1m28/28\u001b[0m \u001b[32m━━━━━━━━━━━━━━━━━━━━\u001b[0m\u001b[37m\u001b[0m \u001b[1m0s\u001b[0m 4ms/step - Attrition_accuracy: 0.8560 - Attrition_loss: 0.3982 - Department_accuracy: 0.6345 - Department_loss: 0.4823 - loss: 0.8806 - val_Attrition_accuracy: 0.8552 - val_Attrition_loss: 0.4128 - val_Department_accuracy: 0.6606 - val_Department_loss: 0.4902 - val_loss: 0.9039\n",
      "Epoch 32/100\n",
      "\u001b[1m28/28\u001b[0m \u001b[32m━━━━━━━━━━━━━━━━━━━━\u001b[0m\u001b[37m\u001b[0m \u001b[1m0s\u001b[0m 3ms/step - Attrition_accuracy: 0.8238 - Attrition_loss: 0.4360 - Department_accuracy: 0.6406 - Department_loss: 0.4709 - loss: 0.9067 - val_Attrition_accuracy: 0.8597 - val_Attrition_loss: 0.3907 - val_Department_accuracy: 0.6606 - val_Department_loss: 0.4900 - val_loss: 0.8819\n",
      "Epoch 33/100\n",
      "\u001b[1m28/28\u001b[0m \u001b[32m━━━━━━━━━━━━━━━━━━━━\u001b[0m\u001b[37m\u001b[0m \u001b[1m0s\u001b[0m 3ms/step - Attrition_accuracy: 0.8259 - Attrition_loss: 0.4388 - Department_accuracy: 0.6401 - Department_loss: 0.4811 - loss: 0.9198 - val_Attrition_accuracy: 0.8552 - val_Attrition_loss: 0.3997 - val_Department_accuracy: 0.6471 - val_Department_loss: 0.4928 - val_loss: 0.8936\n",
      "Epoch 34/100\n",
      "\u001b[1m28/28\u001b[0m \u001b[32m━━━━━━━━━━━━━━━━━━━━\u001b[0m\u001b[37m\u001b[0m \u001b[1m0s\u001b[0m 3ms/step - Attrition_accuracy: 0.8492 - Attrition_loss: 0.4006 - Department_accuracy: 0.6144 - Department_loss: 0.5016 - loss: 0.9022 - val_Attrition_accuracy: 0.8552 - val_Attrition_loss: 0.3980 - val_Department_accuracy: 0.6606 - val_Department_loss: 0.4893 - val_loss: 0.8885\n",
      "Epoch 35/100\n",
      "\u001b[1m28/28\u001b[0m \u001b[32m━━━━━━━━━━━━━━━━━━━━\u001b[0m\u001b[37m\u001b[0m \u001b[1m0s\u001b[0m 3ms/step - Attrition_accuracy: 0.8348 - Attrition_loss: 0.4167 - Department_accuracy: 0.6014 - Department_loss: 0.5059 - loss: 0.9226 - val_Attrition_accuracy: 0.8462 - val_Attrition_loss: 0.3944 - val_Department_accuracy: 0.6606 - val_Department_loss: 0.4904 - val_loss: 0.8858\n",
      "Epoch 36/100\n",
      "\u001b[1m28/28\u001b[0m \u001b[32m━━━━━━━━━━━━━━━━━━━━\u001b[0m\u001b[37m\u001b[0m \u001b[1m0s\u001b[0m 3ms/step - Attrition_accuracy: 0.8187 - Attrition_loss: 0.4391 - Department_accuracy: 0.6389 - Department_loss: 0.4781 - loss: 0.9173 - val_Attrition_accuracy: 0.8462 - val_Attrition_loss: 0.4046 - val_Department_accuracy: 0.6471 - val_Department_loss: 0.4931 - val_loss: 0.8984\n",
      "Epoch 37/100\n",
      "\u001b[1m28/28\u001b[0m \u001b[32m━━━━━━━━━━━━━━━━━━━━\u001b[0m\u001b[37m\u001b[0m \u001b[1m0s\u001b[0m 3ms/step - Attrition_accuracy: 0.8351 - Attrition_loss: 0.4225 - Department_accuracy: 0.6423 - Department_loss: 0.4792 - loss: 0.9014 - val_Attrition_accuracy: 0.8552 - val_Attrition_loss: 0.3897 - val_Department_accuracy: 0.6606 - val_Department_loss: 0.4896 - val_loss: 0.8804\n",
      "Epoch 38/100\n",
      "\u001b[1m28/28\u001b[0m \u001b[32m━━━━━━━━━━━━━━━━━━━━\u001b[0m\u001b[37m\u001b[0m \u001b[1m0s\u001b[0m 3ms/step - Attrition_accuracy: 0.8342 - Attrition_loss: 0.4312 - Department_accuracy: 0.6346 - Department_loss: 0.4810 - loss: 0.9121 - val_Attrition_accuracy: 0.8552 - val_Attrition_loss: 0.3943 - val_Department_accuracy: 0.6606 - val_Department_loss: 0.4917 - val_loss: 0.8874\n",
      "Epoch 39/100\n",
      "\u001b[1m28/28\u001b[0m \u001b[32m━━━━━━━━━━━━━━━━━━━━\u001b[0m\u001b[37m\u001b[0m \u001b[1m0s\u001b[0m 3ms/step - Attrition_accuracy: 0.8392 - Attrition_loss: 0.4066 - Department_accuracy: 0.6271 - Department_loss: 0.4862 - loss: 0.8931 - val_Attrition_accuracy: 0.8643 - val_Attrition_loss: 0.4030 - val_Department_accuracy: 0.6561 - val_Department_loss: 0.4907 - val_loss: 0.8944\n",
      "Epoch 40/100\n",
      "\u001b[1m28/28\u001b[0m \u001b[32m━━━━━━━━━━━━━━━━━━━━\u001b[0m\u001b[37m\u001b[0m \u001b[1m0s\u001b[0m 3ms/step - Attrition_accuracy: 0.8370 - Attrition_loss: 0.4320 - Department_accuracy: 0.6295 - Department_loss: 0.4862 - loss: 0.9183 - val_Attrition_accuracy: 0.8597 - val_Attrition_loss: 0.3981 - val_Department_accuracy: 0.6561 - val_Department_loss: 0.4900 - val_loss: 0.8895\n",
      "Epoch 41/100\n",
      "\u001b[1m28/28\u001b[0m \u001b[32m━━━━━━━━━━━━━━━━━━━━\u001b[0m\u001b[37m\u001b[0m \u001b[1m0s\u001b[0m 3ms/step - Attrition_accuracy: 0.8304 - Attrition_loss: 0.4126 - Department_accuracy: 0.6298 - Department_loss: 0.4824 - loss: 0.8951 - val_Attrition_accuracy: 0.8462 - val_Attrition_loss: 0.3983 - val_Department_accuracy: 0.6471 - val_Department_loss: 0.4933 - val_loss: 0.8925\n",
      "Epoch 42/100\n",
      "\u001b[1m28/28\u001b[0m \u001b[32m━━━━━━━━━━━━━━━━━━━━\u001b[0m\u001b[37m\u001b[0m \u001b[1m0s\u001b[0m 3ms/step - Attrition_accuracy: 0.8436 - Attrition_loss: 0.4028 - Department_accuracy: 0.6192 - Department_loss: 0.4934 - loss: 0.8960 - val_Attrition_accuracy: 0.8507 - val_Attrition_loss: 0.4183 - val_Department_accuracy: 0.6561 - val_Department_loss: 0.4931 - val_loss: 0.9127\n",
      "Epoch 43/100\n",
      "\u001b[1m28/28\u001b[0m \u001b[32m━━━━━━━━━━━━━━━━━━━━\u001b[0m\u001b[37m\u001b[0m \u001b[1m0s\u001b[0m 3ms/step - Attrition_accuracy: 0.8298 - Attrition_loss: 0.4133 - Department_accuracy: 0.6269 - Department_loss: 0.4938 - loss: 0.9071 - val_Attrition_accuracy: 0.8597 - val_Attrition_loss: 0.3893 - val_Department_accuracy: 0.6606 - val_Department_loss: 0.4874 - val_loss: 0.8778\n",
      "Epoch 44/100\n",
      "\u001b[1m28/28\u001b[0m \u001b[32m━━━━━━━━━━━━━━━━━━━━\u001b[0m\u001b[37m\u001b[0m \u001b[1m0s\u001b[0m 3ms/step - Attrition_accuracy: 0.8526 - Attrition_loss: 0.3883 - Department_accuracy: 0.6163 - Department_loss: 0.4921 - loss: 0.8801 - val_Attrition_accuracy: 0.8371 - val_Attrition_loss: 0.4272 - val_Department_accuracy: 0.6606 - val_Department_loss: 0.4935 - val_loss: 0.9218\n",
      "Epoch 45/100\n",
      "\u001b[1m28/28\u001b[0m \u001b[32m━━━━━━━━━━━━━━━━━━━━\u001b[0m\u001b[37m\u001b[0m \u001b[1m0s\u001b[0m 3ms/step - Attrition_accuracy: 0.8568 - Attrition_loss: 0.3942 - Department_accuracy: 0.6253 - Department_loss: 0.4814 - loss: 0.8756 - val_Attrition_accuracy: 0.8597 - val_Attrition_loss: 0.3968 - val_Department_accuracy: 0.6606 - val_Department_loss: 0.4904 - val_loss: 0.8883\n",
      "Epoch 46/100\n",
      "\u001b[1m28/28\u001b[0m \u001b[32m━━━━━━━━━━━━━━━━━━━━\u001b[0m\u001b[37m\u001b[0m \u001b[1m0s\u001b[0m 3ms/step - Attrition_accuracy: 0.8466 - Attrition_loss: 0.3998 - Department_accuracy: 0.6216 - Department_loss: 0.4831 - loss: 0.8828 - val_Attrition_accuracy: 0.8462 - val_Attrition_loss: 0.4032 - val_Department_accuracy: 0.6561 - val_Department_loss: 0.4925 - val_loss: 0.8968\n",
      "Epoch 47/100\n",
      "\u001b[1m28/28\u001b[0m \u001b[32m━━━━━━━━━━━━━━━━━━━━\u001b[0m\u001b[37m\u001b[0m \u001b[1m0s\u001b[0m 4ms/step - Attrition_accuracy: 0.8377 - Attrition_loss: 0.3968 - Department_accuracy: 0.6506 - Department_loss: 0.4674 - loss: 0.8639 - val_Attrition_accuracy: 0.8462 - val_Attrition_loss: 0.3932 - val_Department_accuracy: 0.6606 - val_Department_loss: 0.4890 - val_loss: 0.8826\n",
      "Epoch 48/100\n",
      "\u001b[1m28/28\u001b[0m \u001b[32m━━━━━━━━━━━━━━━━━━━━\u001b[0m\u001b[37m\u001b[0m \u001b[1m0s\u001b[0m 4ms/step - Attrition_accuracy: 0.8338 - Attrition_loss: 0.4204 - Department_accuracy: 0.6581 - Department_loss: 0.4693 - loss: 0.8897 - val_Attrition_accuracy: 0.8416 - val_Attrition_loss: 0.3980 - val_Department_accuracy: 0.6606 - val_Department_loss: 0.4940 - val_loss: 0.8933\n",
      "Epoch 49/100\n",
      "\u001b[1m28/28\u001b[0m \u001b[32m━━━━━━━━━━━━━━━━━━━━\u001b[0m\u001b[37m\u001b[0m \u001b[1m0s\u001b[0m 4ms/step - Attrition_accuracy: 0.8358 - Attrition_loss: 0.4040 - Department_accuracy: 0.6270 - Department_loss: 0.4804 - loss: 0.8847 - val_Attrition_accuracy: 0.8462 - val_Attrition_loss: 0.3967 - val_Department_accuracy: 0.6606 - val_Department_loss: 0.4909 - val_loss: 0.8884\n",
      "Epoch 50/100\n",
      "\u001b[1m28/28\u001b[0m \u001b[32m━━━━━━━━━━━━━━━━━━━━\u001b[0m\u001b[37m\u001b[0m \u001b[1m0s\u001b[0m 3ms/step - Attrition_accuracy: 0.8241 - Attrition_loss: 0.4425 - Department_accuracy: 0.6734 - Department_loss: 0.4578 - loss: 0.9005 - val_Attrition_accuracy: 0.8416 - val_Attrition_loss: 0.3994 - val_Department_accuracy: 0.6561 - val_Department_loss: 0.4941 - val_loss: 0.8943\n",
      "Epoch 51/100\n",
      "\u001b[1m28/28\u001b[0m \u001b[32m━━━━━━━━━━━━━━━━━━━━\u001b[0m\u001b[37m\u001b[0m \u001b[1m0s\u001b[0m 5ms/step - Attrition_accuracy: 0.8361 - Attrition_loss: 0.4086 - Department_accuracy: 0.6381 - Department_loss: 0.4760 - loss: 0.8846 - val_Attrition_accuracy: 0.8416 - val_Attrition_loss: 0.4044 - val_Department_accuracy: 0.6561 - val_Department_loss: 0.4975 - val_loss: 0.9034\n",
      "Epoch 52/100\n",
      "\u001b[1m28/28\u001b[0m \u001b[32m━━━━━━━━━━━━━━━━━━━━\u001b[0m\u001b[37m\u001b[0m \u001b[1m0s\u001b[0m 3ms/step - Attrition_accuracy: 0.8422 - Attrition_loss: 0.3992 - Department_accuracy: 0.6203 - Department_loss: 0.4849 - loss: 0.8839 - val_Attrition_accuracy: 0.8597 - val_Attrition_loss: 0.3850 - val_Department_accuracy: 0.6561 - val_Department_loss: 0.4881 - val_loss: 0.8744\n",
      "Epoch 53/100\n",
      "\u001b[1m28/28\u001b[0m \u001b[32m━━━━━━━━━━━━━━━━━━━━\u001b[0m\u001b[37m\u001b[0m \u001b[1m0s\u001b[0m 3ms/step - Attrition_accuracy: 0.8413 - Attrition_loss: 0.4190 - Department_accuracy: 0.6393 - Department_loss: 0.4748 - loss: 0.8940 - val_Attrition_accuracy: 0.8416 - val_Attrition_loss: 0.4093 - val_Department_accuracy: 0.6606 - val_Department_loss: 0.4966 - val_loss: 0.9073\n",
      "Epoch 54/100\n",
      "\u001b[1m28/28\u001b[0m \u001b[32m━━━━━━━━━━━━━━━━━━━━\u001b[0m\u001b[37m\u001b[0m \u001b[1m0s\u001b[0m 4ms/step - Attrition_accuracy: 0.8294 - Attrition_loss: 0.4068 - Department_accuracy: 0.6127 - Department_loss: 0.4969 - loss: 0.9039 - val_Attrition_accuracy: 0.8416 - val_Attrition_loss: 0.4075 - val_Department_accuracy: 0.6606 - val_Department_loss: 0.4997 - val_loss: 0.9088\n",
      "Epoch 55/100\n",
      "\u001b[1m28/28\u001b[0m \u001b[32m━━━━━━━━━━━━━━━━━━━━\u001b[0m\u001b[37m\u001b[0m \u001b[1m0s\u001b[0m 4ms/step - Attrition_accuracy: 0.8355 - Attrition_loss: 0.4015 - Department_accuracy: 0.6430 - Department_loss: 0.4710 - loss: 0.8724 - val_Attrition_accuracy: 0.8552 - val_Attrition_loss: 0.3980 - val_Department_accuracy: 0.6606 - val_Department_loss: 0.4943 - val_loss: 0.8934\n",
      "Epoch 56/100\n",
      "\u001b[1m28/28\u001b[0m \u001b[32m━━━━━━━━━━━━━━━━━━━━\u001b[0m\u001b[37m\u001b[0m \u001b[1m0s\u001b[0m 3ms/step - Attrition_accuracy: 0.8516 - Attrition_loss: 0.3826 - Department_accuracy: 0.6411 - Department_loss: 0.4762 - loss: 0.8590 - val_Attrition_accuracy: 0.8462 - val_Attrition_loss: 0.4001 - val_Department_accuracy: 0.6606 - val_Department_loss: 0.4938 - val_loss: 0.8953\n",
      "Epoch 57/100\n",
      "\u001b[1m28/28\u001b[0m \u001b[32m━━━━━━━━━━━━━━━━━━━━\u001b[0m\u001b[37m\u001b[0m \u001b[1m0s\u001b[0m 4ms/step - Attrition_accuracy: 0.8341 - Attrition_loss: 0.4070 - Department_accuracy: 0.6316 - Department_loss: 0.4791 - loss: 0.8861 - val_Attrition_accuracy: 0.8552 - val_Attrition_loss: 0.4032 - val_Department_accuracy: 0.6516 - val_Department_loss: 0.4946 - val_loss: 0.8997\n",
      "Epoch 58/100\n",
      "\u001b[1m28/28\u001b[0m \u001b[32m━━━━━━━━━━━━━━━━━━━━\u001b[0m\u001b[37m\u001b[0m \u001b[1m0s\u001b[0m 3ms/step - Attrition_accuracy: 0.8529 - Attrition_loss: 0.3715 - Department_accuracy: 0.6480 - Department_loss: 0.4744 - loss: 0.8456 - val_Attrition_accuracy: 0.8552 - val_Attrition_loss: 0.4053 - val_Department_accuracy: 0.6380 - val_Department_loss: 0.5034 - val_loss: 0.9099\n",
      "Epoch 59/100\n",
      "\u001b[1m28/28\u001b[0m \u001b[32m━━━━━━━━━━━━━━━━━━━━\u001b[0m\u001b[37m\u001b[0m \u001b[1m0s\u001b[0m 3ms/step - Attrition_accuracy: 0.8167 - Attrition_loss: 0.4347 - Department_accuracy: 0.6194 - Department_loss: 0.4829 - loss: 0.9174 - val_Attrition_accuracy: 0.8416 - val_Attrition_loss: 0.3915 - val_Department_accuracy: 0.6561 - val_Department_loss: 0.5019 - val_loss: 0.8950\n",
      "Epoch 60/100\n",
      "\u001b[1m28/28\u001b[0m \u001b[32m━━━━━━━━━━━━━━━━━━━━\u001b[0m\u001b[37m\u001b[0m \u001b[1m0s\u001b[0m 3ms/step - Attrition_accuracy: 0.8542 - Attrition_loss: 0.3742 - Department_accuracy: 0.6418 - Department_loss: 0.4745 - loss: 0.8485 - val_Attrition_accuracy: 0.8416 - val_Attrition_loss: 0.4182 - val_Department_accuracy: 0.6380 - val_Department_loss: 0.5039 - val_loss: 0.9236\n",
      "Epoch 61/100\n",
      "\u001b[1m28/28\u001b[0m \u001b[32m━━━━━━━━━━━━━━━━━━━━\u001b[0m\u001b[37m\u001b[0m \u001b[1m0s\u001b[0m 3ms/step - Attrition_accuracy: 0.8468 - Attrition_loss: 0.3965 - Department_accuracy: 0.6210 - Department_loss: 0.4743 - loss: 0.8709 - val_Attrition_accuracy: 0.8552 - val_Attrition_loss: 0.3888 - val_Department_accuracy: 0.6606 - val_Department_loss: 0.4930 - val_loss: 0.8833\n",
      "Epoch 62/100\n",
      "\u001b[1m28/28\u001b[0m \u001b[32m━━━━━━━━━━━━━━━━━━━━\u001b[0m\u001b[37m\u001b[0m \u001b[1m0s\u001b[0m 3ms/step - Attrition_accuracy: 0.8500 - Attrition_loss: 0.3803 - Department_accuracy: 0.6585 - Department_loss: 0.4628 - loss: 0.8430 - val_Attrition_accuracy: 0.8462 - val_Attrition_loss: 0.4099 - val_Department_accuracy: 0.6425 - val_Department_loss: 0.5010 - val_loss: 0.9122\n",
      "Epoch 63/100\n",
      "\u001b[1m28/28\u001b[0m \u001b[32m━━━━━━━━━━━━━━━━━━━━\u001b[0m\u001b[37m\u001b[0m \u001b[1m0s\u001b[0m 3ms/step - Attrition_accuracy: 0.8617 - Attrition_loss: 0.3632 - Department_accuracy: 0.6199 - Department_loss: 0.4830 - loss: 0.8459 - val_Attrition_accuracy: 0.8597 - val_Attrition_loss: 0.4001 - val_Department_accuracy: 0.6606 - val_Department_loss: 0.5029 - val_loss: 0.9053\n",
      "Epoch 64/100\n",
      "\u001b[1m28/28\u001b[0m \u001b[32m━━━━━━━━━━━━━━━━━━━━\u001b[0m\u001b[37m\u001b[0m \u001b[1m0s\u001b[0m 4ms/step - Attrition_accuracy: 0.8459 - Attrition_loss: 0.3716 - Department_accuracy: 0.6576 - Department_loss: 0.4647 - loss: 0.8362 - val_Attrition_accuracy: 0.8597 - val_Attrition_loss: 0.4004 - val_Department_accuracy: 0.6380 - val_Department_loss: 0.4979 - val_loss: 0.8995\n",
      "Epoch 65/100\n",
      "\u001b[1m28/28\u001b[0m \u001b[32m━━━━━━━━━━━━━━━━━━━━\u001b[0m\u001b[37m\u001b[0m \u001b[1m0s\u001b[0m 3ms/step - Attrition_accuracy: 0.8253 - Attrition_loss: 0.4131 - Department_accuracy: 0.6325 - Department_loss: 0.4810 - loss: 0.8942 - val_Attrition_accuracy: 0.8507 - val_Attrition_loss: 0.3935 - val_Department_accuracy: 0.6516 - val_Department_loss: 0.5032 - val_loss: 0.8983\n",
      "Epoch 66/100\n",
      "\u001b[1m28/28\u001b[0m \u001b[32m━━━━━━━━━━━━━━━━━━━━\u001b[0m\u001b[37m\u001b[0m \u001b[1m0s\u001b[0m 3ms/step - Attrition_accuracy: 0.8380 - Attrition_loss: 0.4044 - Department_accuracy: 0.6529 - Department_loss: 0.4640 - loss: 0.8686 - val_Attrition_accuracy: 0.8416 - val_Attrition_loss: 0.4163 - val_Department_accuracy: 0.6425 - val_Department_loss: 0.5044 - val_loss: 0.9217\n",
      "Epoch 67/100\n",
      "\u001b[1m28/28\u001b[0m \u001b[32m━━━━━━━━━━━━━━━━━━━━\u001b[0m\u001b[37m\u001b[0m \u001b[1m0s\u001b[0m 3ms/step - Attrition_accuracy: 0.8360 - Attrition_loss: 0.3942 - Department_accuracy: 0.6760 - Department_loss: 0.4619 - loss: 0.8560 - val_Attrition_accuracy: 0.8416 - val_Attrition_loss: 0.4164 - val_Department_accuracy: 0.6425 - val_Department_loss: 0.5058 - val_loss: 0.9237\n",
      "Epoch 68/100\n",
      "\u001b[1m28/28\u001b[0m \u001b[32m━━━━━━━━━━━━━━━━━━━━\u001b[0m\u001b[37m\u001b[0m \u001b[1m0s\u001b[0m 3ms/step - Attrition_accuracy: 0.8525 - Attrition_loss: 0.3798 - Department_accuracy: 0.6111 - Department_loss: 0.4901 - loss: 0.8698 - val_Attrition_accuracy: 0.8462 - val_Attrition_loss: 0.4158 - val_Department_accuracy: 0.6606 - val_Department_loss: 0.5079 - val_loss: 0.9258\n",
      "Epoch 69/100\n",
      "\u001b[1m28/28\u001b[0m \u001b[32m━━━━━━━━━━━━━━━━━━━━\u001b[0m\u001b[37m\u001b[0m \u001b[1m0s\u001b[0m 3ms/step - Attrition_accuracy: 0.8409 - Attrition_loss: 0.3976 - Department_accuracy: 0.6297 - Department_loss: 0.4750 - loss: 0.8727 - val_Attrition_accuracy: 0.8597 - val_Attrition_loss: 0.4113 - val_Department_accuracy: 0.6471 - val_Department_loss: 0.5007 - val_loss: 0.9133\n",
      "Epoch 70/100\n",
      "\u001b[1m28/28\u001b[0m \u001b[32m━━━━━━━━━━━━━━━━━━━━\u001b[0m\u001b[37m\u001b[0m \u001b[1m0s\u001b[0m 3ms/step - Attrition_accuracy: 0.8423 - Attrition_loss: 0.3908 - Department_accuracy: 0.6462 - Department_loss: 0.4623 - loss: 0.8532 - val_Attrition_accuracy: 0.8416 - val_Attrition_loss: 0.4460 - val_Department_accuracy: 0.6516 - val_Department_loss: 0.5052 - val_loss: 0.9531\n",
      "Epoch 71/100\n",
      "\u001b[1m28/28\u001b[0m \u001b[32m━━━━━━━━━━━━━━━━━━━━\u001b[0m\u001b[37m\u001b[0m \u001b[1m0s\u001b[0m 3ms/step - Attrition_accuracy: 0.8499 - Attrition_loss: 0.4011 - Department_accuracy: 0.6394 - Department_loss: 0.4850 - loss: 0.8862 - val_Attrition_accuracy: 0.8552 - val_Attrition_loss: 0.4021 - val_Department_accuracy: 0.6425 - val_Department_loss: 0.5104 - val_loss: 0.9147\n",
      "Epoch 72/100\n",
      "\u001b[1m28/28\u001b[0m \u001b[32m━━━━━━━━━━━━━━━━━━━━\u001b[0m\u001b[37m\u001b[0m \u001b[1m0s\u001b[0m 4ms/step - Attrition_accuracy: 0.8403 - Attrition_loss: 0.4075 - Department_accuracy: 0.6297 - Department_loss: 0.4808 - loss: 0.8882 - val_Attrition_accuracy: 0.8235 - val_Attrition_loss: 0.4277 - val_Department_accuracy: 0.6380 - val_Department_loss: 0.5148 - val_loss: 0.9442\n",
      "Epoch 73/100\n",
      "\u001b[1m28/28\u001b[0m \u001b[32m━━━━━━━━━━━━━━━━━━━━\u001b[0m\u001b[37m\u001b[0m \u001b[1m0s\u001b[0m 3ms/step - Attrition_accuracy: 0.8526 - Attrition_loss: 0.3841 - Department_accuracy: 0.6314 - Department_loss: 0.4776 - loss: 0.8615 - val_Attrition_accuracy: 0.8507 - val_Attrition_loss: 0.3922 - val_Department_accuracy: 0.6606 - val_Department_loss: 0.4989 - val_loss: 0.8929\n",
      "Epoch 74/100\n",
      "\u001b[1m28/28\u001b[0m \u001b[32m━━━━━━━━━━━━━━━━━━━━\u001b[0m\u001b[37m\u001b[0m \u001b[1m0s\u001b[0m 3ms/step - Attrition_accuracy: 0.8296 - Attrition_loss: 0.4073 - Department_accuracy: 0.6453 - Department_loss: 0.4678 - loss: 0.8751 - val_Attrition_accuracy: 0.8507 - val_Attrition_loss: 0.3933 - val_Department_accuracy: 0.6561 - val_Department_loss: 0.5016 - val_loss: 0.8965\n",
      "Epoch 75/100\n",
      "\u001b[1m28/28\u001b[0m \u001b[32m━━━━━━━━━━━━━━━━━━━━\u001b[0m\u001b[37m\u001b[0m \u001b[1m0s\u001b[0m 3ms/step - Attrition_accuracy: 0.8354 - Attrition_loss: 0.4032 - Department_accuracy: 0.6266 - Department_loss: 0.4834 - loss: 0.8867 - val_Attrition_accuracy: 0.8281 - val_Attrition_loss: 0.4260 - val_Department_accuracy: 0.6471 - val_Department_loss: 0.5185 - val_loss: 0.9461\n",
      "Epoch 76/100\n",
      "\u001b[1m28/28\u001b[0m \u001b[32m━━━━━━━━━━━━━━━━━━━━\u001b[0m\u001b[37m\u001b[0m \u001b[1m0s\u001b[0m 3ms/step - Attrition_accuracy: 0.8473 - Attrition_loss: 0.3940 - Department_accuracy: 0.6332 - Department_loss: 0.4686 - loss: 0.8629 - val_Attrition_accuracy: 0.8416 - val_Attrition_loss: 0.4048 - val_Department_accuracy: 0.6606 - val_Department_loss: 0.5009 - val_loss: 0.9066\n",
      "Epoch 77/100\n",
      "\u001b[1m28/28\u001b[0m \u001b[32m━━━━━━━━━━━━━━━━━━━━\u001b[0m\u001b[37m\u001b[0m \u001b[1m0s\u001b[0m 4ms/step - Attrition_accuracy: 0.8390 - Attrition_loss: 0.3934 - Department_accuracy: 0.6569 - Department_loss: 0.4660 - loss: 0.8593 - val_Attrition_accuracy: 0.8552 - val_Attrition_loss: 0.3968 - val_Department_accuracy: 0.6471 - val_Department_loss: 0.5121 - val_loss: 0.9110\n",
      "Epoch 78/100\n",
      "\u001b[1m28/28\u001b[0m \u001b[32m━━━━━━━━━━━━━━━━━━━━\u001b[0m\u001b[37m\u001b[0m \u001b[1m0s\u001b[0m 3ms/step - Attrition_accuracy: 0.8363 - Attrition_loss: 0.3967 - Department_accuracy: 0.6291 - Department_loss: 0.4753 - loss: 0.8720 - val_Attrition_accuracy: 0.8552 - val_Attrition_loss: 0.4017 - val_Department_accuracy: 0.6471 - val_Department_loss: 0.5060 - val_loss: 0.9101\n",
      "Epoch 79/100\n",
      "\u001b[1m28/28\u001b[0m \u001b[32m━━━━━━━━━━━━━━━━━━━━\u001b[0m\u001b[37m\u001b[0m \u001b[1m0s\u001b[0m 4ms/step - Attrition_accuracy: 0.8451 - Attrition_loss: 0.3932 - Department_accuracy: 0.6481 - Department_loss: 0.4583 - loss: 0.8512 - val_Attrition_accuracy: 0.8597 - val_Attrition_loss: 0.3928 - val_Department_accuracy: 0.6335 - val_Department_loss: 0.5075 - val_loss: 0.9018\n",
      "Epoch 80/100\n",
      "\u001b[1m28/28\u001b[0m \u001b[32m━━━━━━━━━━━━━━━━━━━━\u001b[0m\u001b[37m\u001b[0m \u001b[1m0s\u001b[0m 4ms/step - Attrition_accuracy: 0.8318 - Attrition_loss: 0.4077 - Department_accuracy: 0.6545 - Department_loss: 0.4661 - loss: 0.8732 - val_Attrition_accuracy: 0.8507 - val_Attrition_loss: 0.4076 - val_Department_accuracy: 0.6561 - val_Department_loss: 0.5045 - val_loss: 0.9143\n",
      "Epoch 81/100\n",
      "\u001b[1m28/28\u001b[0m \u001b[32m━━━━━━━━━━━━━━━━━━━━\u001b[0m\u001b[37m\u001b[0m \u001b[1m0s\u001b[0m 4ms/step - Attrition_accuracy: 0.8638 - Attrition_loss: 0.3573 - Department_accuracy: 0.6484 - Department_loss: 0.4751 - loss: 0.8325 - val_Attrition_accuracy: 0.8597 - val_Attrition_loss: 0.4113 - val_Department_accuracy: 0.6425 - val_Department_loss: 0.5082 - val_loss: 0.9215\n",
      "Epoch 82/100\n",
      "\u001b[1m28/28\u001b[0m \u001b[32m━━━━━━━━━━━━━━━━━━━━\u001b[0m\u001b[37m\u001b[0m \u001b[1m0s\u001b[0m 3ms/step - Attrition_accuracy: 0.8389 - Attrition_loss: 0.3955 - Department_accuracy: 0.6305 - Department_loss: 0.4763 - loss: 0.8718 - val_Attrition_accuracy: 0.8552 - val_Attrition_loss: 0.3883 - val_Department_accuracy: 0.6335 - val_Department_loss: 0.5088 - val_loss: 0.8993\n",
      "Epoch 83/100\n",
      "\u001b[1m28/28\u001b[0m \u001b[32m━━━━━━━━━━━━━━━━━━━━\u001b[0m\u001b[37m\u001b[0m \u001b[1m0s\u001b[0m 3ms/step - Attrition_accuracy: 0.8459 - Attrition_loss: 0.3761 - Department_accuracy: 0.6384 - Department_loss: 0.4667 - loss: 0.8429 - val_Attrition_accuracy: 0.8597 - val_Attrition_loss: 0.3939 - val_Department_accuracy: 0.6335 - val_Department_loss: 0.5044 - val_loss: 0.8997\n",
      "Epoch 84/100\n",
      "\u001b[1m28/28\u001b[0m \u001b[32m━━━━━━━━━━━━━━━━━━━━\u001b[0m\u001b[37m\u001b[0m \u001b[1m0s\u001b[0m 4ms/step - Attrition_accuracy: 0.8560 - Attrition_loss: 0.3693 - Department_accuracy: 0.6558 - Department_loss: 0.4643 - loss: 0.8337 - val_Attrition_accuracy: 0.8552 - val_Attrition_loss: 0.4059 - val_Department_accuracy: 0.6380 - val_Department_loss: 0.5182 - val_loss: 0.9260\n",
      "Epoch 85/100\n",
      "\u001b[1m28/28\u001b[0m \u001b[32m━━━━━━━━━━━━━━━━━━━━\u001b[0m\u001b[37m\u001b[0m \u001b[1m0s\u001b[0m 4ms/step - Attrition_accuracy: 0.8479 - Attrition_loss: 0.3773 - Department_accuracy: 0.6217 - Department_loss: 0.4744 - loss: 0.8513 - val_Attrition_accuracy: 0.8235 - val_Attrition_loss: 0.4271 - val_Department_accuracy: 0.6606 - val_Department_loss: 0.5132 - val_loss: 0.9427\n",
      "Epoch 86/100\n",
      "\u001b[1m28/28\u001b[0m \u001b[32m━━━━━━━━━━━━━━━━━━━━\u001b[0m\u001b[37m\u001b[0m \u001b[1m0s\u001b[0m 4ms/step - Attrition_accuracy: 0.8419 - Attrition_loss: 0.3942 - Department_accuracy: 0.6472 - Department_loss: 0.4557 - loss: 0.8500 - val_Attrition_accuracy: 0.8462 - val_Attrition_loss: 0.3939 - val_Department_accuracy: 0.6561 - val_Department_loss: 0.5061 - val_loss: 0.9021\n",
      "Epoch 87/100\n",
      "\u001b[1m28/28\u001b[0m \u001b[32m━━━━━━━━━━━━━━━━━━━━\u001b[0m\u001b[37m\u001b[0m \u001b[1m0s\u001b[0m 3ms/step - Attrition_accuracy: 0.8739 - Attrition_loss: 0.3528 - Department_accuracy: 0.6569 - Department_loss: 0.4625 - loss: 0.8150 - val_Attrition_accuracy: 0.8371 - val_Attrition_loss: 0.4227 - val_Department_accuracy: 0.6335 - val_Department_loss: 0.5117 - val_loss: 0.9356\n",
      "Epoch 88/100\n",
      "\u001b[1m28/28\u001b[0m \u001b[32m━━━━━━━━━━━━━━━━━━━━\u001b[0m\u001b[37m\u001b[0m \u001b[1m0s\u001b[0m 3ms/step - Attrition_accuracy: 0.8505 - Attrition_loss: 0.3621 - Department_accuracy: 0.6570 - Department_loss: 0.4565 - loss: 0.8185 - val_Attrition_accuracy: 0.8552 - val_Attrition_loss: 0.3949 - val_Department_accuracy: 0.6606 - val_Department_loss: 0.5121 - val_loss: 0.9094\n",
      "Epoch 89/100\n",
      "\u001b[1m28/28\u001b[0m \u001b[32m━━━━━━━━━━━━━━━━━━━━\u001b[0m\u001b[37m\u001b[0m \u001b[1m0s\u001b[0m 3ms/step - Attrition_accuracy: 0.8338 - Attrition_loss: 0.3954 - Department_accuracy: 0.6384 - Department_loss: 0.4730 - loss: 0.8686 - val_Attrition_accuracy: 0.8552 - val_Attrition_loss: 0.3890 - val_Department_accuracy: 0.6516 - val_Department_loss: 0.5098 - val_loss: 0.9011\n",
      "Epoch 90/100\n",
      "\u001b[1m28/28\u001b[0m \u001b[32m━━━━━━━━━━━━━━━━━━━━\u001b[0m\u001b[37m\u001b[0m \u001b[1m0s\u001b[0m 4ms/step - Attrition_accuracy: 0.8299 - Attrition_loss: 0.4005 - Department_accuracy: 0.6612 - Department_loss: 0.4536 - loss: 0.8542 - val_Attrition_accuracy: 0.8597 - val_Attrition_loss: 0.3941 - val_Department_accuracy: 0.6516 - val_Department_loss: 0.5130 - val_loss: 0.9092\n",
      "Epoch 91/100\n",
      "\u001b[1m28/28\u001b[0m \u001b[32m━━━━━━━━━━━━━━━━━━━━\u001b[0m\u001b[37m\u001b[0m \u001b[1m0s\u001b[0m 6ms/step - Attrition_accuracy: 0.8348 - Attrition_loss: 0.4160 - Department_accuracy: 0.6414 - Department_loss: 0.4738 - loss: 0.8896 - val_Attrition_accuracy: 0.8552 - val_Attrition_loss: 0.3892 - val_Department_accuracy: 0.6516 - val_Department_loss: 0.5172 - val_loss: 0.9090\n",
      "Epoch 92/100\n",
      "\u001b[1m28/28\u001b[0m \u001b[32m━━━━━━━━━━━━━━━━━━━━\u001b[0m\u001b[37m\u001b[0m \u001b[1m0s\u001b[0m 3ms/step - Attrition_accuracy: 0.8295 - Attrition_loss: 0.4072 - Department_accuracy: 0.6382 - Department_loss: 0.4667 - loss: 0.8738 - val_Attrition_accuracy: 0.8552 - val_Attrition_loss: 0.4010 - val_Department_accuracy: 0.6606 - val_Department_loss: 0.5108 - val_loss: 0.9140\n",
      "Epoch 93/100\n",
      "\u001b[1m28/28\u001b[0m \u001b[32m━━━━━━━━━━━━━━━━━━━━\u001b[0m\u001b[37m\u001b[0m \u001b[1m0s\u001b[0m 3ms/step - Attrition_accuracy: 0.8373 - Attrition_loss: 0.3798 - Department_accuracy: 0.6429 - Department_loss: 0.4655 - loss: 0.8454 - val_Attrition_accuracy: 0.8552 - val_Attrition_loss: 0.3965 - val_Department_accuracy: 0.6561 - val_Department_loss: 0.5092 - val_loss: 0.9077\n",
      "Epoch 94/100\n",
      "\u001b[1m28/28\u001b[0m \u001b[32m━━━━━━━━━━━━━━━━━━━━\u001b[0m\u001b[37m\u001b[0m \u001b[1m0s\u001b[0m 4ms/step - Attrition_accuracy: 0.8460 - Attrition_loss: 0.3792 - Department_accuracy: 0.6462 - Department_loss: 0.4633 - loss: 0.8424 - val_Attrition_accuracy: 0.8326 - val_Attrition_loss: 0.4152 - val_Department_accuracy: 0.6516 - val_Department_loss: 0.5191 - val_loss: 0.9367\n",
      "Epoch 95/100\n",
      "\u001b[1m28/28\u001b[0m \u001b[32m━━━━━━━━━━━━━━━━━━━━\u001b[0m\u001b[37m\u001b[0m \u001b[1m0s\u001b[0m 4ms/step - Attrition_accuracy: 0.8501 - Attrition_loss: 0.3691 - Department_accuracy: 0.6628 - Department_loss: 0.4626 - loss: 0.8315 - val_Attrition_accuracy: 0.8507 - val_Attrition_loss: 0.3995 - val_Department_accuracy: 0.6516 - val_Department_loss: 0.5135 - val_loss: 0.9152\n",
      "Epoch 96/100\n",
      "\u001b[1m28/28\u001b[0m \u001b[32m━━━━━━━━━━━━━━━━━━━━\u001b[0m\u001b[37m\u001b[0m \u001b[1m0s\u001b[0m 3ms/step - Attrition_accuracy: 0.8394 - Attrition_loss: 0.3677 - Department_accuracy: 0.6534 - Department_loss: 0.4549 - loss: 0.8226 - val_Attrition_accuracy: 0.8552 - val_Attrition_loss: 0.4448 - val_Department_accuracy: 0.6335 - val_Department_loss: 0.5090 - val_loss: 0.9546\n",
      "Epoch 97/100\n",
      "\u001b[1m28/28\u001b[0m \u001b[32m━━━━━━━━━━━━━━━━━━━━\u001b[0m\u001b[37m\u001b[0m \u001b[1m0s\u001b[0m 3ms/step - Attrition_accuracy: 0.8186 - Attrition_loss: 0.4580 - Department_accuracy: 0.6669 - Department_loss: 0.4586 - loss: 0.9168 - val_Attrition_accuracy: 0.8643 - val_Attrition_loss: 0.3952 - val_Department_accuracy: 0.6606 - val_Department_loss: 0.5180 - val_loss: 0.9157\n",
      "Epoch 98/100\n",
      "\u001b[1m28/28\u001b[0m \u001b[32m━━━━━━━━━━━━━━━━━━━━\u001b[0m\u001b[37m\u001b[0m \u001b[1m0s\u001b[0m 3ms/step - Attrition_accuracy: 0.8567 - Attrition_loss: 0.3619 - Department_accuracy: 0.6496 - Department_loss: 0.4684 - loss: 0.8301 - val_Attrition_accuracy: 0.8326 - val_Attrition_loss: 0.4162 - val_Department_accuracy: 0.6471 - val_Department_loss: 0.5125 - val_loss: 0.9309\n",
      "Epoch 99/100\n",
      "\u001b[1m28/28\u001b[0m \u001b[32m━━━━━━━━━━━━━━━━━━━━\u001b[0m\u001b[37m\u001b[0m \u001b[1m0s\u001b[0m 4ms/step - Attrition_accuracy: 0.8620 - Attrition_loss: 0.3506 - Department_accuracy: 0.6618 - Department_loss: 0.4552 - loss: 0.8057 - val_Attrition_accuracy: 0.8416 - val_Attrition_loss: 0.4159 - val_Department_accuracy: 0.6606 - val_Department_loss: 0.5197 - val_loss: 0.9386\n",
      "Epoch 100/100\n",
      "\u001b[1m28/28\u001b[0m \u001b[32m━━━━━━━━━━━━━━━━━━━━\u001b[0m\u001b[37m\u001b[0m \u001b[1m0s\u001b[0m 4ms/step - Attrition_accuracy: 0.8438 - Attrition_loss: 0.3866 - Department_accuracy: 0.6302 - Department_loss: 0.4720 - loss: 0.8585 - val_Attrition_accuracy: 0.8597 - val_Attrition_loss: 0.4004 - val_Department_accuracy: 0.6561 - val_Department_loss: 0.5187 - val_loss: 0.9219\n"
     ]
    },
    {
     "data": {
      "text/plain": [
       "<keras.src.callbacks.history.History at 0x19386a6dbd0>"
      ]
     },
     "execution_count": 198,
     "metadata": {},
     "output_type": "execute_result"
    }
   ],
   "source": [
    "# Train the model\n",
    "model.fit(X_train_scaled, {'Attrition': y_train_ohe_att, 'Department': y_train_ohe_dept}, epochs=100, batch_size=32, validation_split=0.2)\n"
   ]
  },
  {
   "cell_type": "code",
   "execution_count": 202,
   "metadata": {
    "colab": {
     "base_uri": "https://localhost:8080/"
    },
    "executionInfo": {
     "elapsed": 379,
     "status": "ok",
     "timestamp": 1730699259894,
     "user": {
      "displayName": "Alexander Booth",
      "userId": "02269714993535573104"
     },
     "user_tz": 360
    },
    "id": "VsMoaQlgGc3U",
    "outputId": "636c85ba-ee63-4087-b7d1-00b408f1055a"
   },
   "outputs": [
    {
     "name": "stdout",
     "output_type": "stream",
     "text": [
      "12/12 - 0s - 4ms/step - Attrition_accuracy: 0.7120 - Attrition_loss: 0.7116 - Department_accuracy: 0.5652 - Department_loss: 0.5705 - loss: 1.3022\n"
     ]
    }
   ],
   "source": [
    "# Evaluate the model with the testing data\n",
    "result = model.evaluate(np.array(X_test_scaled), {'Department': y_test_ohe_dept, 'Attrition': y_test_ohe_att}, verbose=2)\n"
   ]
  },
  {
   "cell_type": "code",
   "execution_count": 211,
   "metadata": {
    "colab": {
     "base_uri": "https://localhost:8080/"
    },
    "executionInfo": {
     "elapsed": 113,
     "status": "ok",
     "timestamp": 1730699260004,
     "user": {
      "displayName": "Alexander Booth",
      "userId": "02269714993535573104"
     },
     "user_tz": 360
    },
    "id": "ZlCtlHi0Vt54",
    "outputId": "3a32435c-11cf-48da-81b5-1431d6c00da2"
   },
   "outputs": [
    {
     "name": "stdout",
     "output_type": "stream",
     "text": [
      "Department Accuracy: 56.521737575531006\n",
      "Attrition Accuracy: 71.15979194641113\n"
     ]
    }
   ],
   "source": [
    "# Print the accuracy for both department and attrition\n",
    "print(f\"Department Accuracy: {result[4] * 100}\")\n",
    "print(f\"Attrition Accuracy: {result[1] * 100}\")\n"
   ]
  },
  {
   "cell_type": "markdown",
   "metadata": {
    "id": "eGSyfsZfWOQM"
   },
   "source": [
    "# Summary\n",
    "\n",
    "In the provided space below, briefly answer the following questions.\n",
    "\n",
    "1. Is accuracy the best metric to use on this data? Why or why not?\n",
    "\n",
    "2. What activation functions did you choose for your output layers, and why?\n",
    "\n",
    "3. Can you name a few ways that this model might be improved?"
   ]
  },
  {
   "cell_type": "markdown",
   "metadata": {
    "id": "pi9SLpFnWvbF"
   },
   "source": [
    "YOUR ANSWERS HERE\n",
    "\n",
    "1. \n",
    "2. \n",
    "3. "
   ]
  },
  {
   "cell_type": "code",
   "execution_count": null,
   "metadata": {
    "executionInfo": {
     "elapsed": 3,
     "status": "ok",
     "timestamp": 1730699260004,
     "user": {
      "displayName": "Alexander Booth",
      "userId": "02269714993535573104"
     },
     "user_tz": 360
    },
    "id": "ZuQWjGgGXZ3C"
   },
   "outputs": [],
   "source": []
  }
 ],
 "metadata": {
  "colab": {
   "provenance": []
  },
  "kernelspec": {
   "display_name": "dev",
   "language": "python",
   "name": "python3"
  },
  "language_info": {
   "codemirror_mode": {
    "name": "ipython",
    "version": 3
   },
   "file_extension": ".py",
   "mimetype": "text/x-python",
   "name": "python",
   "nbconvert_exporter": "python",
   "pygments_lexer": "ipython3",
   "version": "3.10.15"
  }
 },
 "nbformat": 4,
 "nbformat_minor": 0
}
