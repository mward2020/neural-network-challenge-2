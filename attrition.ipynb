{
 "cells": [
  {
   "cell_type": "markdown",
   "metadata": {
    "id": "alIIEHibGc3M"
   },
   "source": [
    "## Part 1: Preprocessing"
   ]
  },
  {
   "cell_type": "code",
   "execution_count": 19,
   "metadata": {
    "colab": {
     "base_uri": "https://localhost:8080/",
     "height": 325
    },
    "executionInfo": {
     "elapsed": 12323,
     "status": "ok",
     "timestamp": 1730699226906,
     "user": {
      "displayName": "Alexander Booth",
      "userId": "02269714993535573104"
     },
     "user_tz": 360
    },
    "id": "6eDUJ4NtGc3P",
    "outputId": "eeae54b5-3d17-442d-94ba-00dd55b89964"
   },
   "outputs": [
    {
     "data": {
      "text/html": [
       "<div>\n",
       "<style scoped>\n",
       "    .dataframe tbody tr th:only-of-type {\n",
       "        vertical-align: middle;\n",
       "    }\n",
       "\n",
       "    .dataframe tbody tr th {\n",
       "        vertical-align: top;\n",
       "    }\n",
       "\n",
       "    .dataframe thead th {\n",
       "        text-align: right;\n",
       "    }\n",
       "</style>\n",
       "<table border=\"1\" class=\"dataframe\">\n",
       "  <thead>\n",
       "    <tr style=\"text-align: right;\">\n",
       "      <th></th>\n",
       "      <th>Age</th>\n",
       "      <th>Attrition</th>\n",
       "      <th>BusinessTravel</th>\n",
       "      <th>Department</th>\n",
       "      <th>DistanceFromHome</th>\n",
       "      <th>Education</th>\n",
       "      <th>EducationField</th>\n",
       "      <th>EnvironmentSatisfaction</th>\n",
       "      <th>HourlyRate</th>\n",
       "      <th>JobInvolvement</th>\n",
       "      <th>...</th>\n",
       "      <th>PerformanceRating</th>\n",
       "      <th>RelationshipSatisfaction</th>\n",
       "      <th>StockOptionLevel</th>\n",
       "      <th>TotalWorkingYears</th>\n",
       "      <th>TrainingTimesLastYear</th>\n",
       "      <th>WorkLifeBalance</th>\n",
       "      <th>YearsAtCompany</th>\n",
       "      <th>YearsInCurrentRole</th>\n",
       "      <th>YearsSinceLastPromotion</th>\n",
       "      <th>YearsWithCurrManager</th>\n",
       "    </tr>\n",
       "  </thead>\n",
       "  <tbody>\n",
       "    <tr>\n",
       "      <th>0</th>\n",
       "      <td>41</td>\n",
       "      <td>Yes</td>\n",
       "      <td>Travel_Rarely</td>\n",
       "      <td>Sales</td>\n",
       "      <td>1</td>\n",
       "      <td>2</td>\n",
       "      <td>Life Sciences</td>\n",
       "      <td>2</td>\n",
       "      <td>94</td>\n",
       "      <td>3</td>\n",
       "      <td>...</td>\n",
       "      <td>3</td>\n",
       "      <td>1</td>\n",
       "      <td>0</td>\n",
       "      <td>8</td>\n",
       "      <td>0</td>\n",
       "      <td>1</td>\n",
       "      <td>6</td>\n",
       "      <td>4</td>\n",
       "      <td>0</td>\n",
       "      <td>5</td>\n",
       "    </tr>\n",
       "    <tr>\n",
       "      <th>1</th>\n",
       "      <td>49</td>\n",
       "      <td>No</td>\n",
       "      <td>Travel_Frequently</td>\n",
       "      <td>Research &amp; Development</td>\n",
       "      <td>8</td>\n",
       "      <td>1</td>\n",
       "      <td>Life Sciences</td>\n",
       "      <td>3</td>\n",
       "      <td>61</td>\n",
       "      <td>2</td>\n",
       "      <td>...</td>\n",
       "      <td>4</td>\n",
       "      <td>4</td>\n",
       "      <td>1</td>\n",
       "      <td>10</td>\n",
       "      <td>3</td>\n",
       "      <td>3</td>\n",
       "      <td>10</td>\n",
       "      <td>7</td>\n",
       "      <td>1</td>\n",
       "      <td>7</td>\n",
       "    </tr>\n",
       "    <tr>\n",
       "      <th>2</th>\n",
       "      <td>37</td>\n",
       "      <td>Yes</td>\n",
       "      <td>Travel_Rarely</td>\n",
       "      <td>Research &amp; Development</td>\n",
       "      <td>2</td>\n",
       "      <td>2</td>\n",
       "      <td>Other</td>\n",
       "      <td>4</td>\n",
       "      <td>92</td>\n",
       "      <td>2</td>\n",
       "      <td>...</td>\n",
       "      <td>3</td>\n",
       "      <td>2</td>\n",
       "      <td>0</td>\n",
       "      <td>7</td>\n",
       "      <td>3</td>\n",
       "      <td>3</td>\n",
       "      <td>0</td>\n",
       "      <td>0</td>\n",
       "      <td>0</td>\n",
       "      <td>0</td>\n",
       "    </tr>\n",
       "    <tr>\n",
       "      <th>3</th>\n",
       "      <td>33</td>\n",
       "      <td>No</td>\n",
       "      <td>Travel_Frequently</td>\n",
       "      <td>Research &amp; Development</td>\n",
       "      <td>3</td>\n",
       "      <td>4</td>\n",
       "      <td>Life Sciences</td>\n",
       "      <td>4</td>\n",
       "      <td>56</td>\n",
       "      <td>3</td>\n",
       "      <td>...</td>\n",
       "      <td>3</td>\n",
       "      <td>3</td>\n",
       "      <td>0</td>\n",
       "      <td>8</td>\n",
       "      <td>3</td>\n",
       "      <td>3</td>\n",
       "      <td>8</td>\n",
       "      <td>7</td>\n",
       "      <td>3</td>\n",
       "      <td>0</td>\n",
       "    </tr>\n",
       "    <tr>\n",
       "      <th>4</th>\n",
       "      <td>27</td>\n",
       "      <td>No</td>\n",
       "      <td>Travel_Rarely</td>\n",
       "      <td>Research &amp; Development</td>\n",
       "      <td>2</td>\n",
       "      <td>1</td>\n",
       "      <td>Medical</td>\n",
       "      <td>1</td>\n",
       "      <td>40</td>\n",
       "      <td>3</td>\n",
       "      <td>...</td>\n",
       "      <td>3</td>\n",
       "      <td>4</td>\n",
       "      <td>1</td>\n",
       "      <td>6</td>\n",
       "      <td>3</td>\n",
       "      <td>3</td>\n",
       "      <td>2</td>\n",
       "      <td>2</td>\n",
       "      <td>2</td>\n",
       "      <td>2</td>\n",
       "    </tr>\n",
       "  </tbody>\n",
       "</table>\n",
       "<p>5 rows × 27 columns</p>\n",
       "</div>"
      ],
      "text/plain": [
       "   Age Attrition     BusinessTravel              Department  DistanceFromHome  \\\n",
       "0   41       Yes      Travel_Rarely                   Sales                 1   \n",
       "1   49        No  Travel_Frequently  Research & Development                 8   \n",
       "2   37       Yes      Travel_Rarely  Research & Development                 2   \n",
       "3   33        No  Travel_Frequently  Research & Development                 3   \n",
       "4   27        No      Travel_Rarely  Research & Development                 2   \n",
       "\n",
       "   Education EducationField  EnvironmentSatisfaction  HourlyRate  \\\n",
       "0          2  Life Sciences                        2          94   \n",
       "1          1  Life Sciences                        3          61   \n",
       "2          2          Other                        4          92   \n",
       "3          4  Life Sciences                        4          56   \n",
       "4          1        Medical                        1          40   \n",
       "\n",
       "   JobInvolvement  ...  PerformanceRating RelationshipSatisfaction  \\\n",
       "0               3  ...                  3                        1   \n",
       "1               2  ...                  4                        4   \n",
       "2               2  ...                  3                        2   \n",
       "3               3  ...                  3                        3   \n",
       "4               3  ...                  3                        4   \n",
       "\n",
       "   StockOptionLevel TotalWorkingYears  TrainingTimesLastYear WorkLifeBalance  \\\n",
       "0                 0                 8                      0               1   \n",
       "1                 1                10                      3               3   \n",
       "2                 0                 7                      3               3   \n",
       "3                 0                 8                      3               3   \n",
       "4                 1                 6                      3               3   \n",
       "\n",
       "   YearsAtCompany  YearsInCurrentRole  YearsSinceLastPromotion  \\\n",
       "0               6                   4                        0   \n",
       "1              10                   7                        1   \n",
       "2               0                   0                        0   \n",
       "3               8                   7                        3   \n",
       "4               2                   2                        2   \n",
       "\n",
       "   YearsWithCurrManager  \n",
       "0                     5  \n",
       "1                     7  \n",
       "2                     0  \n",
       "3                     0  \n",
       "4                     2  \n",
       "\n",
       "[5 rows x 27 columns]"
      ]
     },
     "execution_count": 19,
     "metadata": {},
     "output_type": "execute_result"
    }
   ],
   "source": [
    "# Import our dependencies\n",
    "from sklearn.model_selection import train_test_split\n",
    "from sklearn.preprocessing import StandardScaler, LabelEncoder, OneHotEncoder\n",
    "import pandas as pd\n",
    "import numpy as np\n",
    "from tensorflow.keras.models import Model\n",
    "from tensorflow.keras import layers\n",
    "from sklearn.model_selection import train_test_split\n",
    "import tensorflow as tf\n",
    "\n",
    "#  Import and read the attrition data\n",
    "attrition_df = pd.read_csv('https://static.bc-edx.com/ai/ail-v-1-0/m19/lms/datasets/attrition.csv')\n",
    "attrition_df.head()"
   ]
  },
  {
   "cell_type": "code",
   "execution_count": 20,
   "metadata": {
    "colab": {
     "base_uri": "https://localhost:8080/",
     "height": 930
    },
    "executionInfo": {
     "elapsed": 10,
     "status": "ok",
     "timestamp": 1730699226906,
     "user": {
      "displayName": "Alexander Booth",
      "userId": "02269714993535573104"
     },
     "user_tz": 360
    },
    "id": "g22aQSY4Gc3Q",
    "outputId": "e8b68509-45d8-42e0-a9db-1bdce48e4b2d"
   },
   "outputs": [
    {
     "data": {
      "text/plain": [
       "Age                         43\n",
       "Attrition                    2\n",
       "BusinessTravel               3\n",
       "Department                   3\n",
       "DistanceFromHome            29\n",
       "Education                    5\n",
       "EducationField               6\n",
       "EnvironmentSatisfaction      4\n",
       "HourlyRate                  71\n",
       "JobInvolvement               4\n",
       "JobLevel                     5\n",
       "JobRole                      9\n",
       "JobSatisfaction              4\n",
       "MaritalStatus                3\n",
       "NumCompaniesWorked          10\n",
       "OverTime                     2\n",
       "PercentSalaryHike           15\n",
       "PerformanceRating            2\n",
       "RelationshipSatisfaction     4\n",
       "StockOptionLevel             4\n",
       "TotalWorkingYears           40\n",
       "TrainingTimesLastYear        7\n",
       "WorkLifeBalance              4\n",
       "YearsAtCompany              37\n",
       "YearsInCurrentRole          19\n",
       "YearsSinceLastPromotion     16\n",
       "YearsWithCurrManager        18\n",
       "dtype: int64"
      ]
     },
     "execution_count": 20,
     "metadata": {},
     "output_type": "execute_result"
    }
   ],
   "source": [
    "# Determine the number of unique values in each column\n",
    "attrition_df.nunique()"
   ]
  },
  {
   "cell_type": "code",
   "execution_count": 21,
   "metadata": {
    "executionInfo": {
     "elapsed": 7,
     "status": "ok",
     "timestamp": 1730699226906,
     "user": {
      "displayName": "Alexander Booth",
      "userId": "02269714993535573104"
     },
     "user_tz": 360
    },
    "id": "50vMgBEnJbfM"
   },
   "outputs": [],
   "source": [
    "# Create y_df with the Attrition and Department columns\n",
    "y_df = attrition_df[['Attrition', 'Department']]"
   ]
  },
  {
   "cell_type": "code",
   "execution_count": 22,
   "metadata": {
    "colab": {
     "base_uri": "https://localhost:8080/",
     "height": 397
    },
    "executionInfo": {
     "elapsed": 125,
     "status": "ok",
     "timestamp": 1730699227025,
     "user": {
      "displayName": "Alexander Booth",
      "userId": "02269714993535573104"
     },
     "user_tz": 360
    },
    "id": "Virka0zLGc3R",
    "outputId": "24f181c9-7e2e-42cb-94e8-a75842f1ab01"
   },
   "outputs": [
    {
     "data": {
      "text/plain": [
       "Age                    int64\n",
       "DistanceFromHome       int64\n",
       "Education              int64\n",
       "YearsAtCompany         int64\n",
       "HourlyRate             int64\n",
       "BusinessTravel        object\n",
       "JobSatisfaction        int64\n",
       "NumCompaniesWorked     int64\n",
       "PercentSalaryHike      int64\n",
       "PerformanceRating      int64\n",
       "dtype: object"
      ]
     },
     "execution_count": 22,
     "metadata": {},
     "output_type": "execute_result"
    }
   ],
   "source": [
    "# Create a list of at least 10 column names to use as X data\n",
    "X_data = attrition_df[['Age', 'DistanceFromHome', 'Education', 'YearsAtCompany', 'HourlyRate', 'BusinessTravel', 'JobSatisfaction', 'NumCompaniesWorked', 'PercentSalaryHike', 'PerformanceRating' ]]\n",
    "\n",
    "# Create X_df using your selected columns\n",
    "X_df = X_data\n",
    "\n",
    "# Show the data types for X_df\n",
    "X_df.dtypes"
   ]
  },
  {
   "cell_type": "code",
   "execution_count": 23,
   "metadata": {
    "executionInfo": {
     "elapsed": 9,
     "status": "ok",
     "timestamp": 1730699227025,
     "user": {
      "displayName": "Alexander Booth",
      "userId": "02269714993535573104"
     },
     "user_tz": 360
    },
    "id": "KaJfdOGUMHMR"
   },
   "outputs": [],
   "source": [
    "# Split the data into training and testing sets\n",
    "X_train, X_test, y_train, y_test = train_test_split(X_df, y_df, random_state=7)"
   ]
  },
  {
   "cell_type": "code",
   "execution_count": 24,
   "metadata": {
    "colab": {
     "base_uri": "https://localhost:8080/",
     "height": 178
    },
    "executionInfo": {
     "elapsed": 8,
     "status": "ok",
     "timestamp": 1730699227025,
     "user": {
      "displayName": "Alexander Booth",
      "userId": "02269714993535573104"
     },
     "user_tz": 360
    },
    "id": "NYubUJqiLCSp",
    "outputId": "6116187c-4afa-4d4a-aeb9-fdc2131d0d58"
   },
   "outputs": [
    {
     "data": {
      "text/plain": [
       "BusinessTravel\n",
       "Travel_Rarely        777\n",
       "Travel_Frequently    213\n",
       "Non-Travel           112\n",
       "Name: count, dtype: int64"
      ]
     },
     "execution_count": 24,
     "metadata": {},
     "output_type": "execute_result"
    }
   ],
   "source": [
    "# Convert your X data to numeric data types however you see fit\n",
    "# Add new code cells as necessary\n",
    "X_train['BusinessTravel'].value_counts()"
   ]
  },
  {
   "cell_type": "code",
   "execution_count": 25,
   "metadata": {},
   "outputs": [
    {
     "data": {
      "text/html": [
       "<div>\n",
       "<style scoped>\n",
       "    .dataframe tbody tr th:only-of-type {\n",
       "        vertical-align: middle;\n",
       "    }\n",
       "\n",
       "    .dataframe tbody tr th {\n",
       "        vertical-align: top;\n",
       "    }\n",
       "\n",
       "    .dataframe thead th {\n",
       "        text-align: right;\n",
       "    }\n",
       "</style>\n",
       "<table border=\"1\" class=\"dataframe\">\n",
       "  <thead>\n",
       "    <tr style=\"text-align: right;\">\n",
       "      <th></th>\n",
       "      <th>Age</th>\n",
       "      <th>DistanceFromHome</th>\n",
       "      <th>Education</th>\n",
       "      <th>YearsAtCompany</th>\n",
       "      <th>HourlyRate</th>\n",
       "      <th>BusinessTravel</th>\n",
       "      <th>JobSatisfaction</th>\n",
       "      <th>NumCompaniesWorked</th>\n",
       "      <th>PercentSalaryHike</th>\n",
       "      <th>PerformanceRating</th>\n",
       "    </tr>\n",
       "  </thead>\n",
       "  <tbody>\n",
       "    <tr>\n",
       "      <th>1098</th>\n",
       "      <td>40</td>\n",
       "      <td>8</td>\n",
       "      <td>2</td>\n",
       "      <td>2</td>\n",
       "      <td>72</td>\n",
       "      <td>0</td>\n",
       "      <td>4</td>\n",
       "      <td>3</td>\n",
       "      <td>18</td>\n",
       "      <td>3</td>\n",
       "    </tr>\n",
       "    <tr>\n",
       "      <th>786</th>\n",
       "      <td>27</td>\n",
       "      <td>8</td>\n",
       "      <td>5</td>\n",
       "      <td>3</td>\n",
       "      <td>87</td>\n",
       "      <td>0</td>\n",
       "      <td>3</td>\n",
       "      <td>1</td>\n",
       "      <td>19</td>\n",
       "      <td>3</td>\n",
       "    </tr>\n",
       "    <tr>\n",
       "      <th>83</th>\n",
       "      <td>38</td>\n",
       "      <td>6</td>\n",
       "      <td>3</td>\n",
       "      <td>13</td>\n",
       "      <td>79</td>\n",
       "      <td>0</td>\n",
       "      <td>4</td>\n",
       "      <td>7</td>\n",
       "      <td>12</td>\n",
       "      <td>3</td>\n",
       "    </tr>\n",
       "    <tr>\n",
       "      <th>115</th>\n",
       "      <td>37</td>\n",
       "      <td>3</td>\n",
       "      <td>3</td>\n",
       "      <td>5</td>\n",
       "      <td>87</td>\n",
       "      <td>2</td>\n",
       "      <td>4</td>\n",
       "      <td>2</td>\n",
       "      <td>12</td>\n",
       "      <td>3</td>\n",
       "    </tr>\n",
       "    <tr>\n",
       "      <th>1134</th>\n",
       "      <td>35</td>\n",
       "      <td>7</td>\n",
       "      <td>2</td>\n",
       "      <td>1</td>\n",
       "      <td>63</td>\n",
       "      <td>2</td>\n",
       "      <td>4</td>\n",
       "      <td>1</td>\n",
       "      <td>18</td>\n",
       "      <td>3</td>\n",
       "    </tr>\n",
       "    <tr>\n",
       "      <th>...</th>\n",
       "      <td>...</td>\n",
       "      <td>...</td>\n",
       "      <td>...</td>\n",
       "      <td>...</td>\n",
       "      <td>...</td>\n",
       "      <td>...</td>\n",
       "      <td>...</td>\n",
       "      <td>...</td>\n",
       "      <td>...</td>\n",
       "      <td>...</td>\n",
       "    </tr>\n",
       "    <tr>\n",
       "      <th>211</th>\n",
       "      <td>30</td>\n",
       "      <td>1</td>\n",
       "      <td>1</td>\n",
       "      <td>11</td>\n",
       "      <td>88</td>\n",
       "      <td>0</td>\n",
       "      <td>3</td>\n",
       "      <td>1</td>\n",
       "      <td>22</td>\n",
       "      <td>4</td>\n",
       "    </tr>\n",
       "    <tr>\n",
       "      <th>502</th>\n",
       "      <td>53</td>\n",
       "      <td>1</td>\n",
       "      <td>1</td>\n",
       "      <td>14</td>\n",
       "      <td>34</td>\n",
       "      <td>2</td>\n",
       "      <td>1</td>\n",
       "      <td>7</td>\n",
       "      <td>20</td>\n",
       "      <td>4</td>\n",
       "    </tr>\n",
       "    <tr>\n",
       "      <th>537</th>\n",
       "      <td>27</td>\n",
       "      <td>10</td>\n",
       "      <td>2</td>\n",
       "      <td>9</td>\n",
       "      <td>32</td>\n",
       "      <td>1</td>\n",
       "      <td>1</td>\n",
       "      <td>1</td>\n",
       "      <td>21</td>\n",
       "      <td>4</td>\n",
       "    </tr>\n",
       "    <tr>\n",
       "      <th>1220</th>\n",
       "      <td>36</td>\n",
       "      <td>2</td>\n",
       "      <td>4</td>\n",
       "      <td>13</td>\n",
       "      <td>51</td>\n",
       "      <td>2</td>\n",
       "      <td>4</td>\n",
       "      <td>3</td>\n",
       "      <td>15</td>\n",
       "      <td>3</td>\n",
       "    </tr>\n",
       "    <tr>\n",
       "      <th>175</th>\n",
       "      <td>56</td>\n",
       "      <td>8</td>\n",
       "      <td>3</td>\n",
       "      <td>2</td>\n",
       "      <td>67</td>\n",
       "      <td>2</td>\n",
       "      <td>1</td>\n",
       "      <td>4</td>\n",
       "      <td>18</td>\n",
       "      <td>3</td>\n",
       "    </tr>\n",
       "  </tbody>\n",
       "</table>\n",
       "<p>1102 rows × 10 columns</p>\n",
       "</div>"
      ],
      "text/plain": [
       "      Age  DistanceFromHome  Education  YearsAtCompany  HourlyRate  \\\n",
       "1098   40                 8          2               2          72   \n",
       "786    27                 8          5               3          87   \n",
       "83     38                 6          3              13          79   \n",
       "115    37                 3          3               5          87   \n",
       "1134   35                 7          2               1          63   \n",
       "...   ...               ...        ...             ...         ...   \n",
       "211    30                 1          1              11          88   \n",
       "502    53                 1          1              14          34   \n",
       "537    27                10          2               9          32   \n",
       "1220   36                 2          4              13          51   \n",
       "175    56                 8          3               2          67   \n",
       "\n",
       "      BusinessTravel  JobSatisfaction  NumCompaniesWorked  PercentSalaryHike  \\\n",
       "1098               0                4                   3                 18   \n",
       "786                0                3                   1                 19   \n",
       "83                 0                4                   7                 12   \n",
       "115                2                4                   2                 12   \n",
       "1134               2                4                   1                 18   \n",
       "...              ...              ...                 ...                ...   \n",
       "211                0                3                   1                 22   \n",
       "502                2                1                   7                 20   \n",
       "537                1                1                   1                 21   \n",
       "1220               2                4                   3                 15   \n",
       "175                2                1                   4                 18   \n",
       "\n",
       "      PerformanceRating  \n",
       "1098                  3  \n",
       "786                   3  \n",
       "83                    3  \n",
       "115                   3  \n",
       "1134                  3  \n",
       "...                 ...  \n",
       "211                   4  \n",
       "502                   4  \n",
       "537                   4  \n",
       "1220                  3  \n",
       "175                   3  \n",
       "\n",
       "[1102 rows x 10 columns]"
      ]
     },
     "execution_count": 25,
     "metadata": {},
     "output_type": "execute_result"
    }
   ],
   "source": [
    "# Create a LabelEncoder for the BusinessTravel column and fit it to the training and testing data\n",
    "le = LabelEncoder()\n",
    "X_train['BusinessTravel'] = le.fit_transform(X_train['BusinessTravel'])\n",
    "X_test['BusinessTravel'] = le.transform(X_test['BusinessTravel'])\n",
    "X_train"
   ]
  },
  {
   "cell_type": "code",
   "execution_count": 26,
   "metadata": {
    "executionInfo": {
     "elapsed": 6,
     "status": "ok",
     "timestamp": 1730699227162,
     "user": {
      "displayName": "Alexander Booth",
      "userId": "02269714993535573104"
     },
     "user_tz": 360
    },
    "id": "EWA-aIA5Gc3T"
   },
   "outputs": [
    {
     "name": "stderr",
     "output_type": "stream",
     "text": [
      "c:\\Users\\mward\\anaconda3\\envs\\dev\\lib\\site-packages\\sklearn\\base.py:493: UserWarning: X does not have valid feature names, but StandardScaler was fitted with feature names\n",
      "  warnings.warn(\n"
     ]
    }
   ],
   "source": [
    "# Create a StandardScaler\n",
    "scaler = StandardScaler()\n",
    "\n",
    "# Fit the StandardScaler to the training data\n",
    "X_train = scaler.fit_transform(X_train)\n",
    "\n",
    "# Scale the training and testing data\n",
    "X_train_scaled = scaler.transform(X_train)\n",
    "X_test_scaled = scaler.transform(X_test)"
   ]
  },
  {
   "cell_type": "code",
   "execution_count": 27,
   "metadata": {},
   "outputs": [],
   "source": [
    "# Create a OneHotEncoder for the Attrition column\n",
    "ohe_att = OneHotEncoder(handle_unknown='ignore', sparse_output=False)\n",
    "\n",
    "# Fit the encoder to the training data\n",
    "ohe_att.fit(np.array(y_train['Attrition']).reshape(-1, 1))\n",
    "\n",
    "# Create two new variables by applying the encoder\n",
    "# to the training and testing data\n",
    "y_train_ohe_att = ohe_att.transform(np.array(y_train['Attrition']).reshape(-1, 1))\n",
    "y_test_ohe_att = ohe_att.transform(np.array(y_test['Attrition']).reshape(-1, 1))"
   ]
  },
  {
   "cell_type": "code",
   "execution_count": 28,
   "metadata": {
    "colab": {
     "base_uri": "https://localhost:8080/"
    },
    "executionInfo": {
     "elapsed": 99,
     "status": "ok",
     "timestamp": 1730699227256,
     "user": {
      "displayName": "Alexander Booth",
      "userId": "02269714993535573104"
     },
     "user_tz": 360
    },
    "id": "-z0Mky8vQSz4",
    "outputId": "5024d63f-7e4e-4a91-fb76-0b2c79c1bcfb"
   },
   "outputs": [],
   "source": [
    "# Create a OneHotEncoder for the Department column\n",
    "ohe_dept = OneHotEncoder(handle_unknown='ignore', sparse_output=False)\n",
    "\n",
    "# Fit the encoder to the training data\n",
    "ohe_dept.fit(np.array(y_train['Department']).reshape(-1, 1))\n",
    "\n",
    "# Create two new variables by applying the encoder\n",
    "# to the training and testing data\n",
    "y_train_ohe_dept = ohe_dept.transform(np.array(y_train['Department']).reshape(-1, 1))\n",
    "y_test_ohe_dept = ohe_dept.transform(np.array(y_test['Department']).reshape(-1, 1))"
   ]
  },
  {
   "cell_type": "markdown",
   "metadata": {
    "id": "ykNmu_WWGc3T"
   },
   "source": [
    "## Part 2: Create, Compile, and Train the Model"
   ]
  },
  {
   "cell_type": "code",
   "execution_count": 29,
   "metadata": {
    "executionInfo": {
     "elapsed": 309,
     "status": "ok",
     "timestamp": 1730699227563,
     "user": {
      "displayName": "Alexander Booth",
      "userId": "02269714993535573104"
     },
     "user_tz": 360
    },
    "id": "WUptZqmSGc3T"
   },
   "outputs": [],
   "source": [
    "# Find the number of columns in the X training data.\n",
    "X_train_scaled.shape[1]\n",
    "\n",
    "# Create the input layer\n",
    "input_layer = tf.keras.layers.Input(shape=(X_train_scaled.shape[1],))\n",
    "\n",
    "# Create at least two shared layers\n",
    "shared_layer1 = tf.keras.layers.Dense(units=128, activation=\"relu\")(input_layer)\n",
    "shared_layer2 = tf.keras.layers.Dense(units=128, activation=\"relu\")(shared_layer1)"
   ]
  },
  {
   "cell_type": "code",
   "execution_count": 30,
   "metadata": {},
   "outputs": [],
   "source": [
    "# Create a branch for Attrition\n",
    "# with a hidden layer and an output layer\n",
    "\n",
    "# Create the hidden layer\n",
    "attrition_dense = tf.keras.layers.Dense(units=64, activation=\"relu\")(shared_layer2)\n",
    "\n",
    "# Create the output layer\n",
    "attrition_output = tf.keras.layers.Dense(y_train_ohe_att.shape[1],\n",
    "                             activation='sigmoid',\n",
    "                             name='Attrition')(attrition_dense)"
   ]
  },
  {
   "cell_type": "code",
   "execution_count": 31,
   "metadata": {
    "executionInfo": {
     "elapsed": 118,
     "status": "ok",
     "timestamp": 1730699227678,
     "user": {
      "displayName": "Alexander Booth",
      "userId": "02269714993535573104"
     },
     "user_tz": 360
    },
    "id": "JukjTm2yTEqd"
   },
   "outputs": [],
   "source": [
    "# Create a branch for Department\n",
    "# with a hidden layer and an output layer\n",
    "\n",
    "# Create the hidden layer\n",
    "dept_dense = tf.keras.layers.Dense(units=64, activation=\"relu\")(shared_layer2)\n",
    "\n",
    "# Create the output layer\n",
    "dept_output = tf.keras.layers.Dense(y_train_ohe_dept.shape[1],\n",
    "                             activation='sigmoid',\n",
    "                             name='Department')(dept_dense)"
   ]
  },
  {
   "cell_type": "code",
   "execution_count": 32,
   "metadata": {
    "colab": {
     "base_uri": "https://localhost:8080/",
     "height": 361
    },
    "executionInfo": {
     "elapsed": 108,
     "status": "ok",
     "timestamp": 1730699227780,
     "user": {
      "displayName": "Alexander Booth",
      "userId": "02269714993535573104"
     },
     "user_tz": 360
    },
    "id": "twmuejdxGc3T",
    "outputId": "dd9ce242-6a66-4709-ba13-4b13551c22e0"
   },
   "outputs": [
    {
     "data": {
      "text/html": [
       "<pre style=\"white-space:pre;overflow-x:auto;line-height:normal;font-family:Menlo,'DejaVu Sans Mono',consolas,'Courier New',monospace\"><span style=\"font-weight: bold\">Model: \"functional_1\"</span>\n",
       "</pre>\n"
      ],
      "text/plain": [
       "\u001b[1mModel: \"functional_1\"\u001b[0m\n"
      ]
     },
     "metadata": {},
     "output_type": "display_data"
    },
    {
     "data": {
      "text/html": [
       "<pre style=\"white-space:pre;overflow-x:auto;line-height:normal;font-family:Menlo,'DejaVu Sans Mono',consolas,'Courier New',monospace\">┏━━━━━━━━━━━━━━━━━━━━━┳━━━━━━━━━━━━━━━━━━━┳━━━━━━━━━━━━┳━━━━━━━━━━━━━━━━━━━┓\n",
       "┃<span style=\"font-weight: bold\"> Layer (type)        </span>┃<span style=\"font-weight: bold\"> Output Shape      </span>┃<span style=\"font-weight: bold\">    Param # </span>┃<span style=\"font-weight: bold\"> Connected to      </span>┃\n",
       "┡━━━━━━━━━━━━━━━━━━━━━╇━━━━━━━━━━━━━━━━━━━╇━━━━━━━━━━━━╇━━━━━━━━━━━━━━━━━━━┩\n",
       "│ input_layer_1       │ (<span style=\"color: #00d7ff; text-decoration-color: #00d7ff\">None</span>, <span style=\"color: #00af00; text-decoration-color: #00af00\">10</span>)        │          <span style=\"color: #00af00; text-decoration-color: #00af00\">0</span> │ -                 │\n",
       "│ (<span style=\"color: #0087ff; text-decoration-color: #0087ff\">InputLayer</span>)        │                   │            │                   │\n",
       "├─────────────────────┼───────────────────┼────────────┼───────────────────┤\n",
       "│ dense_4 (<span style=\"color: #0087ff; text-decoration-color: #0087ff\">Dense</span>)     │ (<span style=\"color: #00d7ff; text-decoration-color: #00d7ff\">None</span>, <span style=\"color: #00af00; text-decoration-color: #00af00\">128</span>)       │      <span style=\"color: #00af00; text-decoration-color: #00af00\">1,408</span> │ input_layer_1[<span style=\"color: #00af00; text-decoration-color: #00af00\">0</span>]… │\n",
       "├─────────────────────┼───────────────────┼────────────┼───────────────────┤\n",
       "│ dense_5 (<span style=\"color: #0087ff; text-decoration-color: #0087ff\">Dense</span>)     │ (<span style=\"color: #00d7ff; text-decoration-color: #00d7ff\">None</span>, <span style=\"color: #00af00; text-decoration-color: #00af00\">128</span>)       │     <span style=\"color: #00af00; text-decoration-color: #00af00\">16,512</span> │ dense_4[<span style=\"color: #00af00; text-decoration-color: #00af00\">0</span>][<span style=\"color: #00af00; text-decoration-color: #00af00\">0</span>]     │\n",
       "├─────────────────────┼───────────────────┼────────────┼───────────────────┤\n",
       "│ dense_6 (<span style=\"color: #0087ff; text-decoration-color: #0087ff\">Dense</span>)     │ (<span style=\"color: #00d7ff; text-decoration-color: #00d7ff\">None</span>, <span style=\"color: #00af00; text-decoration-color: #00af00\">64</span>)        │      <span style=\"color: #00af00; text-decoration-color: #00af00\">8,256</span> │ dense_5[<span style=\"color: #00af00; text-decoration-color: #00af00\">0</span>][<span style=\"color: #00af00; text-decoration-color: #00af00\">0</span>]     │\n",
       "├─────────────────────┼───────────────────┼────────────┼───────────────────┤\n",
       "│ dense_7 (<span style=\"color: #0087ff; text-decoration-color: #0087ff\">Dense</span>)     │ (<span style=\"color: #00d7ff; text-decoration-color: #00d7ff\">None</span>, <span style=\"color: #00af00; text-decoration-color: #00af00\">64</span>)        │      <span style=\"color: #00af00; text-decoration-color: #00af00\">8,256</span> │ dense_5[<span style=\"color: #00af00; text-decoration-color: #00af00\">0</span>][<span style=\"color: #00af00; text-decoration-color: #00af00\">0</span>]     │\n",
       "├─────────────────────┼───────────────────┼────────────┼───────────────────┤\n",
       "│ Attrition (<span style=\"color: #0087ff; text-decoration-color: #0087ff\">Dense</span>)   │ (<span style=\"color: #00d7ff; text-decoration-color: #00d7ff\">None</span>, <span style=\"color: #00af00; text-decoration-color: #00af00\">2</span>)         │        <span style=\"color: #00af00; text-decoration-color: #00af00\">130</span> │ dense_6[<span style=\"color: #00af00; text-decoration-color: #00af00\">0</span>][<span style=\"color: #00af00; text-decoration-color: #00af00\">0</span>]     │\n",
       "├─────────────────────┼───────────────────┼────────────┼───────────────────┤\n",
       "│ Department (<span style=\"color: #0087ff; text-decoration-color: #0087ff\">Dense</span>)  │ (<span style=\"color: #00d7ff; text-decoration-color: #00d7ff\">None</span>, <span style=\"color: #00af00; text-decoration-color: #00af00\">3</span>)         │        <span style=\"color: #00af00; text-decoration-color: #00af00\">195</span> │ dense_7[<span style=\"color: #00af00; text-decoration-color: #00af00\">0</span>][<span style=\"color: #00af00; text-decoration-color: #00af00\">0</span>]     │\n",
       "└─────────────────────┴───────────────────┴────────────┴───────────────────┘\n",
       "</pre>\n"
      ],
      "text/plain": [
       "┏━━━━━━━━━━━━━━━━━━━━━┳━━━━━━━━━━━━━━━━━━━┳━━━━━━━━━━━━┳━━━━━━━━━━━━━━━━━━━┓\n",
       "┃\u001b[1m \u001b[0m\u001b[1mLayer (type)       \u001b[0m\u001b[1m \u001b[0m┃\u001b[1m \u001b[0m\u001b[1mOutput Shape     \u001b[0m\u001b[1m \u001b[0m┃\u001b[1m \u001b[0m\u001b[1m   Param #\u001b[0m\u001b[1m \u001b[0m┃\u001b[1m \u001b[0m\u001b[1mConnected to     \u001b[0m\u001b[1m \u001b[0m┃\n",
       "┡━━━━━━━━━━━━━━━━━━━━━╇━━━━━━━━━━━━━━━━━━━╇━━━━━━━━━━━━╇━━━━━━━━━━━━━━━━━━━┩\n",
       "│ input_layer_1       │ (\u001b[38;5;45mNone\u001b[0m, \u001b[38;5;34m10\u001b[0m)        │          \u001b[38;5;34m0\u001b[0m │ -                 │\n",
       "│ (\u001b[38;5;33mInputLayer\u001b[0m)        │                   │            │                   │\n",
       "├─────────────────────┼───────────────────┼────────────┼───────────────────┤\n",
       "│ dense_4 (\u001b[38;5;33mDense\u001b[0m)     │ (\u001b[38;5;45mNone\u001b[0m, \u001b[38;5;34m128\u001b[0m)       │      \u001b[38;5;34m1,408\u001b[0m │ input_layer_1[\u001b[38;5;34m0\u001b[0m]… │\n",
       "├─────────────────────┼───────────────────┼────────────┼───────────────────┤\n",
       "│ dense_5 (\u001b[38;5;33mDense\u001b[0m)     │ (\u001b[38;5;45mNone\u001b[0m, \u001b[38;5;34m128\u001b[0m)       │     \u001b[38;5;34m16,512\u001b[0m │ dense_4[\u001b[38;5;34m0\u001b[0m][\u001b[38;5;34m0\u001b[0m]     │\n",
       "├─────────────────────┼───────────────────┼────────────┼───────────────────┤\n",
       "│ dense_6 (\u001b[38;5;33mDense\u001b[0m)     │ (\u001b[38;5;45mNone\u001b[0m, \u001b[38;5;34m64\u001b[0m)        │      \u001b[38;5;34m8,256\u001b[0m │ dense_5[\u001b[38;5;34m0\u001b[0m][\u001b[38;5;34m0\u001b[0m]     │\n",
       "├─────────────────────┼───────────────────┼────────────┼───────────────────┤\n",
       "│ dense_7 (\u001b[38;5;33mDense\u001b[0m)     │ (\u001b[38;5;45mNone\u001b[0m, \u001b[38;5;34m64\u001b[0m)        │      \u001b[38;5;34m8,256\u001b[0m │ dense_5[\u001b[38;5;34m0\u001b[0m][\u001b[38;5;34m0\u001b[0m]     │\n",
       "├─────────────────────┼───────────────────┼────────────┼───────────────────┤\n",
       "│ Attrition (\u001b[38;5;33mDense\u001b[0m)   │ (\u001b[38;5;45mNone\u001b[0m, \u001b[38;5;34m2\u001b[0m)         │        \u001b[38;5;34m130\u001b[0m │ dense_6[\u001b[38;5;34m0\u001b[0m][\u001b[38;5;34m0\u001b[0m]     │\n",
       "├─────────────────────┼───────────────────┼────────────┼───────────────────┤\n",
       "│ Department (\u001b[38;5;33mDense\u001b[0m)  │ (\u001b[38;5;45mNone\u001b[0m, \u001b[38;5;34m3\u001b[0m)         │        \u001b[38;5;34m195\u001b[0m │ dense_7[\u001b[38;5;34m0\u001b[0m][\u001b[38;5;34m0\u001b[0m]     │\n",
       "└─────────────────────┴───────────────────┴────────────┴───────────────────┘\n"
      ]
     },
     "metadata": {},
     "output_type": "display_data"
    },
    {
     "data": {
      "text/html": [
       "<pre style=\"white-space:pre;overflow-x:auto;line-height:normal;font-family:Menlo,'DejaVu Sans Mono',consolas,'Courier New',monospace\"><span style=\"font-weight: bold\"> Total params: </span><span style=\"color: #00af00; text-decoration-color: #00af00\">34,757</span> (135.77 KB)\n",
       "</pre>\n"
      ],
      "text/plain": [
       "\u001b[1m Total params: \u001b[0m\u001b[38;5;34m34,757\u001b[0m (135.77 KB)\n"
      ]
     },
     "metadata": {},
     "output_type": "display_data"
    },
    {
     "data": {
      "text/html": [
       "<pre style=\"white-space:pre;overflow-x:auto;line-height:normal;font-family:Menlo,'DejaVu Sans Mono',consolas,'Courier New',monospace\"><span style=\"font-weight: bold\"> Trainable params: </span><span style=\"color: #00af00; text-decoration-color: #00af00\">34,757</span> (135.77 KB)\n",
       "</pre>\n"
      ],
      "text/plain": [
       "\u001b[1m Trainable params: \u001b[0m\u001b[38;5;34m34,757\u001b[0m (135.77 KB)\n"
      ]
     },
     "metadata": {},
     "output_type": "display_data"
    },
    {
     "data": {
      "text/html": [
       "<pre style=\"white-space:pre;overflow-x:auto;line-height:normal;font-family:Menlo,'DejaVu Sans Mono',consolas,'Courier New',monospace\"><span style=\"font-weight: bold\"> Non-trainable params: </span><span style=\"color: #00af00; text-decoration-color: #00af00\">0</span> (0.00 B)\n",
       "</pre>\n"
      ],
      "text/plain": [
       "\u001b[1m Non-trainable params: \u001b[0m\u001b[38;5;34m0\u001b[0m (0.00 B)\n"
      ]
     },
     "metadata": {},
     "output_type": "display_data"
    }
   ],
   "source": [
    "# Create the model\n",
    "model = Model(inputs=input_layer, outputs={'Attrition': attrition_output, 'Department': dept_output})\n",
    "\n",
    "# Compile the model\n",
    "model.compile(optimizer='adam', loss={'Attrition': 'binary_crossentropy', 'Department': 'binary_crossentropy'}, \n",
    "              metrics={'Attrition': 'accuracy', 'Department': 'accuracy'})\n",
    "\n",
    "# Summarize the model\n",
    "model.summary()\n"
   ]
  },
  {
   "cell_type": "code",
   "execution_count": 33,
   "metadata": {
    "colab": {
     "base_uri": "https://localhost:8080/"
    },
    "executionInfo": {
     "elapsed": 31740,
     "status": "ok",
     "timestamp": 1730699259517,
     "user": {
      "displayName": "Alexander Booth",
      "userId": "02269714993535573104"
     },
     "user_tz": 360
    },
    "id": "c8oGy0dpGc3U",
    "outputId": "f48a5292-426f-4715-ea6e-381a8e9d5542"
   },
   "outputs": [
    {
     "name": "stdout",
     "output_type": "stream",
     "text": [
      "Epoch 1/100\n",
      "\u001b[1m28/28\u001b[0m \u001b[32m━━━━━━━━━━━━━━━━━━━━\u001b[0m\u001b[37m\u001b[0m \u001b[1m2s\u001b[0m 11ms/step - Attrition_accuracy: 0.7429 - Attrition_loss: 0.5474 - Department_accuracy: 0.6527 - Department_loss: 0.5449 - loss: 1.0923 - val_Attrition_accuracy: 0.8552 - val_Attrition_loss: 0.4336 - val_Department_accuracy: 0.6606 - val_Department_loss: 0.5036 - val_loss: 0.9375\n",
      "Epoch 2/100\n",
      "\u001b[1m28/28\u001b[0m \u001b[32m━━━━━━━━━━━━━━━━━━━━\u001b[0m\u001b[37m\u001b[0m \u001b[1m0s\u001b[0m 3ms/step - Attrition_accuracy: 0.8386 - Attrition_loss: 0.4529 - Department_accuracy: 0.6332 - Department_loss: 0.4932 - loss: 0.9460 - val_Attrition_accuracy: 0.8552 - val_Attrition_loss: 0.4189 - val_Department_accuracy: 0.6606 - val_Department_loss: 0.4901 - val_loss: 0.9094\n",
      "Epoch 3/100\n",
      "\u001b[1m28/28\u001b[0m \u001b[32m━━━━━━━━━━━━━━━━━━━━\u001b[0m\u001b[37m\u001b[0m \u001b[1m0s\u001b[0m 3ms/step - Attrition_accuracy: 0.8526 - Attrition_loss: 0.4224 - Department_accuracy: 0.6297 - Department_loss: 0.4878 - loss: 0.9104 - val_Attrition_accuracy: 0.8552 - val_Attrition_loss: 0.4356 - val_Department_accuracy: 0.6606 - val_Department_loss: 0.4895 - val_loss: 0.9260\n",
      "Epoch 4/100\n",
      "\u001b[1m28/28\u001b[0m \u001b[32m━━━━━━━━━━━━━━━━━━━━\u001b[0m\u001b[37m\u001b[0m \u001b[1m0s\u001b[0m 3ms/step - Attrition_accuracy: 0.8218 - Attrition_loss: 0.4691 - Department_accuracy: 0.6224 - Department_loss: 0.4958 - loss: 0.9652 - val_Attrition_accuracy: 0.8552 - val_Attrition_loss: 0.4159 - val_Department_accuracy: 0.6606 - val_Department_loss: 0.4896 - val_loss: 0.9061\n",
      "Epoch 5/100\n",
      "\u001b[1m28/28\u001b[0m \u001b[32m━━━━━━━━━━━━━━━━━━━━\u001b[0m\u001b[37m\u001b[0m \u001b[1m0s\u001b[0m 3ms/step - Attrition_accuracy: 0.8500 - Attrition_loss: 0.4215 - Department_accuracy: 0.6658 - Department_loss: 0.4765 - loss: 0.8980 - val_Attrition_accuracy: 0.8552 - val_Attrition_loss: 0.4359 - val_Department_accuracy: 0.6606 - val_Department_loss: 0.5034 - val_loss: 0.9396\n",
      "Epoch 6/100\n",
      "\u001b[1m28/28\u001b[0m \u001b[32m━━━━━━━━━━━━━━━━━━━━\u001b[0m\u001b[37m\u001b[0m \u001b[1m0s\u001b[0m 3ms/step - Attrition_accuracy: 0.8303 - Attrition_loss: 0.4618 - Department_accuracy: 0.6314 - Department_loss: 0.4906 - loss: 0.9526 - val_Attrition_accuracy: 0.8552 - val_Attrition_loss: 0.4150 - val_Department_accuracy: 0.6606 - val_Department_loss: 0.4902 - val_loss: 0.9056\n",
      "Epoch 7/100\n",
      "\u001b[1m28/28\u001b[0m \u001b[32m━━━━━━━━━━━━━━━━━━━━\u001b[0m\u001b[37m\u001b[0m \u001b[1m0s\u001b[0m 4ms/step - Attrition_accuracy: 0.8383 - Attrition_loss: 0.4433 - Department_accuracy: 0.6434 - Department_loss: 0.4871 - loss: 0.9303 - val_Attrition_accuracy: 0.8552 - val_Attrition_loss: 0.4145 - val_Department_accuracy: 0.6606 - val_Department_loss: 0.4990 - val_loss: 0.9138\n",
      "Epoch 8/100\n",
      "\u001b[1m28/28\u001b[0m \u001b[32m━━━━━━━━━━━━━━━━━━━━\u001b[0m\u001b[37m\u001b[0m \u001b[1m0s\u001b[0m 3ms/step - Attrition_accuracy: 0.8181 - Attrition_loss: 0.4661 - Department_accuracy: 0.6271 - Department_loss: 0.4891 - loss: 0.9554 - val_Attrition_accuracy: 0.8552 - val_Attrition_loss: 0.4106 - val_Department_accuracy: 0.6606 - val_Department_loss: 0.4946 - val_loss: 0.9058\n",
      "Epoch 9/100\n",
      "\u001b[1m28/28\u001b[0m \u001b[32m━━━━━━━━━━━━━━━━━━━━\u001b[0m\u001b[37m\u001b[0m \u001b[1m0s\u001b[0m 3ms/step - Attrition_accuracy: 0.8197 - Attrition_loss: 0.4632 - Department_accuracy: 0.6446 - Department_loss: 0.4861 - loss: 0.9492 - val_Attrition_accuracy: 0.8552 - val_Attrition_loss: 0.4078 - val_Department_accuracy: 0.6606 - val_Department_loss: 0.4949 - val_loss: 0.9031\n",
      "Epoch 10/100\n",
      "\u001b[1m28/28\u001b[0m \u001b[32m━━━━━━━━━━━━━━━━━━━━\u001b[0m\u001b[37m\u001b[0m \u001b[1m0s\u001b[0m 4ms/step - Attrition_accuracy: 0.8215 - Attrition_loss: 0.4626 - Department_accuracy: 0.6272 - Department_loss: 0.4930 - loss: 0.9555 - val_Attrition_accuracy: 0.8552 - val_Attrition_loss: 0.4055 - val_Department_accuracy: 0.6606 - val_Department_loss: 0.4929 - val_loss: 0.8990\n",
      "Epoch 11/100\n",
      "\u001b[1m28/28\u001b[0m \u001b[32m━━━━━━━━━━━━━━━━━━━━\u001b[0m\u001b[37m\u001b[0m \u001b[1m0s\u001b[0m 5ms/step - Attrition_accuracy: 0.8403 - Attrition_loss: 0.4291 - Department_accuracy: 0.6102 - Department_loss: 0.4976 - loss: 0.9267 - val_Attrition_accuracy: 0.8552 - val_Attrition_loss: 0.4138 - val_Department_accuracy: 0.6606 - val_Department_loss: 0.4875 - val_loss: 0.9023\n",
      "Epoch 12/100\n",
      "\u001b[1m28/28\u001b[0m \u001b[32m━━━━━━━━━━━━━━━━━━━━\u001b[0m\u001b[37m\u001b[0m \u001b[1m0s\u001b[0m 4ms/step - Attrition_accuracy: 0.8329 - Attrition_loss: 0.4431 - Department_accuracy: 0.6241 - Department_loss: 0.4965 - loss: 0.9398 - val_Attrition_accuracy: 0.8552 - val_Attrition_loss: 0.4116 - val_Department_accuracy: 0.6606 - val_Department_loss: 0.4950 - val_loss: 0.9071\n",
      "Epoch 13/100\n",
      "\u001b[1m28/28\u001b[0m \u001b[32m━━━━━━━━━━━━━━━━━━━━\u001b[0m\u001b[37m\u001b[0m \u001b[1m0s\u001b[0m 4ms/step - Attrition_accuracy: 0.8387 - Attrition_loss: 0.4277 - Department_accuracy: 0.6166 - Department_loss: 0.4952 - loss: 0.9229 - val_Attrition_accuracy: 0.8552 - val_Attrition_loss: 0.4042 - val_Department_accuracy: 0.6606 - val_Department_loss: 0.4891 - val_loss: 0.8941\n",
      "Epoch 14/100\n",
      "\u001b[1m28/28\u001b[0m \u001b[32m━━━━━━━━━━━━━━━━━━━━\u001b[0m\u001b[37m\u001b[0m \u001b[1m0s\u001b[0m 4ms/step - Attrition_accuracy: 0.8458 - Attrition_loss: 0.4170 - Department_accuracy: 0.6037 - Department_loss: 0.5155 - loss: 0.9324 - val_Attrition_accuracy: 0.8552 - val_Attrition_loss: 0.4136 - val_Department_accuracy: 0.6606 - val_Department_loss: 0.4960 - val_loss: 0.9102\n",
      "Epoch 15/100\n",
      "\u001b[1m28/28\u001b[0m \u001b[32m━━━━━━━━━━━━━━━━━━━━\u001b[0m\u001b[37m\u001b[0m \u001b[1m0s\u001b[0m 4ms/step - Attrition_accuracy: 0.8467 - Attrition_loss: 0.4210 - Department_accuracy: 0.6101 - Department_loss: 0.5031 - loss: 0.9241 - val_Attrition_accuracy: 0.8552 - val_Attrition_loss: 0.4055 - val_Department_accuracy: 0.6606 - val_Department_loss: 0.4899 - val_loss: 0.8961\n",
      "Epoch 16/100\n",
      "\u001b[1m28/28\u001b[0m \u001b[32m━━━━━━━━━━━━━━━━━━━━\u001b[0m\u001b[37m\u001b[0m \u001b[1m0s\u001b[0m 4ms/step - Attrition_accuracy: 0.8389 - Attrition_loss: 0.4281 - Department_accuracy: 0.6234 - Department_loss: 0.4977 - loss: 0.9261 - val_Attrition_accuracy: 0.8552 - val_Attrition_loss: 0.4213 - val_Department_accuracy: 0.6516 - val_Department_loss: 0.4967 - val_loss: 0.9186\n",
      "Epoch 17/100\n",
      "\u001b[1m28/28\u001b[0m \u001b[32m━━━━━━━━━━━━━━━━━━━━\u001b[0m\u001b[37m\u001b[0m \u001b[1m0s\u001b[0m 3ms/step - Attrition_accuracy: 0.8276 - Attrition_loss: 0.4433 - Department_accuracy: 0.6350 - Department_loss: 0.4879 - loss: 0.9313 - val_Attrition_accuracy: 0.8597 - val_Attrition_loss: 0.4077 - val_Department_accuracy: 0.6606 - val_Department_loss: 0.4913 - val_loss: 0.8995\n",
      "Epoch 18/100\n",
      "\u001b[1m28/28\u001b[0m \u001b[32m━━━━━━━━━━━━━━━━━━━━\u001b[0m\u001b[37m\u001b[0m \u001b[1m0s\u001b[0m 3ms/step - Attrition_accuracy: 0.8394 - Attrition_loss: 0.4347 - Department_accuracy: 0.6190 - Department_loss: 0.4930 - loss: 0.9277 - val_Attrition_accuracy: 0.8552 - val_Attrition_loss: 0.4143 - val_Department_accuracy: 0.6606 - val_Department_loss: 0.4895 - val_loss: 0.9047\n",
      "Epoch 19/100\n",
      "\u001b[1m28/28\u001b[0m \u001b[32m━━━━━━━━━━━━━━━━━━━━\u001b[0m\u001b[37m\u001b[0m \u001b[1m0s\u001b[0m 3ms/step - Attrition_accuracy: 0.8377 - Attrition_loss: 0.4330 - Department_accuracy: 0.6320 - Department_loss: 0.4810 - loss: 0.9137 - val_Attrition_accuracy: 0.8552 - val_Attrition_loss: 0.4004 - val_Department_accuracy: 0.6606 - val_Department_loss: 0.4903 - val_loss: 0.8915\n",
      "Epoch 20/100\n",
      "\u001b[1m28/28\u001b[0m \u001b[32m━━━━━━━━━━━━━━━━━━━━\u001b[0m\u001b[37m\u001b[0m \u001b[1m0s\u001b[0m 3ms/step - Attrition_accuracy: 0.8395 - Attrition_loss: 0.4188 - Department_accuracy: 0.6210 - Department_loss: 0.4948 - loss: 0.9136 - val_Attrition_accuracy: 0.8597 - val_Attrition_loss: 0.4060 - val_Department_accuracy: 0.6606 - val_Department_loss: 0.4918 - val_loss: 0.8987\n",
      "Epoch 21/100\n",
      "\u001b[1m28/28\u001b[0m \u001b[32m━━━━━━━━━━━━━━━━━━━━\u001b[0m\u001b[37m\u001b[0m \u001b[1m0s\u001b[0m 3ms/step - Attrition_accuracy: 0.8339 - Attrition_loss: 0.4354 - Department_accuracy: 0.6223 - Department_loss: 0.4894 - loss: 0.9247 - val_Attrition_accuracy: 0.8552 - val_Attrition_loss: 0.4146 - val_Department_accuracy: 0.6606 - val_Department_loss: 0.4899 - val_loss: 0.9053\n",
      "Epoch 22/100\n",
      "\u001b[1m28/28\u001b[0m \u001b[32m━━━━━━━━━━━━━━━━━━━━\u001b[0m\u001b[37m\u001b[0m \u001b[1m0s\u001b[0m 3ms/step - Attrition_accuracy: 0.8150 - Attrition_loss: 0.4602 - Department_accuracy: 0.6481 - Department_loss: 0.4768 - loss: 0.9371 - val_Attrition_accuracy: 0.8507 - val_Attrition_loss: 0.3971 - val_Department_accuracy: 0.6516 - val_Department_loss: 0.5021 - val_loss: 0.8996\n",
      "Epoch 23/100\n",
      "\u001b[1m28/28\u001b[0m \u001b[32m━━━━━━━━━━━━━━━━━━━━\u001b[0m\u001b[37m\u001b[0m \u001b[1m0s\u001b[0m 3ms/step - Attrition_accuracy: 0.8487 - Attrition_loss: 0.4104 - Department_accuracy: 0.6241 - Department_loss: 0.4906 - loss: 0.9010 - val_Attrition_accuracy: 0.8643 - val_Attrition_loss: 0.3937 - val_Department_accuracy: 0.6606 - val_Department_loss: 0.4899 - val_loss: 0.8845\n",
      "Epoch 24/100\n",
      "\u001b[1m28/28\u001b[0m \u001b[32m━━━━━━━━━━━━━━━━━━━━\u001b[0m\u001b[37m\u001b[0m \u001b[1m0s\u001b[0m 3ms/step - Attrition_accuracy: 0.8502 - Attrition_loss: 0.4113 - Department_accuracy: 0.6271 - Department_loss: 0.4963 - loss: 0.9073 - val_Attrition_accuracy: 0.8597 - val_Attrition_loss: 0.3930 - val_Department_accuracy: 0.6606 - val_Department_loss: 0.4900 - val_loss: 0.8840\n",
      "Epoch 25/100\n",
      "\u001b[1m28/28\u001b[0m \u001b[32m━━━━━━━━━━━━━━━━━━━━\u001b[0m\u001b[37m\u001b[0m \u001b[1m0s\u001b[0m 3ms/step - Attrition_accuracy: 0.8277 - Attrition_loss: 0.4484 - Department_accuracy: 0.6056 - Department_loss: 0.5024 - loss: 0.9509 - val_Attrition_accuracy: 0.8552 - val_Attrition_loss: 0.3970 - val_Department_accuracy: 0.6606 - val_Department_loss: 0.4941 - val_loss: 0.8918\n",
      "Epoch 26/100\n",
      "\u001b[1m28/28\u001b[0m \u001b[32m━━━━━━━━━━━━━━━━━━━━\u001b[0m\u001b[37m\u001b[0m \u001b[1m0s\u001b[0m 4ms/step - Attrition_accuracy: 0.8131 - Attrition_loss: 0.4699 - Department_accuracy: 0.6295 - Department_loss: 0.4950 - loss: 0.9647 - val_Attrition_accuracy: 0.8597 - val_Attrition_loss: 0.3883 - val_Department_accuracy: 0.6606 - val_Department_loss: 0.4894 - val_loss: 0.8785\n",
      "Epoch 27/100\n",
      "\u001b[1m28/28\u001b[0m \u001b[32m━━━━━━━━━━━━━━━━━━━━\u001b[0m\u001b[37m\u001b[0m \u001b[1m0s\u001b[0m 3ms/step - Attrition_accuracy: 0.8397 - Attrition_loss: 0.4203 - Department_accuracy: 0.6407 - Department_loss: 0.4860 - loss: 0.9064 - val_Attrition_accuracy: 0.8552 - val_Attrition_loss: 0.4011 - val_Department_accuracy: 0.6606 - val_Department_loss: 0.4902 - val_loss: 0.8921\n",
      "Epoch 28/100\n",
      "\u001b[1m28/28\u001b[0m \u001b[32m━━━━━━━━━━━━━━━━━━━━\u001b[0m\u001b[37m\u001b[0m \u001b[1m0s\u001b[0m 3ms/step - Attrition_accuracy: 0.8236 - Attrition_loss: 0.4507 - Department_accuracy: 0.6089 - Department_loss: 0.4980 - loss: 0.9487 - val_Attrition_accuracy: 0.8597 - val_Attrition_loss: 0.3903 - val_Department_accuracy: 0.6606 - val_Department_loss: 0.5023 - val_loss: 0.8935\n",
      "Epoch 29/100\n",
      "\u001b[1m28/28\u001b[0m \u001b[32m━━━━━━━━━━━━━━━━━━━━\u001b[0m\u001b[37m\u001b[0m \u001b[1m0s\u001b[0m 3ms/step - Attrition_accuracy: 0.8360 - Attrition_loss: 0.4418 - Department_accuracy: 0.6542 - Department_loss: 0.4742 - loss: 0.9162 - val_Attrition_accuracy: 0.8597 - val_Attrition_loss: 0.4052 - val_Department_accuracy: 0.6516 - val_Department_loss: 0.4921 - val_loss: 0.8981\n",
      "Epoch 30/100\n",
      "\u001b[1m28/28\u001b[0m \u001b[32m━━━━━━━━━━━━━━━━━━━━\u001b[0m\u001b[37m\u001b[0m \u001b[1m0s\u001b[0m 3ms/step - Attrition_accuracy: 0.8490 - Attrition_loss: 0.4065 - Department_accuracy: 0.6295 - Department_loss: 0.4898 - loss: 0.8962 - val_Attrition_accuracy: 0.8416 - val_Attrition_loss: 0.4213 - val_Department_accuracy: 0.6606 - val_Department_loss: 0.4967 - val_loss: 0.9187\n",
      "Epoch 31/100\n",
      "\u001b[1m28/28\u001b[0m \u001b[32m━━━━━━━━━━━━━━━━━━━━\u001b[0m\u001b[37m\u001b[0m \u001b[1m0s\u001b[0m 3ms/step - Attrition_accuracy: 0.8411 - Attrition_loss: 0.4318 - Department_accuracy: 0.6564 - Department_loss: 0.4718 - loss: 0.9035 - val_Attrition_accuracy: 0.8552 - val_Attrition_loss: 0.3989 - val_Department_accuracy: 0.6561 - val_Department_loss: 0.4936 - val_loss: 0.8933\n",
      "Epoch 32/100\n",
      "\u001b[1m28/28\u001b[0m \u001b[32m━━━━━━━━━━━━━━━━━━━━\u001b[0m\u001b[37m\u001b[0m \u001b[1m0s\u001b[0m 3ms/step - Attrition_accuracy: 0.8250 - Attrition_loss: 0.4432 - Department_accuracy: 0.6539 - Department_loss: 0.4723 - loss: 0.9152 - val_Attrition_accuracy: 0.8643 - val_Attrition_loss: 0.3889 - val_Department_accuracy: 0.6561 - val_Department_loss: 0.4922 - val_loss: 0.8819\n",
      "Epoch 33/100\n",
      "\u001b[1m28/28\u001b[0m \u001b[32m━━━━━━━━━━━━━━━━━━━━\u001b[0m\u001b[37m\u001b[0m \u001b[1m0s\u001b[0m 3ms/step - Attrition_accuracy: 0.8308 - Attrition_loss: 0.4349 - Department_accuracy: 0.6269 - Department_loss: 0.4869 - loss: 0.9219 - val_Attrition_accuracy: 0.8552 - val_Attrition_loss: 0.3936 - val_Department_accuracy: 0.6561 - val_Department_loss: 0.4939 - val_loss: 0.8887\n",
      "Epoch 34/100\n",
      "\u001b[1m28/28\u001b[0m \u001b[32m━━━━━━━━━━━━━━━━━━━━\u001b[0m\u001b[37m\u001b[0m \u001b[1m0s\u001b[0m 3ms/step - Attrition_accuracy: 0.8323 - Attrition_loss: 0.4308 - Department_accuracy: 0.6166 - Department_loss: 0.4948 - loss: 0.9255 - val_Attrition_accuracy: 0.8507 - val_Attrition_loss: 0.4119 - val_Department_accuracy: 0.6561 - val_Department_loss: 0.4938 - val_loss: 0.9067\n",
      "Epoch 35/100\n",
      "\u001b[1m28/28\u001b[0m \u001b[32m━━━━━━━━━━━━━━━━━━━━\u001b[0m\u001b[37m\u001b[0m \u001b[1m0s\u001b[0m 3ms/step - Attrition_accuracy: 0.8370 - Attrition_loss: 0.4195 - Department_accuracy: 0.6324 - Department_loss: 0.4882 - loss: 0.9076 - val_Attrition_accuracy: 0.8552 - val_Attrition_loss: 0.4072 - val_Department_accuracy: 0.6606 - val_Department_loss: 0.4950 - val_loss: 0.9033\n",
      "Epoch 36/100\n",
      "\u001b[1m28/28\u001b[0m \u001b[32m━━━━━━━━━━━━━━━━━━━━\u001b[0m\u001b[37m\u001b[0m \u001b[1m0s\u001b[0m 3ms/step - Attrition_accuracy: 0.8327 - Attrition_loss: 0.4308 - Department_accuracy: 0.6187 - Department_loss: 0.4855 - loss: 0.9161 - val_Attrition_accuracy: 0.8552 - val_Attrition_loss: 0.3952 - val_Department_accuracy: 0.6516 - val_Department_loss: 0.4918 - val_loss: 0.8880\n",
      "Epoch 37/100\n",
      "\u001b[1m28/28\u001b[0m \u001b[32m━━━━━━━━━━━━━━━━━━━━\u001b[0m\u001b[37m\u001b[0m \u001b[1m0s\u001b[0m 3ms/step - Attrition_accuracy: 0.8331 - Attrition_loss: 0.4238 - Department_accuracy: 0.6374 - Department_loss: 0.4795 - loss: 0.9033 - val_Attrition_accuracy: 0.8597 - val_Attrition_loss: 0.3839 - val_Department_accuracy: 0.6606 - val_Department_loss: 0.4897 - val_loss: 0.8744\n",
      "Epoch 38/100\n",
      "\u001b[1m28/28\u001b[0m \u001b[32m━━━━━━━━━━━━━━━━━━━━\u001b[0m\u001b[37m\u001b[0m \u001b[1m0s\u001b[0m 3ms/step - Attrition_accuracy: 0.8288 - Attrition_loss: 0.4424 - Department_accuracy: 0.6340 - Department_loss: 0.4781 - loss: 0.9209 - val_Attrition_accuracy: 0.8597 - val_Attrition_loss: 0.3941 - val_Department_accuracy: 0.6516 - val_Department_loss: 0.4989 - val_loss: 0.8942\n",
      "Epoch 39/100\n",
      "\u001b[1m28/28\u001b[0m \u001b[32m━━━━━━━━━━━━━━━━━━━━\u001b[0m\u001b[37m\u001b[0m \u001b[1m0s\u001b[0m 3ms/step - Attrition_accuracy: 0.8322 - Attrition_loss: 0.4216 - Department_accuracy: 0.6549 - Department_loss: 0.4659 - loss: 0.8876 - val_Attrition_accuracy: 0.8597 - val_Attrition_loss: 0.3924 - val_Department_accuracy: 0.6471 - val_Department_loss: 0.4909 - val_loss: 0.8842\n",
      "Epoch 40/100\n",
      "\u001b[1m28/28\u001b[0m \u001b[32m━━━━━━━━━━━━━━━━━━━━\u001b[0m\u001b[37m\u001b[0m \u001b[1m0s\u001b[0m 3ms/step - Attrition_accuracy: 0.8313 - Attrition_loss: 0.4318 - Department_accuracy: 0.6350 - Department_loss: 0.4826 - loss: 0.9145 - val_Attrition_accuracy: 0.8552 - val_Attrition_loss: 0.3962 - val_Department_accuracy: 0.6516 - val_Department_loss: 0.4987 - val_loss: 0.8962\n",
      "Epoch 41/100\n",
      "\u001b[1m28/28\u001b[0m \u001b[32m━━━━━━━━━━━━━━━━━━━━\u001b[0m\u001b[37m\u001b[0m \u001b[1m0s\u001b[0m 3ms/step - Attrition_accuracy: 0.8341 - Attrition_loss: 0.4169 - Department_accuracy: 0.6508 - Department_loss: 0.4761 - loss: 0.8927 - val_Attrition_accuracy: 0.8552 - val_Attrition_loss: 0.3923 - val_Department_accuracy: 0.6606 - val_Department_loss: 0.4954 - val_loss: 0.8890\n",
      "Epoch 42/100\n",
      "\u001b[1m28/28\u001b[0m \u001b[32m━━━━━━━━━━━━━━━━━━━━\u001b[0m\u001b[37m\u001b[0m \u001b[1m0s\u001b[0m 3ms/step - Attrition_accuracy: 0.8386 - Attrition_loss: 0.4122 - Department_accuracy: 0.6258 - Department_loss: 0.4788 - loss: 0.8910 - val_Attrition_accuracy: 0.8552 - val_Attrition_loss: 0.4051 - val_Department_accuracy: 0.6561 - val_Department_loss: 0.4920 - val_loss: 0.8982\n",
      "Epoch 43/100\n",
      "\u001b[1m28/28\u001b[0m \u001b[32m━━━━━━━━━━━━━━━━━━━━\u001b[0m\u001b[37m\u001b[0m \u001b[1m0s\u001b[0m 3ms/step - Attrition_accuracy: 0.8596 - Attrition_loss: 0.3866 - Department_accuracy: 0.6428 - Department_loss: 0.4778 - loss: 0.8644 - val_Attrition_accuracy: 0.8552 - val_Attrition_loss: 0.3931 - val_Department_accuracy: 0.6606 - val_Department_loss: 0.4931 - val_loss: 0.8875\n",
      "Epoch 44/100\n",
      "\u001b[1m28/28\u001b[0m \u001b[32m━━━━━━━━━━━━━━━━━━━━\u001b[0m\u001b[37m\u001b[0m \u001b[1m0s\u001b[0m 3ms/step - Attrition_accuracy: 0.8616 - Attrition_loss: 0.3888 - Department_accuracy: 0.6454 - Department_loss: 0.4772 - loss: 0.8657 - val_Attrition_accuracy: 0.8552 - val_Attrition_loss: 0.3932 - val_Department_accuracy: 0.6471 - val_Department_loss: 0.5010 - val_loss: 0.8956\n",
      "Epoch 45/100\n",
      "\u001b[1m28/28\u001b[0m \u001b[32m━━━━━━━━━━━━━━━━━━━━\u001b[0m\u001b[37m\u001b[0m \u001b[1m0s\u001b[0m 3ms/step - Attrition_accuracy: 0.8357 - Attrition_loss: 0.4089 - Department_accuracy: 0.6469 - Department_loss: 0.4770 - loss: 0.8858 - val_Attrition_accuracy: 0.8552 - val_Attrition_loss: 0.4221 - val_Department_accuracy: 0.6561 - val_Department_loss: 0.4919 - val_loss: 0.9150\n",
      "Epoch 46/100\n",
      "\u001b[1m28/28\u001b[0m \u001b[32m━━━━━━━━━━━━━━━━━━━━\u001b[0m\u001b[37m\u001b[0m \u001b[1m0s\u001b[0m 3ms/step - Attrition_accuracy: 0.8481 - Attrition_loss: 0.3957 - Department_accuracy: 0.6354 - Department_loss: 0.4819 - loss: 0.8774 - val_Attrition_accuracy: 0.8597 - val_Attrition_loss: 0.4058 - val_Department_accuracy: 0.6561 - val_Department_loss: 0.5085 - val_loss: 0.9160\n",
      "Epoch 47/100\n",
      "\u001b[1m28/28\u001b[0m \u001b[32m━━━━━━━━━━━━━━━━━━━━\u001b[0m\u001b[37m\u001b[0m \u001b[1m0s\u001b[0m 3ms/step - Attrition_accuracy: 0.8638 - Attrition_loss: 0.3769 - Department_accuracy: 0.6165 - Department_loss: 0.4946 - loss: 0.8714 - val_Attrition_accuracy: 0.8507 - val_Attrition_loss: 0.3987 - val_Department_accuracy: 0.6561 - val_Department_loss: 0.4949 - val_loss: 0.8948\n",
      "Epoch 48/100\n",
      "\u001b[1m28/28\u001b[0m \u001b[32m━━━━━━━━━━━━━━━━━━━━\u001b[0m\u001b[37m\u001b[0m \u001b[1m0s\u001b[0m 3ms/step - Attrition_accuracy: 0.8406 - Attrition_loss: 0.4130 - Department_accuracy: 0.6119 - Department_loss: 0.4941 - loss: 0.9070 - val_Attrition_accuracy: 0.8552 - val_Attrition_loss: 0.3883 - val_Department_accuracy: 0.6561 - val_Department_loss: 0.5001 - val_loss: 0.8899\n",
      "Epoch 49/100\n",
      "\u001b[1m28/28\u001b[0m \u001b[32m━━━━━━━━━━━━━━━━━━━━\u001b[0m\u001b[37m\u001b[0m \u001b[1m0s\u001b[0m 3ms/step - Attrition_accuracy: 0.8478 - Attrition_loss: 0.3933 - Department_accuracy: 0.6279 - Department_loss: 0.4902 - loss: 0.8837 - val_Attrition_accuracy: 0.8597 - val_Attrition_loss: 0.3890 - val_Department_accuracy: 0.6606 - val_Department_loss: 0.4991 - val_loss: 0.8895\n",
      "Epoch 50/100\n",
      "\u001b[1m28/28\u001b[0m \u001b[32m━━━━━━━━━━━━━━━━━━━━\u001b[0m\u001b[37m\u001b[0m \u001b[1m0s\u001b[0m 3ms/step - Attrition_accuracy: 0.8236 - Attrition_loss: 0.4367 - Department_accuracy: 0.6075 - Department_loss: 0.4907 - loss: 0.9275 - val_Attrition_accuracy: 0.8597 - val_Attrition_loss: 0.3767 - val_Department_accuracy: 0.6606 - val_Department_loss: 0.4957 - val_loss: 0.8740\n",
      "Epoch 51/100\n",
      "\u001b[1m28/28\u001b[0m \u001b[32m━━━━━━━━━━━━━━━━━━━━\u001b[0m\u001b[37m\u001b[0m \u001b[1m0s\u001b[0m 3ms/step - Attrition_accuracy: 0.8240 - Attrition_loss: 0.4287 - Department_accuracy: 0.6472 - Department_loss: 0.4745 - loss: 0.9031 - val_Attrition_accuracy: 0.8552 - val_Attrition_loss: 0.4035 - val_Department_accuracy: 0.6425 - val_Department_loss: 0.5121 - val_loss: 0.9168\n",
      "Epoch 52/100\n",
      "\u001b[1m28/28\u001b[0m \u001b[32m━━━━━━━━━━━━━━━━━━━━\u001b[0m\u001b[37m\u001b[0m \u001b[1m0s\u001b[0m 3ms/step - Attrition_accuracy: 0.8337 - Attrition_loss: 0.4135 - Department_accuracy: 0.6371 - Department_loss: 0.4829 - loss: 0.8964 - val_Attrition_accuracy: 0.8597 - val_Attrition_loss: 0.3991 - val_Department_accuracy: 0.6561 - val_Department_loss: 0.5010 - val_loss: 0.9019\n",
      "Epoch 53/100\n",
      "\u001b[1m28/28\u001b[0m \u001b[32m━━━━━━━━━━━━━━━━━━━━\u001b[0m\u001b[37m\u001b[0m \u001b[1m0s\u001b[0m 3ms/step - Attrition_accuracy: 0.8290 - Attrition_loss: 0.4315 - Department_accuracy: 0.6206 - Department_loss: 0.4852 - loss: 0.9167 - val_Attrition_accuracy: 0.8552 - val_Attrition_loss: 0.3897 - val_Department_accuracy: 0.6471 - val_Department_loss: 0.5006 - val_loss: 0.8916\n",
      "Epoch 54/100\n",
      "\u001b[1m28/28\u001b[0m \u001b[32m━━━━━━━━━━━━━━━━━━━━\u001b[0m\u001b[37m\u001b[0m \u001b[1m0s\u001b[0m 3ms/step - Attrition_accuracy: 0.8215 - Attrition_loss: 0.4409 - Department_accuracy: 0.6210 - Department_loss: 0.4798 - loss: 0.9206 - val_Attrition_accuracy: 0.8552 - val_Attrition_loss: 0.3844 - val_Department_accuracy: 0.6561 - val_Department_loss: 0.4934 - val_loss: 0.8792\n",
      "Epoch 55/100\n",
      "\u001b[1m28/28\u001b[0m \u001b[32m━━━━━━━━━━━━━━━━━━━━\u001b[0m\u001b[37m\u001b[0m \u001b[1m0s\u001b[0m 3ms/step - Attrition_accuracy: 0.8519 - Attrition_loss: 0.3874 - Department_accuracy: 0.6686 - Department_loss: 0.4596 - loss: 0.8469 - val_Attrition_accuracy: 0.8507 - val_Attrition_loss: 0.4057 - val_Department_accuracy: 0.6471 - val_Department_loss: 0.5122 - val_loss: 0.9190\n",
      "Epoch 56/100\n",
      "\u001b[1m28/28\u001b[0m \u001b[32m━━━━━━━━━━━━━━━━━━━━\u001b[0m\u001b[37m\u001b[0m \u001b[1m0s\u001b[0m 3ms/step - Attrition_accuracy: 0.8363 - Attrition_loss: 0.4045 - Department_accuracy: 0.6191 - Department_loss: 0.4921 - loss: 0.8967 - val_Attrition_accuracy: 0.8597 - val_Attrition_loss: 0.3827 - val_Department_accuracy: 0.6516 - val_Department_loss: 0.5026 - val_loss: 0.8875\n",
      "Epoch 57/100\n",
      "\u001b[1m28/28\u001b[0m \u001b[32m━━━━━━━━━━━━━━━━━━━━\u001b[0m\u001b[37m\u001b[0m \u001b[1m0s\u001b[0m 3ms/step - Attrition_accuracy: 0.8415 - Attrition_loss: 0.4032 - Department_accuracy: 0.6692 - Department_loss: 0.4635 - loss: 0.8668 - val_Attrition_accuracy: 0.8552 - val_Attrition_loss: 0.3964 - val_Department_accuracy: 0.6244 - val_Department_loss: 0.5103 - val_loss: 0.9075\n",
      "Epoch 58/100\n",
      "\u001b[1m28/28\u001b[0m \u001b[32m━━━━━━━━━━━━━━━━━━━━\u001b[0m\u001b[37m\u001b[0m \u001b[1m0s\u001b[0m 3ms/step - Attrition_accuracy: 0.8577 - Attrition_loss: 0.3782 - Department_accuracy: 0.6096 - Department_loss: 0.4861 - loss: 0.8641 - val_Attrition_accuracy: 0.8552 - val_Attrition_loss: 0.3966 - val_Department_accuracy: 0.6516 - val_Department_loss: 0.5028 - val_loss: 0.9012\n",
      "Epoch 59/100\n",
      "\u001b[1m28/28\u001b[0m \u001b[32m━━━━━━━━━━━━━━━━━━━━\u001b[0m\u001b[37m\u001b[0m \u001b[1m0s\u001b[0m 3ms/step - Attrition_accuracy: 0.8382 - Attrition_loss: 0.4061 - Department_accuracy: 0.6392 - Department_loss: 0.4770 - loss: 0.8831 - val_Attrition_accuracy: 0.8552 - val_Attrition_loss: 0.3806 - val_Department_accuracy: 0.6516 - val_Department_loss: 0.5068 - val_loss: 0.8890\n",
      "Epoch 60/100\n",
      "\u001b[1m28/28\u001b[0m \u001b[32m━━━━━━━━━━━━━━━━━━━━\u001b[0m\u001b[37m\u001b[0m \u001b[1m0s\u001b[0m 3ms/step - Attrition_accuracy: 0.8464 - Attrition_loss: 0.3928 - Department_accuracy: 0.6579 - Department_loss: 0.4683 - loss: 0.8609 - val_Attrition_accuracy: 0.8507 - val_Attrition_loss: 0.4056 - val_Department_accuracy: 0.6109 - val_Department_loss: 0.5113 - val_loss: 0.9176\n",
      "Epoch 61/100\n",
      "\u001b[1m28/28\u001b[0m \u001b[32m━━━━━━━━━━━━━━━━━━━━\u001b[0m\u001b[37m\u001b[0m \u001b[1m0s\u001b[0m 3ms/step - Attrition_accuracy: 0.8323 - Attrition_loss: 0.4329 - Department_accuracy: 0.5757 - Department_loss: 0.5023 - loss: 0.9355 - val_Attrition_accuracy: 0.8552 - val_Attrition_loss: 0.3957 - val_Department_accuracy: 0.6606 - val_Department_loss: 0.4975 - val_loss: 0.8946\n",
      "Epoch 62/100\n",
      "\u001b[1m28/28\u001b[0m \u001b[32m━━━━━━━━━━━━━━━━━━━━\u001b[0m\u001b[37m\u001b[0m \u001b[1m0s\u001b[0m 3ms/step - Attrition_accuracy: 0.8375 - Attrition_loss: 0.4028 - Department_accuracy: 0.6209 - Department_loss: 0.4830 - loss: 0.8855 - val_Attrition_accuracy: 0.8597 - val_Attrition_loss: 0.4123 - val_Department_accuracy: 0.6561 - val_Department_loss: 0.5119 - val_loss: 0.9263\n",
      "Epoch 63/100\n",
      "\u001b[1m28/28\u001b[0m \u001b[32m━━━━━━━━━━━━━━━━━━━━\u001b[0m\u001b[37m\u001b[0m \u001b[1m0s\u001b[0m 3ms/step - Attrition_accuracy: 0.8300 - Attrition_loss: 0.4290 - Department_accuracy: 0.6439 - Department_loss: 0.4692 - loss: 0.8982 - val_Attrition_accuracy: 0.8552 - val_Attrition_loss: 0.3959 - val_Department_accuracy: 0.6561 - val_Department_loss: 0.5110 - val_loss: 0.9085\n",
      "Epoch 64/100\n",
      "\u001b[1m28/28\u001b[0m \u001b[32m━━━━━━━━━━━━━━━━━━━━\u001b[0m\u001b[37m\u001b[0m \u001b[1m0s\u001b[0m 3ms/step - Attrition_accuracy: 0.8321 - Attrition_loss: 0.4098 - Department_accuracy: 0.6454 - Department_loss: 0.4783 - loss: 0.8881 - val_Attrition_accuracy: 0.8552 - val_Attrition_loss: 0.3905 - val_Department_accuracy: 0.6516 - val_Department_loss: 0.5078 - val_loss: 0.8997\n",
      "Epoch 65/100\n",
      "\u001b[1m28/28\u001b[0m \u001b[32m━━━━━━━━━━━━━━━━━━━━\u001b[0m\u001b[37m\u001b[0m \u001b[1m0s\u001b[0m 3ms/step - Attrition_accuracy: 0.8368 - Attrition_loss: 0.4215 - Department_accuracy: 0.6407 - Department_loss: 0.4734 - loss: 0.8952 - val_Attrition_accuracy: 0.8552 - val_Attrition_loss: 0.3867 - val_Department_accuracy: 0.6561 - val_Department_loss: 0.5085 - val_loss: 0.8970\n",
      "Epoch 66/100\n",
      "\u001b[1m28/28\u001b[0m \u001b[32m━━━━━━━━━━━━━━━━━━━━\u001b[0m\u001b[37m\u001b[0m \u001b[1m0s\u001b[0m 3ms/step - Attrition_accuracy: 0.8400 - Attrition_loss: 0.3988 - Department_accuracy: 0.6610 - Department_loss: 0.4737 - loss: 0.8725 - val_Attrition_accuracy: 0.8597 - val_Attrition_loss: 0.3960 - val_Department_accuracy: 0.6471 - val_Department_loss: 0.5074 - val_loss: 0.9050\n",
      "Epoch 67/100\n",
      "\u001b[1m28/28\u001b[0m \u001b[32m━━━━━━━━━━━━━━━━━━━━\u001b[0m\u001b[37m\u001b[0m \u001b[1m0s\u001b[0m 3ms/step - Attrition_accuracy: 0.8222 - Attrition_loss: 0.4269 - Department_accuracy: 0.6272 - Department_loss: 0.4859 - loss: 0.9130 - val_Attrition_accuracy: 0.8597 - val_Attrition_loss: 0.3936 - val_Department_accuracy: 0.6561 - val_Department_loss: 0.5108 - val_loss: 0.9065\n",
      "Epoch 68/100\n",
      "\u001b[1m28/28\u001b[0m \u001b[32m━━━━━━━━━━━━━━━━━━━━\u001b[0m\u001b[37m\u001b[0m \u001b[1m0s\u001b[0m 3ms/step - Attrition_accuracy: 0.8460 - Attrition_loss: 0.3881 - Department_accuracy: 0.6548 - Department_loss: 0.4606 - loss: 0.8488 - val_Attrition_accuracy: 0.8643 - val_Attrition_loss: 0.4040 - val_Department_accuracy: 0.6471 - val_Department_loss: 0.5100 - val_loss: 0.9157\n",
      "Epoch 69/100\n",
      "\u001b[1m28/28\u001b[0m \u001b[32m━━━━━━━━━━━━━━━━━━━━\u001b[0m\u001b[37m\u001b[0m \u001b[1m0s\u001b[0m 3ms/step - Attrition_accuracy: 0.8545 - Attrition_loss: 0.3949 - Department_accuracy: 0.6520 - Department_loss: 0.4605 - loss: 0.8555 - val_Attrition_accuracy: 0.8552 - val_Attrition_loss: 0.4057 - val_Department_accuracy: 0.6290 - val_Department_loss: 0.5127 - val_loss: 0.9205\n",
      "Epoch 70/100\n",
      "\u001b[1m28/28\u001b[0m \u001b[32m━━━━━━━━━━━━━━━━━━━━\u001b[0m\u001b[37m\u001b[0m \u001b[1m0s\u001b[0m 3ms/step - Attrition_accuracy: 0.8498 - Attrition_loss: 0.3929 - Department_accuracy: 0.6390 - Department_loss: 0.4653 - loss: 0.8584 - val_Attrition_accuracy: 0.8597 - val_Attrition_loss: 0.4206 - val_Department_accuracy: 0.6516 - val_Department_loss: 0.5149 - val_loss: 0.9374\n",
      "Epoch 71/100\n",
      "\u001b[1m28/28\u001b[0m \u001b[32m━━━━━━━━━━━━━━━━━━━━\u001b[0m\u001b[37m\u001b[0m \u001b[1m0s\u001b[0m 4ms/step - Attrition_accuracy: 0.8378 - Attrition_loss: 0.4026 - Department_accuracy: 0.6077 - Department_loss: 0.4881 - loss: 0.8907 - val_Attrition_accuracy: 0.8733 - val_Attrition_loss: 0.3849 - val_Department_accuracy: 0.6471 - val_Department_loss: 0.4992 - val_loss: 0.8865\n",
      "Epoch 72/100\n",
      "\u001b[1m28/28\u001b[0m \u001b[32m━━━━━━━━━━━━━━━━━━━━\u001b[0m\u001b[37m\u001b[0m \u001b[1m0s\u001b[0m 3ms/step - Attrition_accuracy: 0.8267 - Attrition_loss: 0.4203 - Department_accuracy: 0.6402 - Department_loss: 0.4764 - loss: 0.8969 - val_Attrition_accuracy: 0.8552 - val_Attrition_loss: 0.3944 - val_Department_accuracy: 0.6471 - val_Department_loss: 0.5173 - val_loss: 0.9133\n",
      "Epoch 73/100\n",
      "\u001b[1m28/28\u001b[0m \u001b[32m━━━━━━━━━━━━━━━━━━━━\u001b[0m\u001b[37m\u001b[0m \u001b[1m0s\u001b[0m 3ms/step - Attrition_accuracy: 0.8340 - Attrition_loss: 0.4064 - Department_accuracy: 0.6209 - Department_loss: 0.4920 - loss: 0.8984 - val_Attrition_accuracy: 0.8507 - val_Attrition_loss: 0.3864 - val_Department_accuracy: 0.6561 - val_Department_loss: 0.5152 - val_loss: 0.9032\n",
      "Epoch 74/100\n",
      "\u001b[1m28/28\u001b[0m \u001b[32m━━━━━━━━━━━━━━━━━━━━\u001b[0m\u001b[37m\u001b[0m \u001b[1m0s\u001b[0m 3ms/step - Attrition_accuracy: 0.8298 - Attrition_loss: 0.4097 - Department_accuracy: 0.6345 - Department_loss: 0.4806 - loss: 0.8902 - val_Attrition_accuracy: 0.8507 - val_Attrition_loss: 0.3889 - val_Department_accuracy: 0.6561 - val_Department_loss: 0.5102 - val_loss: 0.9006\n",
      "Epoch 75/100\n",
      "\u001b[1m28/28\u001b[0m \u001b[32m━━━━━━━━━━━━━━━━━━━━\u001b[0m\u001b[37m\u001b[0m \u001b[1m0s\u001b[0m 3ms/step - Attrition_accuracy: 0.8447 - Attrition_loss: 0.3940 - Department_accuracy: 0.6510 - Department_loss: 0.4594 - loss: 0.8532 - val_Attrition_accuracy: 0.8597 - val_Attrition_loss: 0.3899 - val_Department_accuracy: 0.6516 - val_Department_loss: 0.5079 - val_loss: 0.8995\n",
      "Epoch 76/100\n",
      "\u001b[1m28/28\u001b[0m \u001b[32m━━━━━━━━━━━━━━━━━━━━\u001b[0m\u001b[37m\u001b[0m \u001b[1m0s\u001b[0m 3ms/step - Attrition_accuracy: 0.8455 - Attrition_loss: 0.3800 - Department_accuracy: 0.6506 - Department_loss: 0.4718 - loss: 0.8518 - val_Attrition_accuracy: 0.8507 - val_Attrition_loss: 0.3986 - val_Department_accuracy: 0.6471 - val_Department_loss: 0.5172 - val_loss: 0.9173\n",
      "Epoch 77/100\n",
      "\u001b[1m28/28\u001b[0m \u001b[32m━━━━━━━━━━━━━━━━━━━━\u001b[0m\u001b[37m\u001b[0m \u001b[1m0s\u001b[0m 3ms/step - Attrition_accuracy: 0.8387 - Attrition_loss: 0.4032 - Department_accuracy: 0.6559 - Department_loss: 0.4603 - loss: 0.8637 - val_Attrition_accuracy: 0.8688 - val_Attrition_loss: 0.3951 - val_Department_accuracy: 0.6561 - val_Department_loss: 0.5102 - val_loss: 0.9073\n",
      "Epoch 78/100\n",
      "\u001b[1m28/28\u001b[0m \u001b[32m━━━━━━━━━━━━━━━━━━━━\u001b[0m\u001b[37m\u001b[0m \u001b[1m0s\u001b[0m 3ms/step - Attrition_accuracy: 0.8194 - Attrition_loss: 0.4146 - Department_accuracy: 0.6427 - Department_loss: 0.4668 - loss: 0.8816 - val_Attrition_accuracy: 0.8552 - val_Attrition_loss: 0.3876 - val_Department_accuracy: 0.6425 - val_Department_loss: 0.5202 - val_loss: 0.9099\n",
      "Epoch 79/100\n",
      "\u001b[1m28/28\u001b[0m \u001b[32m━━━━━━━━━━━━━━━━━━━━\u001b[0m\u001b[37m\u001b[0m \u001b[1m0s\u001b[0m 3ms/step - Attrition_accuracy: 0.8285 - Attrition_loss: 0.4263 - Department_accuracy: 0.6436 - Department_loss: 0.4647 - loss: 0.8909 - val_Attrition_accuracy: 0.8597 - val_Attrition_loss: 0.3702 - val_Department_accuracy: 0.6471 - val_Department_loss: 0.5104 - val_loss: 0.8826\n",
      "Epoch 80/100\n",
      "\u001b[1m28/28\u001b[0m \u001b[32m━━━━━━━━━━━━━━━━━━━━\u001b[0m\u001b[37m\u001b[0m \u001b[1m0s\u001b[0m 3ms/step - Attrition_accuracy: 0.8377 - Attrition_loss: 0.4000 - Department_accuracy: 0.6405 - Department_loss: 0.4800 - loss: 0.8800 - val_Attrition_accuracy: 0.8597 - val_Attrition_loss: 0.3958 - val_Department_accuracy: 0.6516 - val_Department_loss: 0.5193 - val_loss: 0.9173\n",
      "Epoch 81/100\n",
      "\u001b[1m28/28\u001b[0m \u001b[32m━━━━━━━━━━━━━━━━━━━━\u001b[0m\u001b[37m\u001b[0m \u001b[1m0s\u001b[0m 3ms/step - Attrition_accuracy: 0.8614 - Attrition_loss: 0.3608 - Department_accuracy: 0.6555 - Department_loss: 0.4627 - loss: 0.8235 - val_Attrition_accuracy: 0.8326 - val_Attrition_loss: 0.4504 - val_Department_accuracy: 0.6425 - val_Department_loss: 0.5255 - val_loss: 0.9782\n",
      "Epoch 82/100\n",
      "\u001b[1m28/28\u001b[0m \u001b[32m━━━━━━━━━━━━━━━━━━━━\u001b[0m\u001b[37m\u001b[0m \u001b[1m0s\u001b[0m 3ms/step - Attrition_accuracy: 0.8402 - Attrition_loss: 0.4004 - Department_accuracy: 0.6289 - Department_loss: 0.4768 - loss: 0.8772 - val_Attrition_accuracy: 0.8597 - val_Attrition_loss: 0.3766 - val_Department_accuracy: 0.6516 - val_Department_loss: 0.5114 - val_loss: 0.8897\n",
      "Epoch 83/100\n",
      "\u001b[1m28/28\u001b[0m \u001b[32m━━━━━━━━━━━━━━━━━━━━\u001b[0m\u001b[37m\u001b[0m \u001b[1m0s\u001b[0m 3ms/step - Attrition_accuracy: 0.8532 - Attrition_loss: 0.3697 - Department_accuracy: 0.6517 - Department_loss: 0.4620 - loss: 0.8314 - val_Attrition_accuracy: 0.8552 - val_Attrition_loss: 0.4032 - val_Department_accuracy: 0.6154 - val_Department_loss: 0.5272 - val_loss: 0.9323\n",
      "Epoch 84/100\n",
      "\u001b[1m28/28\u001b[0m \u001b[32m━━━━━━━━━━━━━━━━━━━━\u001b[0m\u001b[37m\u001b[0m \u001b[1m0s\u001b[0m 3ms/step - Attrition_accuracy: 0.8452 - Attrition_loss: 0.3963 - Department_accuracy: 0.6572 - Department_loss: 0.4507 - loss: 0.8465 - val_Attrition_accuracy: 0.8507 - val_Attrition_loss: 0.3944 - val_Department_accuracy: 0.6425 - val_Department_loss: 0.5204 - val_loss: 0.9162\n",
      "Epoch 85/100\n",
      "\u001b[1m28/28\u001b[0m \u001b[32m━━━━━━━━━━━━━━━━━━━━\u001b[0m\u001b[37m\u001b[0m \u001b[1m0s\u001b[0m 3ms/step - Attrition_accuracy: 0.8227 - Attrition_loss: 0.3988 - Department_accuracy: 0.6482 - Department_loss: 0.4729 - loss: 0.8717 - val_Attrition_accuracy: 0.8507 - val_Attrition_loss: 0.3890 - val_Department_accuracy: 0.6425 - val_Department_loss: 0.5243 - val_loss: 0.9152\n",
      "Epoch 86/100\n",
      "\u001b[1m28/28\u001b[0m \u001b[32m━━━━━━━━━━━━━━━━━━━━\u001b[0m\u001b[37m\u001b[0m \u001b[1m0s\u001b[0m 4ms/step - Attrition_accuracy: 0.8393 - Attrition_loss: 0.3902 - Department_accuracy: 0.6471 - Department_loss: 0.4629 - loss: 0.8527 - val_Attrition_accuracy: 0.8733 - val_Attrition_loss: 0.3990 - val_Department_accuracy: 0.6471 - val_Department_loss: 0.5211 - val_loss: 0.9226\n",
      "Epoch 87/100\n",
      "\u001b[1m28/28\u001b[0m \u001b[32m━━━━━━━━━━━━━━━━━━━━\u001b[0m\u001b[37m\u001b[0m \u001b[1m0s\u001b[0m 3ms/step - Attrition_accuracy: 0.8363 - Attrition_loss: 0.3766 - Department_accuracy: 0.6511 - Department_loss: 0.4583 - loss: 0.8349 - val_Attrition_accuracy: 0.8733 - val_Attrition_loss: 0.3780 - val_Department_accuracy: 0.6471 - val_Department_loss: 0.5189 - val_loss: 0.8994\n",
      "Epoch 88/100\n",
      "\u001b[1m28/28\u001b[0m \u001b[32m━━━━━━━━━━━━━━━━━━━━\u001b[0m\u001b[37m\u001b[0m \u001b[1m0s\u001b[0m 4ms/step - Attrition_accuracy: 0.8459 - Attrition_loss: 0.3855 - Department_accuracy: 0.6694 - Department_loss: 0.4442 - loss: 0.8296 - val_Attrition_accuracy: 0.8597 - val_Attrition_loss: 0.3917 - val_Department_accuracy: 0.6516 - val_Department_loss: 0.5281 - val_loss: 0.9224\n",
      "Epoch 89/100\n",
      "\u001b[1m28/28\u001b[0m \u001b[32m━━━━━━━━━━━━━━━━━━━━\u001b[0m\u001b[37m\u001b[0m \u001b[1m0s\u001b[0m 3ms/step - Attrition_accuracy: 0.8498 - Attrition_loss: 0.3837 - Department_accuracy: 0.6405 - Department_loss: 0.4665 - loss: 0.8503 - val_Attrition_accuracy: 0.8643 - val_Attrition_loss: 0.4119 - val_Department_accuracy: 0.6425 - val_Department_loss: 0.5227 - val_loss: 0.9373\n",
      "Epoch 90/100\n",
      "\u001b[1m28/28\u001b[0m \u001b[32m━━━━━━━━━━━━━━━━━━━━\u001b[0m\u001b[37m\u001b[0m \u001b[1m0s\u001b[0m 4ms/step - Attrition_accuracy: 0.8527 - Attrition_loss: 0.3885 - Department_accuracy: 0.6438 - Department_loss: 0.4616 - loss: 0.8500 - val_Attrition_accuracy: 0.8643 - val_Attrition_loss: 0.3857 - val_Department_accuracy: 0.6471 - val_Department_loss: 0.5214 - val_loss: 0.9096\n",
      "Epoch 91/100\n",
      "\u001b[1m28/28\u001b[0m \u001b[32m━━━━━━━━━━━━━━━━━━━━\u001b[0m\u001b[37m\u001b[0m \u001b[1m0s\u001b[0m 4ms/step - Attrition_accuracy: 0.8334 - Attrition_loss: 0.3966 - Department_accuracy: 0.6497 - Department_loss: 0.4546 - loss: 0.8510 - val_Attrition_accuracy: 0.8597 - val_Attrition_loss: 0.4249 - val_Department_accuracy: 0.6471 - val_Department_loss: 0.5163 - val_loss: 0.9421\n",
      "Epoch 92/100\n",
      "\u001b[1m28/28\u001b[0m \u001b[32m━━━━━━━━━━━━━━━━━━━━\u001b[0m\u001b[37m\u001b[0m \u001b[1m0s\u001b[0m 4ms/step - Attrition_accuracy: 0.8442 - Attrition_loss: 0.3954 - Department_accuracy: 0.6279 - Department_loss: 0.4806 - loss: 0.8761 - val_Attrition_accuracy: 0.8552 - val_Attrition_loss: 0.3894 - val_Department_accuracy: 0.6516 - val_Department_loss: 0.5244 - val_loss: 0.9160\n",
      "Epoch 93/100\n",
      "\u001b[1m28/28\u001b[0m \u001b[32m━━━━━━━━━━━━━━━━━━━━\u001b[0m\u001b[37m\u001b[0m \u001b[1m0s\u001b[0m 4ms/step - Attrition_accuracy: 0.8507 - Attrition_loss: 0.3641 - Department_accuracy: 0.6488 - Department_loss: 0.4586 - loss: 0.8228 - val_Attrition_accuracy: 0.8597 - val_Attrition_loss: 0.3898 - val_Department_accuracy: 0.6380 - val_Department_loss: 0.5290 - val_loss: 0.9213\n",
      "Epoch 94/100\n",
      "\u001b[1m28/28\u001b[0m \u001b[32m━━━━━━━━━━━━━━━━━━━━\u001b[0m\u001b[37m\u001b[0m \u001b[1m0s\u001b[0m 3ms/step - Attrition_accuracy: 0.8591 - Attrition_loss: 0.3545 - Department_accuracy: 0.6456 - Department_loss: 0.4669 - loss: 0.8208 - val_Attrition_accuracy: 0.8507 - val_Attrition_loss: 0.4130 - val_Department_accuracy: 0.6516 - val_Department_loss: 0.5401 - val_loss: 0.9563\n",
      "Epoch 95/100\n",
      "\u001b[1m28/28\u001b[0m \u001b[32m━━━━━━━━━━━━━━━━━━━━\u001b[0m\u001b[37m\u001b[0m \u001b[1m0s\u001b[0m 3ms/step - Attrition_accuracy: 0.8373 - Attrition_loss: 0.3924 - Department_accuracy: 0.6648 - Department_loss: 0.4572 - loss: 0.8499 - val_Attrition_accuracy: 0.8597 - val_Attrition_loss: 0.3769 - val_Department_accuracy: 0.6335 - val_Department_loss: 0.5418 - val_loss: 0.9214\n",
      "Epoch 96/100\n",
      "\u001b[1m28/28\u001b[0m \u001b[32m━━━━━━━━━━━━━━━━━━━━\u001b[0m\u001b[37m\u001b[0m \u001b[1m0s\u001b[0m 3ms/step - Attrition_accuracy: 0.8587 - Attrition_loss: 0.3517 - Department_accuracy: 0.6513 - Department_loss: 0.4684 - loss: 0.8201 - val_Attrition_accuracy: 0.8643 - val_Attrition_loss: 0.4016 - val_Department_accuracy: 0.6471 - val_Department_loss: 0.5339 - val_loss: 0.9382\n",
      "Epoch 97/100\n",
      "\u001b[1m28/28\u001b[0m \u001b[32m━━━━━━━━━━━━━━━━━━━━\u001b[0m\u001b[37m\u001b[0m \u001b[1m0s\u001b[0m 3ms/step - Attrition_accuracy: 0.8410 - Attrition_loss: 0.3795 - Department_accuracy: 0.6640 - Department_loss: 0.4461 - loss: 0.8254 - val_Attrition_accuracy: 0.8733 - val_Attrition_loss: 0.3812 - val_Department_accuracy: 0.6425 - val_Department_loss: 0.5252 - val_loss: 0.9088\n",
      "Epoch 98/100\n",
      "\u001b[1m28/28\u001b[0m \u001b[32m━━━━━━━━━━━━━━━━━━━━\u001b[0m\u001b[37m\u001b[0m \u001b[1m0s\u001b[0m 3ms/step - Attrition_accuracy: 0.8401 - Attrition_loss: 0.3714 - Department_accuracy: 0.6570 - Department_loss: 0.4529 - loss: 0.8243 - val_Attrition_accuracy: 0.8552 - val_Attrition_loss: 0.3979 - val_Department_accuracy: 0.6335 - val_Department_loss: 0.5265 - val_loss: 0.9270\n",
      "Epoch 99/100\n",
      "\u001b[1m28/28\u001b[0m \u001b[32m━━━━━━━━━━━━━━━━━━━━\u001b[0m\u001b[37m\u001b[0m \u001b[1m0s\u001b[0m 3ms/step - Attrition_accuracy: 0.8398 - Attrition_loss: 0.3897 - Department_accuracy: 0.6636 - Department_loss: 0.4498 - loss: 0.8396 - val_Attrition_accuracy: 0.8507 - val_Attrition_loss: 0.3964 - val_Department_accuracy: 0.6244 - val_Department_loss: 0.5317 - val_loss: 0.9301\n",
      "Epoch 100/100\n",
      "\u001b[1m28/28\u001b[0m \u001b[32m━━━━━━━━━━━━━━━━━━━━\u001b[0m\u001b[37m\u001b[0m \u001b[1m0s\u001b[0m 3ms/step - Attrition_accuracy: 0.8297 - Attrition_loss: 0.3962 - Department_accuracy: 0.6650 - Department_loss: 0.4463 - loss: 0.8429 - val_Attrition_accuracy: 0.8507 - val_Attrition_loss: 0.3927 - val_Department_accuracy: 0.6244 - val_Department_loss: 0.5287 - val_loss: 0.9238\n"
     ]
    },
    {
     "data": {
      "text/plain": [
       "<keras.src.callbacks.history.History at 0x17158a250f0>"
      ]
     },
     "execution_count": 33,
     "metadata": {},
     "output_type": "execute_result"
    }
   ],
   "source": [
    "# Train the model\n",
    "model.fit(X_train_scaled, {'Attrition': y_train_ohe_att, 'Department': y_train_ohe_dept}, epochs=100, batch_size=32, validation_split=0.2)\n"
   ]
  },
  {
   "cell_type": "code",
   "execution_count": 34,
   "metadata": {
    "colab": {
     "base_uri": "https://localhost:8080/"
    },
    "executionInfo": {
     "elapsed": 379,
     "status": "ok",
     "timestamp": 1730699259894,
     "user": {
      "displayName": "Alexander Booth",
      "userId": "02269714993535573104"
     },
     "user_tz": 360
    },
    "id": "VsMoaQlgGc3U",
    "outputId": "636c85ba-ee63-4087-b7d1-00b408f1055a"
   },
   "outputs": [
    {
     "name": "stdout",
     "output_type": "stream",
     "text": [
      "12/12 - 0s - 4ms/step - Attrition_accuracy: 0.7989 - Attrition_loss: 0.9612 - Department_accuracy: 0.3859 - Department_loss: 1.0587 - loss: 2.0627\n"
     ]
    }
   ],
   "source": [
    "# Evaluate the model with the testing data\n",
    "result = model.evaluate(np.array(X_test_scaled), {'Attrition': y_test_ohe_att, 'Department': y_test_ohe_dept}, verbose=2)\n"
   ]
  },
  {
   "cell_type": "code",
   "execution_count": 40,
   "metadata": {
    "colab": {
     "base_uri": "https://localhost:8080/"
    },
    "executionInfo": {
     "elapsed": 113,
     "status": "ok",
     "timestamp": 1730699260004,
     "user": {
      "displayName": "Alexander Booth",
      "userId": "02269714993535573104"
     },
     "user_tz": 360
    },
    "id": "ZlCtlHi0Vt54",
    "outputId": "3a32435c-11cf-48da-81b5-1431d6c00da2"
   },
   "outputs": [
    {
     "name": "stdout",
     "output_type": "stream",
     "text": [
      "Attrition Accuracy: 96.11970782279968\n",
      "Department Accuracy: 38.5869562625885\n"
     ]
    }
   ],
   "source": [
    "# Print the accuracy for both department and attrition\n",
    "print(f\"Attrition Accuracy: {result[1] * 100}\")\n",
    "print(f\"Department Accuracy: {result[4] * 100}\")\n"
   ]
  },
  {
   "cell_type": "markdown",
   "metadata": {
    "id": "eGSyfsZfWOQM"
   },
   "source": [
    "# Summary\n",
    "\n",
    "In the provided space below, briefly answer the following questions.\n",
    "\n",
    "1. Is accuracy the best metric to use on this data? Why or why not?\n",
    "\n",
    "2. What activation functions did you choose for your output layers, and why?\n",
    "\n",
    "3. Can you name a few ways that this model might be improved?"
   ]
  },
  {
   "cell_type": "markdown",
   "metadata": {
    "id": "pi9SLpFnWvbF"
   },
   "source": [
    "YOUR ANSWERS HERE\n",
    "\n",
    "1. \n",
    "2. \n",
    "3. "
   ]
  },
  {
   "cell_type": "code",
   "execution_count": null,
   "metadata": {
    "executionInfo": {
     "elapsed": 3,
     "status": "ok",
     "timestamp": 1730699260004,
     "user": {
      "displayName": "Alexander Booth",
      "userId": "02269714993535573104"
     },
     "user_tz": 360
    },
    "id": "ZuQWjGgGXZ3C"
   },
   "outputs": [],
   "source": []
  }
 ],
 "metadata": {
  "colab": {
   "provenance": []
  },
  "kernelspec": {
   "display_name": "dev",
   "language": "python",
   "name": "python3"
  },
  "language_info": {
   "codemirror_mode": {
    "name": "ipython",
    "version": 3
   },
   "file_extension": ".py",
   "mimetype": "text/x-python",
   "name": "python",
   "nbconvert_exporter": "python",
   "pygments_lexer": "ipython3",
   "version": "3.10.15"
  }
 },
 "nbformat": 4,
 "nbformat_minor": 0
}
